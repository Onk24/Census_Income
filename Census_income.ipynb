{
 "cells": [
  {
   "cell_type": "markdown",
   "metadata": {},
   "source": [
    "Goal <br>\n",
    "The goal of this project is to profile people in the above dataset based on available demographic attributes, and tell a story to non-technical audience on your findings. <br>\n",
    "Example questions to guide your exploration include: <br>\n",
    "1)\tWhat are the key factors contributing to high vs. low income? <br>\n",
    "2)\tAre there any significant gaps in these Census attributes by gender or race? <br>\n",
    "3)\tWho are most likely to be successful investors? <br>\n",
    "You are welcome to explore beyond these questions, if you discover anything else that might interest you along the way."
   ]
  },
  {
   "cell_type": "markdown",
   "metadata": {},
   "source": [
    "# 1. Questions: <br>\n",
    "1) Key factors contributing to high vs low income? <br>\n",
    "2) What is the profile of people having high income vs low income? <br>\n",
    "3) Is the gap between income by gender or race significant? <br>\n",
    "4) How can we predict if a person has high / low income? <br>\n",
    "5) How can we find the people who would be successful inverstors? <br>"
   ]
  },
  {
   "cell_type": "markdown",
   "metadata": {},
   "source": [
    "# 2. Importing data "
   ]
  },
  {
   "cell_type": "code",
   "execution_count": 270,
   "metadata": {
    "ExecuteTime": {
     "end_time": "2020-03-03T12:34:19.454875Z",
     "start_time": "2020-03-03T12:34:19.450885Z"
    }
   },
   "outputs": [],
   "source": [
    "#Importing libraries\n",
    "import pandas as pd\n",
    "import io\n",
    "import requests\n",
    "import numpy as np\n",
    "from matplotlib import pyplot as plt\n",
    "import seaborn as sns\n",
    "from scipy.stats import chi2_contingency\n",
    "from scipy.stats import chi2\n",
    "import statsmodels.api as sm"
   ]
  },
  {
   "cell_type": "code",
   "execution_count": 271,
   "metadata": {
    "ExecuteTime": {
     "end_time": "2020-03-03T12:34:21.577848Z",
     "start_time": "2020-03-03T12:34:19.826146Z"
    }
   },
   "outputs": [],
   "source": [
    "url=\"https://archive.ics.uci.edu/ml/machine-learning-databases/adult/adult.data\"\n",
    "content =requests.get(url).content\n",
    "columns = [\"age\", \"workingclass\", \"fnlwgt\", \"education\", \"education-num\", \"marital-status\", \"occupation\" , \"relationship\", \"race\", \"sex\", \"capital-gain\", \"capital-loss\", \"hours-per-week\", \"native-country\", \"income\"] \n",
    "adult_df=pd.read_csv(io.StringIO(content.decode('utf-8')), header = None)"
   ]
  },
  {
   "cell_type": "code",
   "execution_count": 272,
   "metadata": {
    "ExecuteTime": {
     "end_time": "2020-03-03T12:34:21.594763Z",
     "start_time": "2020-03-03T12:34:21.578804Z"
    }
   },
   "outputs": [
    {
     "data": {
      "text/html": [
       "<div>\n",
       "<style scoped>\n",
       "    .dataframe tbody tr th:only-of-type {\n",
       "        vertical-align: middle;\n",
       "    }\n",
       "\n",
       "    .dataframe tbody tr th {\n",
       "        vertical-align: top;\n",
       "    }\n",
       "\n",
       "    .dataframe thead th {\n",
       "        text-align: right;\n",
       "    }\n",
       "</style>\n",
       "<table border=\"1\" class=\"dataframe\">\n",
       "  <thead>\n",
       "    <tr style=\"text-align: right;\">\n",
       "      <th></th>\n",
       "      <th>age</th>\n",
       "      <th>workingclass</th>\n",
       "      <th>fnlwgt</th>\n",
       "      <th>education</th>\n",
       "      <th>education-num</th>\n",
       "      <th>marital-status</th>\n",
       "      <th>occupation</th>\n",
       "      <th>relationship</th>\n",
       "      <th>race</th>\n",
       "      <th>sex</th>\n",
       "      <th>capital-gain</th>\n",
       "      <th>capital-loss</th>\n",
       "      <th>hours-per-week</th>\n",
       "      <th>native-country</th>\n",
       "      <th>income</th>\n",
       "    </tr>\n",
       "  </thead>\n",
       "  <tbody>\n",
       "    <tr>\n",
       "      <td>0</td>\n",
       "      <td>39</td>\n",
       "      <td>State-gov</td>\n",
       "      <td>77516</td>\n",
       "      <td>Bachelors</td>\n",
       "      <td>13</td>\n",
       "      <td>Never-married</td>\n",
       "      <td>Adm-clerical</td>\n",
       "      <td>Not-in-family</td>\n",
       "      <td>White</td>\n",
       "      <td>Male</td>\n",
       "      <td>2174</td>\n",
       "      <td>0</td>\n",
       "      <td>40</td>\n",
       "      <td>United-States</td>\n",
       "      <td>&lt;=50K</td>\n",
       "    </tr>\n",
       "    <tr>\n",
       "      <td>1</td>\n",
       "      <td>50</td>\n",
       "      <td>Self-emp-not-inc</td>\n",
       "      <td>83311</td>\n",
       "      <td>Bachelors</td>\n",
       "      <td>13</td>\n",
       "      <td>Married-civ-spouse</td>\n",
       "      <td>Exec-managerial</td>\n",
       "      <td>Husband</td>\n",
       "      <td>White</td>\n",
       "      <td>Male</td>\n",
       "      <td>0</td>\n",
       "      <td>0</td>\n",
       "      <td>13</td>\n",
       "      <td>United-States</td>\n",
       "      <td>&lt;=50K</td>\n",
       "    </tr>\n",
       "    <tr>\n",
       "      <td>2</td>\n",
       "      <td>38</td>\n",
       "      <td>Private</td>\n",
       "      <td>215646</td>\n",
       "      <td>HS-grad</td>\n",
       "      <td>9</td>\n",
       "      <td>Divorced</td>\n",
       "      <td>Handlers-cleaners</td>\n",
       "      <td>Not-in-family</td>\n",
       "      <td>White</td>\n",
       "      <td>Male</td>\n",
       "      <td>0</td>\n",
       "      <td>0</td>\n",
       "      <td>40</td>\n",
       "      <td>United-States</td>\n",
       "      <td>&lt;=50K</td>\n",
       "    </tr>\n",
       "    <tr>\n",
       "      <td>3</td>\n",
       "      <td>53</td>\n",
       "      <td>Private</td>\n",
       "      <td>234721</td>\n",
       "      <td>11th</td>\n",
       "      <td>7</td>\n",
       "      <td>Married-civ-spouse</td>\n",
       "      <td>Handlers-cleaners</td>\n",
       "      <td>Husband</td>\n",
       "      <td>Black</td>\n",
       "      <td>Male</td>\n",
       "      <td>0</td>\n",
       "      <td>0</td>\n",
       "      <td>40</td>\n",
       "      <td>United-States</td>\n",
       "      <td>&lt;=50K</td>\n",
       "    </tr>\n",
       "    <tr>\n",
       "      <td>4</td>\n",
       "      <td>28</td>\n",
       "      <td>Private</td>\n",
       "      <td>338409</td>\n",
       "      <td>Bachelors</td>\n",
       "      <td>13</td>\n",
       "      <td>Married-civ-spouse</td>\n",
       "      <td>Prof-specialty</td>\n",
       "      <td>Wife</td>\n",
       "      <td>Black</td>\n",
       "      <td>Female</td>\n",
       "      <td>0</td>\n",
       "      <td>0</td>\n",
       "      <td>40</td>\n",
       "      <td>Cuba</td>\n",
       "      <td>&lt;=50K</td>\n",
       "    </tr>\n",
       "  </tbody>\n",
       "</table>\n",
       "</div>"
      ],
      "text/plain": [
       "   age       workingclass  fnlwgt   education  education-num  \\\n",
       "0   39          State-gov   77516   Bachelors             13   \n",
       "1   50   Self-emp-not-inc   83311   Bachelors             13   \n",
       "2   38            Private  215646     HS-grad              9   \n",
       "3   53            Private  234721        11th              7   \n",
       "4   28            Private  338409   Bachelors             13   \n",
       "\n",
       "        marital-status          occupation    relationship    race      sex  \\\n",
       "0        Never-married        Adm-clerical   Not-in-family   White     Male   \n",
       "1   Married-civ-spouse     Exec-managerial         Husband   White     Male   \n",
       "2             Divorced   Handlers-cleaners   Not-in-family   White     Male   \n",
       "3   Married-civ-spouse   Handlers-cleaners         Husband   Black     Male   \n",
       "4   Married-civ-spouse      Prof-specialty            Wife   Black   Female   \n",
       "\n",
       "   capital-gain  capital-loss  hours-per-week  native-country  income  \n",
       "0          2174             0              40   United-States   <=50K  \n",
       "1             0             0              13   United-States   <=50K  \n",
       "2             0             0              40   United-States   <=50K  \n",
       "3             0             0              40   United-States   <=50K  \n",
       "4             0             0              40            Cuba   <=50K  "
      ]
     },
     "execution_count": 272,
     "metadata": {},
     "output_type": "execute_result"
    }
   ],
   "source": [
    "adult_df.columns = columns\n",
    "adult_df.head()"
   ]
  },
  {
   "cell_type": "markdown",
   "metadata": {},
   "source": [
    "# 3. Exploratory data analysis"
   ]
  },
  {
   "cell_type": "markdown",
   "metadata": {},
   "source": [
    "## 1) Dataset information from UCI"
   ]
  },
  {
   "cell_type": "markdown",
   "metadata": {},
   "source": [
    "UCI has given information about the data and features. We need to understand it thoroughly before we do any analysis."
   ]
  },
  {
   "cell_type": "markdown",
   "metadata": {},
   "source": [
    "The data is extracted from 1994 Census database using the following conditions: ((AAGE>16) && (AGI>100) && (AFNLWGT>1)&& (HRSWK>0)) <br>\n",
    "Following are the attributes and their types: <br>\n",
    "&emsp;1) **age:** continuous <br>\n",
    "&emsp;2) **workclass:** categorical  <br>\n",
    "&emsp;3) **fnlwgt:** continuous, represents the number of units the record represents in the population. Unclear of it's usage <br>\n",
    "&emsp;4) **education:** categorical <br>\n",
    "&emsp;5) **education-num:** continuous<br>\n",
    "&emsp;6) **marital-status:** categorical <br>\n",
    "&emsp;7) **occupation:** categorical <br>\n",
    "&emsp;8) **relationship:** categorical. Values - Wife, Own-child, Husband, Not-in-family, Other-relative, Unmarried. Unclear of it's usage as a person might have multiple relationships <br>\n",
    "&emsp;9) **race:** categorical<br>\n",
    "&emsp;10) **sex:** categorical<br>\n",
    "&emsp;11) **capital-gain:** continuous <br>\n",
    "&emsp;12) **capital-loss:** continuous <br>\n",
    "&emsp;13) **hours-per-week:** continuous, number of work the person has worked for in a week<br>\n",
    "&emsp;14) **native-country:** categorical <br>\n",
    "&emsp;15) **income:** categorical, class (not attribute) <=50K and >50K"
   ]
  },
  {
   "cell_type": "markdown",
   "metadata": {},
   "source": [
    "##  2) High level overview"
   ]
  },
  {
   "cell_type": "code",
   "execution_count": 273,
   "metadata": {
    "ExecuteTime": {
     "end_time": "2020-03-03T12:34:23.987938Z",
     "start_time": "2020-03-03T12:34:23.983979Z"
    }
   },
   "outputs": [
    {
     "data": {
      "text/plain": [
       "(32561, 15)"
      ]
     },
     "execution_count": 273,
     "metadata": {},
     "output_type": "execute_result"
    }
   ],
   "source": [
    "#Attribute statistics \n",
    "adult_df.shape"
   ]
  },
  {
   "cell_type": "markdown",
   "metadata": {},
   "source": [
    "We have 32,561 records and 14 attributes. Last column is the income class"
   ]
  },
  {
   "cell_type": "code",
   "execution_count": 274,
   "metadata": {
    "ExecuteTime": {
     "end_time": "2020-03-03T12:34:29.061794Z",
     "start_time": "2020-03-03T12:34:28.962647Z"
    }
   },
   "outputs": [],
   "source": [
    "#removing end blank spaces\n",
    "df_obj = adult_df.select_dtypes(['object'])\n",
    "adult_df[df_obj.columns] = df_obj.apply(lambda x: x.str.strip())"
   ]
  },
  {
   "cell_type": "code",
   "execution_count": 275,
   "metadata": {
    "ExecuteTime": {
     "end_time": "2020-03-03T12:34:29.989020Z",
     "start_time": "2020-03-03T12:34:29.944142Z"
    }
   },
   "outputs": [
    {
     "data": {
      "text/plain": [
       "age                  0\n",
       "workingclass      1836\n",
       "fnlwgt               0\n",
       "education            0\n",
       "education-num        0\n",
       "marital-status       0\n",
       "occupation        1843\n",
       "relationship         0\n",
       "race                 0\n",
       "sex                  0\n",
       "capital-gain         0\n",
       "capital-loss         0\n",
       "hours-per-week       0\n",
       "native-country     583\n",
       "income               0\n",
       "dtype: int64"
      ]
     },
     "execution_count": 275,
     "metadata": {},
     "output_type": "execute_result"
    }
   ],
   "source": [
    "#Check for missing values in all the columns\n",
    "adult_df.isin([\"?\"]).sum()"
   ]
  },
  {
   "cell_type": "markdown",
   "metadata": {},
   "source": [
    "Since missing values are not many we can drop those rows which have missing values"
   ]
  },
  {
   "cell_type": "code",
   "execution_count": 276,
   "metadata": {
    "ExecuteTime": {
     "end_time": "2020-03-03T12:34:34.383243Z",
     "start_time": "2020-03-03T12:34:34.344348Z"
    }
   },
   "outputs": [],
   "source": [
    "adult_df = adult_df.loc[adult_df[\"workingclass\"] !=\"?\"]\n",
    "adult_df = adult_df.loc[adult_df[\"occupation\"] !=\"?\"]\n",
    "adult_df = adult_df.loc[adult_df[\"native-country\"] !=\"?\"]"
   ]
  },
  {
   "cell_type": "code",
   "execution_count": 277,
   "metadata": {
    "ExecuteTime": {
     "end_time": "2020-03-03T12:34:35.858073Z",
     "start_time": "2020-03-03T12:34:35.854056Z"
    }
   },
   "outputs": [
    {
     "name": "stdout",
     "output_type": "stream",
     "text": [
      "(30162, 15)\n",
      "Lost rows = 7.37%\n"
     ]
    }
   ],
   "source": [
    "print(str(adult_df.shape))\n",
    "print(\"Lost rows = \"+str(round(1 - (adult_df.shape[0]/32561),4)*100)+\"%\")"
   ]
  },
  {
   "cell_type": "markdown",
   "metadata": {},
   "source": [
    "Now we have 30162 rows"
   ]
  },
  {
   "cell_type": "code",
   "execution_count": 278,
   "metadata": {
    "ExecuteTime": {
     "end_time": "2020-03-03T12:34:39.309544Z",
     "start_time": "2020-03-03T12:34:39.277623Z"
    }
   },
   "outputs": [
    {
     "data": {
      "text/html": [
       "<div>\n",
       "<style scoped>\n",
       "    .dataframe tbody tr th:only-of-type {\n",
       "        vertical-align: middle;\n",
       "    }\n",
       "\n",
       "    .dataframe tbody tr th {\n",
       "        vertical-align: top;\n",
       "    }\n",
       "\n",
       "    .dataframe thead th {\n",
       "        text-align: right;\n",
       "    }\n",
       "</style>\n",
       "<table border=\"1\" class=\"dataframe\">\n",
       "  <thead>\n",
       "    <tr style=\"text-align: right;\">\n",
       "      <th></th>\n",
       "      <th>age</th>\n",
       "      <th>fnlwgt</th>\n",
       "      <th>education-num</th>\n",
       "      <th>capital-gain</th>\n",
       "      <th>capital-loss</th>\n",
       "      <th>hours-per-week</th>\n",
       "    </tr>\n",
       "  </thead>\n",
       "  <tbody>\n",
       "    <tr>\n",
       "      <td>count</td>\n",
       "      <td>30162.000000</td>\n",
       "      <td>3.016200e+04</td>\n",
       "      <td>30162.000000</td>\n",
       "      <td>30162.000000</td>\n",
       "      <td>30162.000000</td>\n",
       "      <td>30162.000000</td>\n",
       "    </tr>\n",
       "    <tr>\n",
       "      <td>mean</td>\n",
       "      <td>38.437902</td>\n",
       "      <td>1.897938e+05</td>\n",
       "      <td>10.121312</td>\n",
       "      <td>1092.007858</td>\n",
       "      <td>88.372489</td>\n",
       "      <td>40.931238</td>\n",
       "    </tr>\n",
       "    <tr>\n",
       "      <td>std</td>\n",
       "      <td>13.134665</td>\n",
       "      <td>1.056530e+05</td>\n",
       "      <td>2.549995</td>\n",
       "      <td>7406.346497</td>\n",
       "      <td>404.298370</td>\n",
       "      <td>11.979984</td>\n",
       "    </tr>\n",
       "    <tr>\n",
       "      <td>min</td>\n",
       "      <td>17.000000</td>\n",
       "      <td>1.376900e+04</td>\n",
       "      <td>1.000000</td>\n",
       "      <td>0.000000</td>\n",
       "      <td>0.000000</td>\n",
       "      <td>1.000000</td>\n",
       "    </tr>\n",
       "    <tr>\n",
       "      <td>25%</td>\n",
       "      <td>28.000000</td>\n",
       "      <td>1.176272e+05</td>\n",
       "      <td>9.000000</td>\n",
       "      <td>0.000000</td>\n",
       "      <td>0.000000</td>\n",
       "      <td>40.000000</td>\n",
       "    </tr>\n",
       "    <tr>\n",
       "      <td>50%</td>\n",
       "      <td>37.000000</td>\n",
       "      <td>1.784250e+05</td>\n",
       "      <td>10.000000</td>\n",
       "      <td>0.000000</td>\n",
       "      <td>0.000000</td>\n",
       "      <td>40.000000</td>\n",
       "    </tr>\n",
       "    <tr>\n",
       "      <td>75%</td>\n",
       "      <td>47.000000</td>\n",
       "      <td>2.376285e+05</td>\n",
       "      <td>13.000000</td>\n",
       "      <td>0.000000</td>\n",
       "      <td>0.000000</td>\n",
       "      <td>45.000000</td>\n",
       "    </tr>\n",
       "    <tr>\n",
       "      <td>max</td>\n",
       "      <td>90.000000</td>\n",
       "      <td>1.484705e+06</td>\n",
       "      <td>16.000000</td>\n",
       "      <td>99999.000000</td>\n",
       "      <td>4356.000000</td>\n",
       "      <td>99.000000</td>\n",
       "    </tr>\n",
       "  </tbody>\n",
       "</table>\n",
       "</div>"
      ],
      "text/plain": [
       "                age        fnlwgt  education-num  capital-gain  capital-loss  \\\n",
       "count  30162.000000  3.016200e+04   30162.000000  30162.000000  30162.000000   \n",
       "mean      38.437902  1.897938e+05      10.121312   1092.007858     88.372489   \n",
       "std       13.134665  1.056530e+05       2.549995   7406.346497    404.298370   \n",
       "min       17.000000  1.376900e+04       1.000000      0.000000      0.000000   \n",
       "25%       28.000000  1.176272e+05       9.000000      0.000000      0.000000   \n",
       "50%       37.000000  1.784250e+05      10.000000      0.000000      0.000000   \n",
       "75%       47.000000  2.376285e+05      13.000000      0.000000      0.000000   \n",
       "max       90.000000  1.484705e+06      16.000000  99999.000000   4356.000000   \n",
       "\n",
       "       hours-per-week  \n",
       "count    30162.000000  \n",
       "mean        40.931238  \n",
       "std         11.979984  \n",
       "min          1.000000  \n",
       "25%         40.000000  \n",
       "50%         40.000000  \n",
       "75%         45.000000  \n",
       "max         99.000000  "
      ]
     },
     "execution_count": 278,
     "metadata": {},
     "output_type": "execute_result"
    }
   ],
   "source": [
    "#Describe each continuous variable\n",
    "adult_df.describe()"
   ]
  },
  {
   "cell_type": "markdown",
   "metadata": {},
   "source": [
    "**Observations:** <br>\n",
    "1) Age of all the individauls is **>17** <br>\n",
    "2) age, education-num and hours-per-week **seem approx. normal distributions**. We can further check the distributions to confirm <br>\n",
    "3) More than 75% of the data in capital-gain and capital-loss column is 0 as we see with **3rd Quartile (75%) = 0** <br>\n",
    "4) **fnlwgt can be dropped** as we're unclear of it's usage "
   ]
  },
  {
   "cell_type": "code",
   "execution_count": 279,
   "metadata": {
    "ExecuteTime": {
     "end_time": "2020-03-03T12:34:50.661185Z",
     "start_time": "2020-03-03T12:34:50.650207Z"
    }
   },
   "outputs": [],
   "source": [
    "# dropping fnlwgt\n",
    "adult_df.drop(\"fnlwgt\", axis = 1, inplace = True)"
   ]
  },
  {
   "cell_type": "code",
   "execution_count": 280,
   "metadata": {
    "ExecuteTime": {
     "end_time": "2020-03-03T12:34:54.639678Z",
     "start_time": "2020-03-03T12:34:54.574851Z"
    }
   },
   "outputs": [
    {
     "data": {
      "text/html": [
       "<div>\n",
       "<style scoped>\n",
       "    .dataframe tbody tr th:only-of-type {\n",
       "        vertical-align: middle;\n",
       "    }\n",
       "\n",
       "    .dataframe tbody tr th {\n",
       "        vertical-align: top;\n",
       "    }\n",
       "\n",
       "    .dataframe thead th {\n",
       "        text-align: right;\n",
       "    }\n",
       "</style>\n",
       "<table border=\"1\" class=\"dataframe\">\n",
       "  <thead>\n",
       "    <tr style=\"text-align: right;\">\n",
       "      <th></th>\n",
       "      <th>workingclass</th>\n",
       "      <th>education</th>\n",
       "      <th>marital-status</th>\n",
       "      <th>occupation</th>\n",
       "      <th>relationship</th>\n",
       "      <th>race</th>\n",
       "      <th>sex</th>\n",
       "      <th>native-country</th>\n",
       "      <th>income</th>\n",
       "    </tr>\n",
       "  </thead>\n",
       "  <tbody>\n",
       "    <tr>\n",
       "      <td>count</td>\n",
       "      <td>30162</td>\n",
       "      <td>30162</td>\n",
       "      <td>30162</td>\n",
       "      <td>30162</td>\n",
       "      <td>30162</td>\n",
       "      <td>30162</td>\n",
       "      <td>30162</td>\n",
       "      <td>30162</td>\n",
       "      <td>30162</td>\n",
       "    </tr>\n",
       "    <tr>\n",
       "      <td>unique</td>\n",
       "      <td>7</td>\n",
       "      <td>16</td>\n",
       "      <td>7</td>\n",
       "      <td>14</td>\n",
       "      <td>6</td>\n",
       "      <td>5</td>\n",
       "      <td>2</td>\n",
       "      <td>41</td>\n",
       "      <td>2</td>\n",
       "    </tr>\n",
       "    <tr>\n",
       "      <td>top</td>\n",
       "      <td>Private</td>\n",
       "      <td>HS-grad</td>\n",
       "      <td>Married-civ-spouse</td>\n",
       "      <td>Prof-specialty</td>\n",
       "      <td>Husband</td>\n",
       "      <td>White</td>\n",
       "      <td>Male</td>\n",
       "      <td>United-States</td>\n",
       "      <td>&lt;=50K</td>\n",
       "    </tr>\n",
       "    <tr>\n",
       "      <td>freq</td>\n",
       "      <td>22286</td>\n",
       "      <td>9840</td>\n",
       "      <td>14065</td>\n",
       "      <td>4038</td>\n",
       "      <td>12463</td>\n",
       "      <td>25933</td>\n",
       "      <td>20380</td>\n",
       "      <td>27504</td>\n",
       "      <td>22654</td>\n",
       "    </tr>\n",
       "  </tbody>\n",
       "</table>\n",
       "</div>"
      ],
      "text/plain": [
       "       workingclass education      marital-status      occupation  \\\n",
       "count         30162     30162               30162           30162   \n",
       "unique            7        16                   7              14   \n",
       "top         Private   HS-grad  Married-civ-spouse  Prof-specialty   \n",
       "freq          22286      9840               14065            4038   \n",
       "\n",
       "       relationship   race    sex native-country income  \n",
       "count         30162  30162  30162          30162  30162  \n",
       "unique            6      5      2             41      2  \n",
       "top         Husband  White   Male  United-States  <=50K  \n",
       "freq          12463  25933  20380          27504  22654  "
      ]
     },
     "execution_count": 280,
     "metadata": {},
     "output_type": "execute_result"
    }
   ],
   "source": [
    "#Describe each categorical variable\n",
    "adult_df.describe(include = [\"O\"])"
   ]
  },
  {
   "cell_type": "markdown",
   "metadata": {},
   "source": [
    "**Observation:** <br> \n",
    "Most (~70% +) of the data consists of people of **workingclass = Private, Race = White, Native country = US, incomce <=50K**"
   ]
  },
  {
   "cell_type": "markdown",
   "metadata": {},
   "source": [
    "##  3) Analysing each variable and encoding"
   ]
  },
  {
   "cell_type": "markdown",
   "metadata": {},
   "source": [
    "### a) Continuous variables"
   ]
  },
  {
   "cell_type": "markdown",
   "metadata": {},
   "source": [
    "**Age, education-num and hours-per-week**"
   ]
  },
  {
   "cell_type": "code",
   "execution_count": 281,
   "metadata": {
    "ExecuteTime": {
     "end_time": "2020-03-03T12:35:53.309266Z",
     "start_time": "2020-03-03T12:35:52.900081Z"
    }
   },
   "outputs": [
    {
     "data": {
      "text/plain": [
       "<matplotlib.axes._subplots.AxesSubplot at 0x2831c54e988>"
      ]
     },
     "execution_count": 281,
     "metadata": {},
     "output_type": "execute_result"
    },
    {
     "data": {
      "image/png": "[encoded data removed]",
      "text/plain": [
       "<Figure size 1080x360 with 3 Axes>"
      ]
     },
     "metadata": {
      "needs_background": "light"
     },
     "output_type": "display_data"
    }
   ],
   "source": [
    "fig, ax = plt.subplots(1,3, figsize = (15,5))\n",
    "sns.distplot(adult_df[\"age\"], ax = ax[0])\n",
    "sns.distplot(adult_df[\"education-num\"], ax = ax[1])\n",
    "sns.distplot(adult_df[\"hours-per-week\"], ax = ax[2])"
   ]
  },
  {
   "cell_type": "markdown",
   "metadata": {},
   "source": [
    "**Age is right skewed distribution** since we have the dataset of adults only <br>\n",
    "**Education-num is not continuous** and has integer values only, we can further check this <br>\n",
    "Hours-per-week has a **huge spike at 40** which is normal "
   ]
  },
  {
   "cell_type": "markdown",
   "metadata": {},
   "source": [
    "**Capital-loss and capital-gain**"
   ]
  },
  {
   "cell_type": "code",
   "execution_count": 282,
   "metadata": {
    "ExecuteTime": {
     "end_time": "2020-03-03T12:45:50.100812Z",
     "start_time": "2020-03-03T12:45:49.837422Z"
    }
   },
   "outputs": [
    {
     "data": {
      "text/plain": [
       "<matplotlib.axes._subplots.AxesSubplot at 0x28311eef3c8>"
      ]
     },
     "execution_count": 282,
     "metadata": {},
     "output_type": "execute_result"
    },
    {
     "data": {
      "image/png": "[encoded data removed]",
      "text/plain": [
       "<Figure size 864x360 with 2 Axes>"
      ]
     },
     "metadata": {
      "needs_background": "light"
     },
     "output_type": "display_data"
    }
   ],
   "source": [
    "fig, ax = plt.subplots(1,2, figsize = (12,5))\n",
    "sns.distplot(adult_df[\"capital-gain\"], ax = ax[0], kde = False)\n",
    "sns.distplot(adult_df[\"capital-loss\"], ax = ax[1], kde = False)"
   ]
  },
  {
   "cell_type": "markdown",
   "metadata": {},
   "source": [
    "Most values in capital-gain and capital-loss are 0"
   ]
  },
  {
   "cell_type": "code",
   "execution_count": 283,
   "metadata": {
    "ExecuteTime": {
     "end_time": "2020-03-03T12:45:52.864156Z",
     "start_time": "2020-03-03T12:45:52.859126Z"
    }
   },
   "outputs": [
    {
     "name": "stdout",
     "output_type": "stream",
     "text": [
      "Percentage of 0 values in capital-gain = 92.0%\n"
     ]
    }
   ],
   "source": [
    "print(\"Percentage of 0 values in capital-gain = \"+str(round(np.mean(adult_df[\"capital-gain\"]==0),2)*100)+\"%\")"
   ]
  },
  {
   "cell_type": "code",
   "execution_count": 284,
   "metadata": {
    "ExecuteTime": {
     "end_time": "2020-03-03T12:45:55.806003Z",
     "start_time": "2020-03-03T12:45:55.801508Z"
    }
   },
   "outputs": [
    {
     "name": "stdout",
     "output_type": "stream",
     "text": [
      "Percentage of 0 values in capital-gain = 95.0%\n"
     ]
    }
   ],
   "source": [
    "print(\"Percentage of 0 values in capital-gain = \"+str(round(np.mean(adult_df[\"capital-loss\"]==0),2)*100)+\"%\")"
   ]
  },
  {
   "cell_type": "code",
   "execution_count": 285,
   "metadata": {},
   "outputs": [],
   "source": [
    "adult_df.drop([\"capital-gain\", \"capital-loss\"], axis = 1, inplace = True)"
   ]
  },
  {
   "cell_type": "markdown",
   "metadata": {},
   "source": [
    "### b) Categorical variables"
   ]
  },
  {
   "cell_type": "markdown",
   "metadata": {},
   "source": [
    "**Education**"
   ]
  },
  {
   "cell_type": "markdown",
   "metadata": {},
   "source": [
    "Education-num and education are expected to be highly correlated. We check this using a contingency table. "
   ]
  },
  {
   "cell_type": "code",
   "execution_count": 286,
   "metadata": {
    "ExecuteTime": {
     "end_time": "2020-03-03T12:46:05.205578Z",
     "start_time": "2020-03-03T12:46:05.179132Z"
    }
   },
   "outputs": [
    {
     "data": {
      "text/html": [
       "<div>\n",
       "<style scoped>\n",
       "    .dataframe tbody tr th:only-of-type {\n",
       "        vertical-align: middle;\n",
       "    }\n",
       "\n",
       "    .dataframe tbody tr th {\n",
       "        vertical-align: top;\n",
       "    }\n",
       "\n",
       "    .dataframe thead th {\n",
       "        text-align: right;\n",
       "    }\n",
       "</style>\n",
       "<table border=\"1\" class=\"dataframe\">\n",
       "  <thead>\n",
       "    <tr style=\"text-align: right;\">\n",
       "      <th>education-num</th>\n",
       "      <th>1</th>\n",
       "      <th>2</th>\n",
       "      <th>3</th>\n",
       "      <th>4</th>\n",
       "      <th>5</th>\n",
       "      <th>6</th>\n",
       "      <th>7</th>\n",
       "      <th>8</th>\n",
       "      <th>9</th>\n",
       "      <th>10</th>\n",
       "      <th>11</th>\n",
       "      <th>12</th>\n",
       "      <th>13</th>\n",
       "      <th>14</th>\n",
       "      <th>15</th>\n",
       "      <th>16</th>\n",
       "    </tr>\n",
       "    <tr>\n",
       "      <th>education</th>\n",
       "      <th></th>\n",
       "      <th></th>\n",
       "      <th></th>\n",
       "      <th></th>\n",
       "      <th></th>\n",
       "      <th></th>\n",
       "      <th></th>\n",
       "      <th></th>\n",
       "      <th></th>\n",
       "      <th></th>\n",
       "      <th></th>\n",
       "      <th></th>\n",
       "      <th></th>\n",
       "      <th></th>\n",
       "      <th></th>\n",
       "      <th></th>\n",
       "    </tr>\n",
       "  </thead>\n",
       "  <tbody>\n",
       "    <tr>\n",
       "      <td>10th</td>\n",
       "      <td>0</td>\n",
       "      <td>0</td>\n",
       "      <td>0</td>\n",
       "      <td>0</td>\n",
       "      <td>0</td>\n",
       "      <td>820</td>\n",
       "      <td>0</td>\n",
       "      <td>0</td>\n",
       "      <td>0</td>\n",
       "      <td>0</td>\n",
       "      <td>0</td>\n",
       "      <td>0</td>\n",
       "      <td>0</td>\n",
       "      <td>0</td>\n",
       "      <td>0</td>\n",
       "      <td>0</td>\n",
       "    </tr>\n",
       "    <tr>\n",
       "      <td>11th</td>\n",
       "      <td>0</td>\n",
       "      <td>0</td>\n",
       "      <td>0</td>\n",
       "      <td>0</td>\n",
       "      <td>0</td>\n",
       "      <td>0</td>\n",
       "      <td>1048</td>\n",
       "      <td>0</td>\n",
       "      <td>0</td>\n",
       "      <td>0</td>\n",
       "      <td>0</td>\n",
       "      <td>0</td>\n",
       "      <td>0</td>\n",
       "      <td>0</td>\n",
       "      <td>0</td>\n",
       "      <td>0</td>\n",
       "    </tr>\n",
       "    <tr>\n",
       "      <td>12th</td>\n",
       "      <td>0</td>\n",
       "      <td>0</td>\n",
       "      <td>0</td>\n",
       "      <td>0</td>\n",
       "      <td>0</td>\n",
       "      <td>0</td>\n",
       "      <td>0</td>\n",
       "      <td>377</td>\n",
       "      <td>0</td>\n",
       "      <td>0</td>\n",
       "      <td>0</td>\n",
       "      <td>0</td>\n",
       "      <td>0</td>\n",
       "      <td>0</td>\n",
       "      <td>0</td>\n",
       "      <td>0</td>\n",
       "    </tr>\n",
       "    <tr>\n",
       "      <td>1st-4th</td>\n",
       "      <td>0</td>\n",
       "      <td>151</td>\n",
       "      <td>0</td>\n",
       "      <td>0</td>\n",
       "      <td>0</td>\n",
       "      <td>0</td>\n",
       "      <td>0</td>\n",
       "      <td>0</td>\n",
       "      <td>0</td>\n",
       "      <td>0</td>\n",
       "      <td>0</td>\n",
       "      <td>0</td>\n",
       "      <td>0</td>\n",
       "      <td>0</td>\n",
       "      <td>0</td>\n",
       "      <td>0</td>\n",
       "    </tr>\n",
       "    <tr>\n",
       "      <td>5th-6th</td>\n",
       "      <td>0</td>\n",
       "      <td>0</td>\n",
       "      <td>288</td>\n",
       "      <td>0</td>\n",
       "      <td>0</td>\n",
       "      <td>0</td>\n",
       "      <td>0</td>\n",
       "      <td>0</td>\n",
       "      <td>0</td>\n",
       "      <td>0</td>\n",
       "      <td>0</td>\n",
       "      <td>0</td>\n",
       "      <td>0</td>\n",
       "      <td>0</td>\n",
       "      <td>0</td>\n",
       "      <td>0</td>\n",
       "    </tr>\n",
       "    <tr>\n",
       "      <td>7th-8th</td>\n",
       "      <td>0</td>\n",
       "      <td>0</td>\n",
       "      <td>0</td>\n",
       "      <td>557</td>\n",
       "      <td>0</td>\n",
       "      <td>0</td>\n",
       "      <td>0</td>\n",
       "      <td>0</td>\n",
       "      <td>0</td>\n",
       "      <td>0</td>\n",
       "      <td>0</td>\n",
       "      <td>0</td>\n",
       "      <td>0</td>\n",
       "      <td>0</td>\n",
       "      <td>0</td>\n",
       "      <td>0</td>\n",
       "    </tr>\n",
       "    <tr>\n",
       "      <td>9th</td>\n",
       "      <td>0</td>\n",
       "      <td>0</td>\n",
       "      <td>0</td>\n",
       "      <td>0</td>\n",
       "      <td>455</td>\n",
       "      <td>0</td>\n",
       "      <td>0</td>\n",
       "      <td>0</td>\n",
       "      <td>0</td>\n",
       "      <td>0</td>\n",
       "      <td>0</td>\n",
       "      <td>0</td>\n",
       "      <td>0</td>\n",
       "      <td>0</td>\n",
       "      <td>0</td>\n",
       "      <td>0</td>\n",
       "    </tr>\n",
       "    <tr>\n",
       "      <td>Assoc-acdm</td>\n",
       "      <td>0</td>\n",
       "      <td>0</td>\n",
       "      <td>0</td>\n",
       "      <td>0</td>\n",
       "      <td>0</td>\n",
       "      <td>0</td>\n",
       "      <td>0</td>\n",
       "      <td>0</td>\n",
       "      <td>0</td>\n",
       "      <td>0</td>\n",
       "      <td>0</td>\n",
       "      <td>1008</td>\n",
       "      <td>0</td>\n",
       "      <td>0</td>\n",
       "      <td>0</td>\n",
       "      <td>0</td>\n",
       "    </tr>\n",
       "    <tr>\n",
       "      <td>Assoc-voc</td>\n",
       "      <td>0</td>\n",
       "      <td>0</td>\n",
       "      <td>0</td>\n",
       "      <td>0</td>\n",
       "      <td>0</td>\n",
       "      <td>0</td>\n",
       "      <td>0</td>\n",
       "      <td>0</td>\n",
       "      <td>0</td>\n",
       "      <td>0</td>\n",
       "      <td>1307</td>\n",
       "      <td>0</td>\n",
       "      <td>0</td>\n",
       "      <td>0</td>\n",
       "      <td>0</td>\n",
       "      <td>0</td>\n",
       "    </tr>\n",
       "    <tr>\n",
       "      <td>Bachelors</td>\n",
       "      <td>0</td>\n",
       "      <td>0</td>\n",
       "      <td>0</td>\n",
       "      <td>0</td>\n",
       "      <td>0</td>\n",
       "      <td>0</td>\n",
       "      <td>0</td>\n",
       "      <td>0</td>\n",
       "      <td>0</td>\n",
       "      <td>0</td>\n",
       "      <td>0</td>\n",
       "      <td>0</td>\n",
       "      <td>5044</td>\n",
       "      <td>0</td>\n",
       "      <td>0</td>\n",
       "      <td>0</td>\n",
       "    </tr>\n",
       "    <tr>\n",
       "      <td>Doctorate</td>\n",
       "      <td>0</td>\n",
       "      <td>0</td>\n",
       "      <td>0</td>\n",
       "      <td>0</td>\n",
       "      <td>0</td>\n",
       "      <td>0</td>\n",
       "      <td>0</td>\n",
       "      <td>0</td>\n",
       "      <td>0</td>\n",
       "      <td>0</td>\n",
       "      <td>0</td>\n",
       "      <td>0</td>\n",
       "      <td>0</td>\n",
       "      <td>0</td>\n",
       "      <td>0</td>\n",
       "      <td>375</td>\n",
       "    </tr>\n",
       "    <tr>\n",
       "      <td>HS-grad</td>\n",
       "      <td>0</td>\n",
       "      <td>0</td>\n",
       "      <td>0</td>\n",
       "      <td>0</td>\n",
       "      <td>0</td>\n",
       "      <td>0</td>\n",
       "      <td>0</td>\n",
       "      <td>0</td>\n",
       "      <td>9840</td>\n",
       "      <td>0</td>\n",
       "      <td>0</td>\n",
       "      <td>0</td>\n",
       "      <td>0</td>\n",
       "      <td>0</td>\n",
       "      <td>0</td>\n",
       "      <td>0</td>\n",
       "    </tr>\n",
       "    <tr>\n",
       "      <td>Masters</td>\n",
       "      <td>0</td>\n",
       "      <td>0</td>\n",
       "      <td>0</td>\n",
       "      <td>0</td>\n",
       "      <td>0</td>\n",
       "      <td>0</td>\n",
       "      <td>0</td>\n",
       "      <td>0</td>\n",
       "      <td>0</td>\n",
       "      <td>0</td>\n",
       "      <td>0</td>\n",
       "      <td>0</td>\n",
       "      <td>0</td>\n",
       "      <td>1627</td>\n",
       "      <td>0</td>\n",
       "      <td>0</td>\n",
       "    </tr>\n",
       "    <tr>\n",
       "      <td>Preschool</td>\n",
       "      <td>45</td>\n",
       "      <td>0</td>\n",
       "      <td>0</td>\n",
       "      <td>0</td>\n",
       "      <td>0</td>\n",
       "      <td>0</td>\n",
       "      <td>0</td>\n",
       "      <td>0</td>\n",
       "      <td>0</td>\n",
       "      <td>0</td>\n",
       "      <td>0</td>\n",
       "      <td>0</td>\n",
       "      <td>0</td>\n",
       "      <td>0</td>\n",
       "      <td>0</td>\n",
       "      <td>0</td>\n",
       "    </tr>\n",
       "    <tr>\n",
       "      <td>Prof-school</td>\n",
       "      <td>0</td>\n",
       "      <td>0</td>\n",
       "      <td>0</td>\n",
       "      <td>0</td>\n",
       "      <td>0</td>\n",
       "      <td>0</td>\n",
       "      <td>0</td>\n",
       "      <td>0</td>\n",
       "      <td>0</td>\n",
       "      <td>0</td>\n",
       "      <td>0</td>\n",
       "      <td>0</td>\n",
       "      <td>0</td>\n",
       "      <td>0</td>\n",
       "      <td>542</td>\n",
       "      <td>0</td>\n",
       "    </tr>\n",
       "    <tr>\n",
       "      <td>Some-college</td>\n",
       "      <td>0</td>\n",
       "      <td>0</td>\n",
       "      <td>0</td>\n",
       "      <td>0</td>\n",
       "      <td>0</td>\n",
       "      <td>0</td>\n",
       "      <td>0</td>\n",
       "      <td>0</td>\n",
       "      <td>0</td>\n",
       "      <td>6678</td>\n",
       "      <td>0</td>\n",
       "      <td>0</td>\n",
       "      <td>0</td>\n",
       "      <td>0</td>\n",
       "      <td>0</td>\n",
       "      <td>0</td>\n",
       "    </tr>\n",
       "  </tbody>\n",
       "</table>\n",
       "</div>"
      ],
      "text/plain": [
       "education-num  1    2    3    4    5    6     7    8     9     10    11    12  \\\n",
       "education                                                                       \n",
       "10th            0    0    0    0    0  820     0    0     0     0     0     0   \n",
       "11th            0    0    0    0    0    0  1048    0     0     0     0     0   \n",
       "12th            0    0    0    0    0    0     0  377     0     0     0     0   \n",
       "1st-4th         0  151    0    0    0    0     0    0     0     0     0     0   \n",
       "5th-6th         0    0  288    0    0    0     0    0     0     0     0     0   \n",
       "7th-8th         0    0    0  557    0    0     0    0     0     0     0     0   \n",
       "9th             0    0    0    0  455    0     0    0     0     0     0     0   \n",
       "Assoc-acdm      0    0    0    0    0    0     0    0     0     0     0  1008   \n",
       "Assoc-voc       0    0    0    0    0    0     0    0     0     0  1307     0   \n",
       "Bachelors       0    0    0    0    0    0     0    0     0     0     0     0   \n",
       "Doctorate       0    0    0    0    0    0     0    0     0     0     0     0   \n",
       "HS-grad         0    0    0    0    0    0     0    0  9840     0     0     0   \n",
       "Masters         0    0    0    0    0    0     0    0     0     0     0     0   \n",
       "Preschool      45    0    0    0    0    0     0    0     0     0     0     0   \n",
       "Prof-school     0    0    0    0    0    0     0    0     0     0     0     0   \n",
       "Some-college    0    0    0    0    0    0     0    0     0  6678     0     0   \n",
       "\n",
       "education-num    13    14   15   16  \n",
       "education                            \n",
       "10th              0     0    0    0  \n",
       "11th              0     0    0    0  \n",
       "12th              0     0    0    0  \n",
       "1st-4th           0     0    0    0  \n",
       "5th-6th           0     0    0    0  \n",
       "7th-8th           0     0    0    0  \n",
       "9th               0     0    0    0  \n",
       "Assoc-acdm        0     0    0    0  \n",
       "Assoc-voc         0     0    0    0  \n",
       "Bachelors      5044     0    0    0  \n",
       "Doctorate         0     0    0  375  \n",
       "HS-grad           0     0    0    0  \n",
       "Masters           0  1627    0    0  \n",
       "Preschool         0     0    0    0  \n",
       "Prof-school       0     0  542    0  \n",
       "Some-college      0     0    0    0  "
      ]
     },
     "execution_count": 286,
     "metadata": {},
     "output_type": "execute_result"
    }
   ],
   "source": [
    "cont_table = pd.crosstab(adult_df[\"education\"],adult_df[\"education-num\"], margins = False)\n",
    "cont_table"
   ]
  },
  {
   "cell_type": "markdown",
   "metadata": {},
   "source": [
    "We can therefore, **drop education and use only enducation-num** in our analysis"
   ]
  },
  {
   "cell_type": "code",
   "execution_count": 287,
   "metadata": {
    "ExecuteTime": {
     "end_time": "2020-03-03T12:47:07.256136Z",
     "start_time": "2020-03-03T12:47:07.242180Z"
    }
   },
   "outputs": [],
   "source": [
    "adult_df.drop(\"education\", axis = 1, inplace = True)"
   ]
  },
  {
   "cell_type": "markdown",
   "metadata": {},
   "source": [
    "**Workingclass**"
   ]
  },
  {
   "cell_type": "code",
   "execution_count": 288,
   "metadata": {},
   "outputs": [
    {
     "data": {
      "text/plain": [
       "Private             22286\n",
       "Self-emp-not-inc     2499\n",
       "Local-gov            2067\n",
       "State-gov            1279\n",
       "Self-emp-inc         1074\n",
       "Federal-gov           943\n",
       "Without-pay            14\n",
       "Name: workingclass, dtype: int64"
      ]
     },
     "execution_count": 288,
     "metadata": {},
     "output_type": "execute_result"
    }
   ],
   "source": [
    "adult_df[\"workingclass\"].value_counts()"
   ]
  },
  {
   "cell_type": "markdown",
   "metadata": {},
   "source": [
    "We can group occupation types into fewer categories are meaningful categories, though we might lose some information  <Br>"
   ]
  },
  {
   "cell_type": "code",
   "execution_count": 289,
   "metadata": {},
   "outputs": [],
   "source": [
    "##Encoding different types of govt jobs to a single value\n",
    "adult_df.loc[((adult_df[\"workingclass\"] == \"Federal-gov\")| (adult_df[\"workingclass\"] == \"Local-gov\")  |(adult_df[\"workingclass\"] == \"State-gov\")), \"workingclass\"] = \"Govt\"\n",
    "adult_df.loc[((adult_df[\"workingclass\"] == \"Self-emp-inc\")| (adult_df[\"workingclass\"] == \"Self-emp-not-inc\")), \"workingclass\"] = \"Self-emp\"\n",
    "adult_df.loc[((adult_df[\"workingclass\"] == \"Without-pay\")| (adult_df[\"workingclass\"] == \"Never-worked\")), \"workingclass\"]  = \"No-work-inc\""
   ]
  },
  {
   "cell_type": "markdown",
   "metadata": {
    "ExecuteTime": {
     "end_time": "2020-03-03T05:13:58.292128Z",
     "start_time": "2020-03-03T05:13:58.286445Z"
    }
   },
   "source": [
    "**Race**"
   ]
  },
  {
   "cell_type": "code",
   "execution_count": 290,
   "metadata": {},
   "outputs": [
    {
     "data": {
      "text/plain": [
       "White                 25933\n",
       "Black                  2817\n",
       "Asian-Pac-Islander      895\n",
       "Amer-Indian-Eskimo      286\n",
       "Other                   231\n",
       "Name: race, dtype: int64"
      ]
     },
     "execution_count": 290,
     "metadata": {},
     "output_type": "execute_result"
    }
   ],
   "source": [
    "adult_df[\"race\"].value_counts()"
   ]
  },
  {
   "cell_type": "markdown",
   "metadata": {},
   "source": [
    "We hardly have any data for the last two categories, we can encode them into 1"
   ]
  },
  {
   "cell_type": "code",
   "execution_count": 291,
   "metadata": {},
   "outputs": [],
   "source": [
    "adult_df.loc[(adult_df[\"race\"] == \"Amer-Indian-Eskimo\"), \"race\"] = \"Other\""
   ]
  },
  {
   "cell_type": "markdown",
   "metadata": {},
   "source": [
    "**Marital-status**"
   ]
  },
  {
   "cell_type": "code",
   "execution_count": 292,
   "metadata": {},
   "outputs": [
    {
     "data": {
      "text/plain": [
       "Married-civ-spouse       14065\n",
       "Never-married             9726\n",
       "Divorced                  4214\n",
       "Separated                  939\n",
       "Widowed                    827\n",
       "Married-spouse-absent      370\n",
       "Married-AF-spouse           21\n",
       "Name: marital-status, dtype: int64"
      ]
     },
     "execution_count": 292,
     "metadata": {},
     "output_type": "execute_result"
    }
   ],
   "source": [
    "adult_df[\"marital-status\"].value_counts()"
   ]
  },
  {
   "cell_type": "markdown",
   "metadata": {},
   "source": [
    "We can encode these into 3 categories - Married, Not-married (seperated, divorced and widowed) and Never-Married"
   ]
  },
  {
   "cell_type": "code",
   "execution_count": 293,
   "metadata": {
    "ExecuteTime": {
     "end_time": "2020-03-03T12:55:23.966899Z",
     "start_time": "2020-03-03T12:55:23.938658Z"
    }
   },
   "outputs": [],
   "source": [
    "adult_df[\"marital-status\"] = adult_df[\"marital-status\"].str.strip()\n",
    "adult_df.loc[((adult_df[\"marital-status\"] == \"Married-civ-spouse\") | (adult_df[\"marital-status\"] == \"Married-spouse-absent\") | (adult_df[\"marital-status\"] == \"Married-AF-spouse\")) , \"marital-status\"] = \"Married\"\n",
    "adult_df.loc[((adult_df[\"marital-status\"] == \"Widowed\") | (adult_df[\"marital-status\"] == \"Divorced\") | (adult_df[\"marital-status\"] == \"Separated\")) , \"marital-status\"] = \"Not-Married\""
   ]
  },
  {
   "cell_type": "markdown",
   "metadata": {},
   "source": [
    "**Occupation**"
   ]
  },
  {
   "cell_type": "code",
   "execution_count": 294,
   "metadata": {},
   "outputs": [
    {
     "data": {
      "text/plain": [
       "Prof-specialty       4038\n",
       "Craft-repair         4030\n",
       "Exec-managerial      3992\n",
       "Adm-clerical         3721\n",
       "Sales                3584\n",
       "Other-service        3212\n",
       "Machine-op-inspct    1966\n",
       "Transport-moving     1572\n",
       "Handlers-cleaners    1350\n",
       "Farming-fishing       989\n",
       "Tech-support          912\n",
       "Protective-serv       644\n",
       "Priv-house-serv       143\n",
       "Armed-Forces            9\n",
       "Name: occupation, dtype: int64"
      ]
     },
     "execution_count": 294,
     "metadata": {},
     "output_type": "execute_result"
    }
   ],
   "source": [
    "adult_df[\"occupation\"].value_counts()"
   ]
  },
  {
   "cell_type": "markdown",
   "metadata": {},
   "source": [
    " Each occupation is unique. Some occupations have very counts and do not add much value to the data. We encode them by creating \"Other\" category "
   ]
  },
  {
   "cell_type": "code",
   "execution_count": 295,
   "metadata": {},
   "outputs": [],
   "source": [
    "adult_df.loc[((adult_df[\"occupation\"] == \"Other-service\") | (adult_df[\"occupation\"] == \"Armed-Forces\") | (adult_df[\"occupation\"] == \"Priv-house-serv\") | (adult_df[\"occupation\"] == \"Protective-serv\")),\"occupation\"] = \"Other\""
   ]
  },
  {
   "cell_type": "markdown",
   "metadata": {},
   "source": [
    "**Relationship**"
   ]
  },
  {
   "cell_type": "markdown",
   "metadata": {
    "ExecuteTime": {
     "end_time": "2020-03-03T04:59:02.077745Z",
     "start_time": "2020-03-03T04:59:01.781460Z"
    }
   },
   "source": [
    "Since we already have marital-status, **relationship is redundant** as husband, wife values which are majority will always be married. Therefore, we drop it"
   ]
  },
  {
   "cell_type": "code",
   "execution_count": 296,
   "metadata": {
    "ExecuteTime": {
     "end_time": "2020-03-03T12:57:23.698252Z",
     "start_time": "2020-03-03T12:57:23.690274Z"
    }
   },
   "outputs": [],
   "source": [
    "adult_df.drop(\"relationship\",axis = 1,  inplace = True)"
   ]
  },
  {
   "cell_type": "markdown",
   "metadata": {
    "ExecuteTime": {
     "end_time": "2020-03-03T05:15:33.518197Z",
     "start_time": "2020-03-03T05:15:33.510742Z"
    }
   },
   "source": [
    "**Native-country**"
   ]
  },
  {
   "cell_type": "code",
   "execution_count": 297,
   "metadata": {
    "ExecuteTime": {
     "end_time": "2020-03-03T12:57:26.544980Z",
     "start_time": "2020-03-03T12:57:26.535989Z"
    }
   },
   "outputs": [
    {
     "name": "stdout",
     "output_type": "stream",
     "text": [
      "41\n",
      "United-States    0.911876\n",
      "Mexico           0.020224\n",
      "Name: native-country, dtype: float64\n"
     ]
    }
   ],
   "source": [
    "cntry_counts = adult_df[\"native-country\"].value_counts()\n",
    "print(len(cntry_counts))\n",
    "print(cntry_counts[0:2]/np.sum(cntry_counts))"
   ]
  },
  {
   "cell_type": "markdown",
   "metadata": {},
   "source": [
    "US and Mexico make up 93% of the total native-countries while other countries 39 countries have very less counts. We group them into other category "
   ]
  },
  {
   "cell_type": "code",
   "execution_count": 298,
   "metadata": {
    "ExecuteTime": {
     "end_time": "2020-03-03T12:57:41.231193Z",
     "start_time": "2020-03-03T12:57:41.219188Z"
    }
   },
   "outputs": [],
   "source": [
    "adult_df.loc[((adult_df[\"native-country\"] != \"United-States\") & (adult_df[\"native-country\"] != \"Mexico\")),\"native-country\"] = \"Other\""
   ]
  },
  {
   "cell_type": "markdown",
   "metadata": {},
   "source": [
    "### c) Class - Distribution"
   ]
  },
  {
   "cell_type": "code",
   "execution_count": 299,
   "metadata": {
    "ExecuteTime": {
     "end_time": "2020-03-03T12:57:59.367334Z",
     "start_time": "2020-03-03T12:57:59.290521Z"
    }
   },
   "outputs": [
    {
     "data": {
      "text/plain": [
       "<matplotlib.axes._subplots.AxesSubplot at 0x28311e74c08>"
      ]
     },
     "execution_count": 299,
     "metadata": {},
     "output_type": "execute_result"
    },
    {
     "data": {
      "image/png": "[encoded data removed]",
      "text/plain": [
       "<Figure size 432x288 with 1 Axes>"
      ]
     },
     "metadata": {
      "needs_background": "light"
     },
     "output_type": "display_data"
    }
   ],
   "source": [
    "sns.countplot(adult_df[\"income\"])"
   ]
  },
  {
   "cell_type": "markdown",
   "metadata": {
    "ExecuteTime": {
     "end_time": "2020-03-03T05:45:06.692167Z",
     "start_time": "2020-03-03T05:45:06.667533Z"
    }
   },
   "source": [
    "We have 75% of population below 50K income and 25% above 50K"
   ]
  },
  {
   "cell_type": "markdown",
   "metadata": {
    "ExecuteTime": {
     "end_time": "2020-03-03T13:09:36.843021Z",
     "start_time": "2020-03-03T13:09:36.840029Z"
    }
   },
   "source": [
    "## 4) Dummy encoding of categorical features"
   ]
  },
  {
   "cell_type": "code",
   "execution_count": 300,
   "metadata": {
    "ExecuteTime": {
     "end_time": "2020-03-03T13:42:36.703666Z",
     "start_time": "2020-03-03T13:42:36.657909Z"
    }
   },
   "outputs": [],
   "source": [
    "adult_df_new = pd.get_dummies(adult_df)"
   ]
  },
  {
   "cell_type": "code",
   "execution_count": 301,
   "metadata": {},
   "outputs": [
    {
     "data": {
      "text/plain": [
       "Index(['age', 'education-num', 'hours-per-week', 'workingclass_Govt',\n",
       "       'workingclass_No-work-inc', 'workingclass_Private',\n",
       "       'workingclass_Self-emp', 'marital-status_Married',\n",
       "       'marital-status_Never-married', 'marital-status_Not-Married',\n",
       "       'occupation_Adm-clerical', 'occupation_Craft-repair',\n",
       "       'occupation_Exec-managerial', 'occupation_Farming-fishing',\n",
       "       'occupation_Handlers-cleaners', 'occupation_Machine-op-inspct',\n",
       "       'occupation_Other', 'occupation_Prof-specialty', 'occupation_Sales',\n",
       "       'occupation_Tech-support', 'occupation_Transport-moving',\n",
       "       'race_Asian-Pac-Islander', 'race_Black', 'race_Other', 'race_White',\n",
       "       'sex_Female', 'sex_Male', 'native-country_Mexico',\n",
       "       'native-country_Other', 'native-country_United-States', 'income_<=50K',\n",
       "       'income_>50K'],\n",
       "      dtype='object')"
      ]
     },
     "execution_count": 301,
     "metadata": {},
     "output_type": "execute_result"
    }
   ],
   "source": [
    "adult_df_new.columns"
   ]
  },
  {
   "cell_type": "code",
   "execution_count": 302,
   "metadata": {
    "ExecuteTime": {
     "end_time": "2020-03-03T13:42:38.805473Z",
     "start_time": "2020-03-03T13:42:38.779155Z"
    }
   },
   "outputs": [],
   "source": [
    "adult_df_new.drop(\"workingclass_No-work-inc\", axis = 1, inplace = True)\n",
    "adult_df_new.drop(\"marital-status_Not-Married\", axis = 1, inplace = True)\n",
    "adult_df_new.drop(\"occupation_Other\", axis = 1, inplace = True)\n",
    "adult_df_new.drop(\"race_Other\", axis = 1, inplace = True)\n",
    "adult_df_new.drop(\"sex_Female\", axis = 1, inplace = True)\n",
    "adult_df_new.drop(\"native-country_Other\", axis = 1, inplace = True)\n",
    "adult_df_new.drop(\"income_<=50K\", axis = 1, inplace = True)"
   ]
  },
  {
   "cell_type": "code",
   "execution_count": 375,
   "metadata": {
    "ExecuteTime": {
     "end_time": "2020-03-03T13:42:41.446522Z",
     "start_time": "2020-03-03T13:42:40.127972Z"
    }
   },
   "outputs": [
    {
     "data": {
      "text/plain": [
       "<matplotlib.axes._subplots.AxesSubplot at 0x2831b72f1c8>"
      ]
     },
     "execution_count": 375,
     "metadata": {},
     "output_type": "execute_result"
    },
    {
     "data": {
      "image/png": "[encoded data removed]",
      "text/plain": [
       "<Figure size 720x720 with 2 Axes>"
      ]
     },
     "metadata": {
      "needs_background": "light"
     },
     "output_type": "display_data"
    }
   ],
   "source": [
    "plt.figure(figsize = (10,10))\n",
    "sns.heatmap(adult_df_new.corr())"
   ]
  },
  {
   "cell_type": "markdown",
   "metadata": {},
   "source": [
    "**Observations:** <Br>\n",
    "&emsp;    1) Age has a strong negative correlation with marital-status <br>\n",
    "&emsp;    2) Native-country and race have a high correlation for specific values <br>\n",
    "&emsp;    3) Surprisingly native-country also has correlation with education-num <br>\n",
    "&emsp;    4) Many of the features have good correlation with the class income > 50k but we explore more in single factor analysis\n"
   ]
  },
  {
   "cell_type": "markdown",
   "metadata": {},
   "source": [
    "# 4. Inferential Analysis"
   ]
  },
  {
   "cell_type": "markdown",
   "metadata": {},
   "source": [
    "**Single factor analysis**: We try each feature and check whether it helps in determining income class. <br>\n",
    "Logistic Regression is fit for simplicity and interpretability in terms of log of odds <br>\n",
    "Note: These features may not be important in combination with others, single factor analysis however gives us an important factors individually for determining the classes"
   ]
  },
  {
   "cell_type": "code",
   "execution_count": 321,
   "metadata": {},
   "outputs": [],
   "source": [
    "X = adult_df_new.loc[:, adult_df_new.columns != \"income_>50K\"]\n",
    "X = X.astype(float)\n",
    "y = adult_df_new[\"income_>50K\"]\n",
    "y =  y.astype(float)\n",
    "X.insert(0,'constant',1)\n",
    "summary = pd.DataFrame(columns =[\"variable\",\"coeff size\",\"odds-ratio\", \"direction\",\"pvalue\"])"
   ]
  },
  {
   "cell_type": "code",
   "execution_count": 322,
   "metadata": {},
   "outputs": [
    {
     "data": {
      "text/plain": [
       "Index(['constant', 'age', 'education-num', 'hours-per-week',\n",
       "       'workingclass_Govt', 'workingclass_Private', 'workingclass_Self-emp',\n",
       "       'marital-status_Married', 'marital-status_Never-married',\n",
       "       'occupation_Adm-clerical', 'occupation_Craft-repair',\n",
       "       'occupation_Exec-managerial', 'occupation_Farming-fishing',\n",
       "       'occupation_Handlers-cleaners', 'occupation_Machine-op-inspct',\n",
       "       'occupation_Prof-specialty', 'occupation_Sales',\n",
       "       'occupation_Tech-support', 'occupation_Transport-moving',\n",
       "       'race_Asian-Pac-Islander', 'race_Black', 'race_White', 'sex_Male',\n",
       "       'native-country_Mexico', 'native-country_United-States'],\n",
       "      dtype='object')"
      ]
     },
     "execution_count": 322,
     "metadata": {},
     "output_type": "execute_result"
    }
   ],
   "source": [
    "X.columns"
   ]
  },
  {
   "cell_type": "code",
   "execution_count": 334,
   "metadata": {},
   "outputs": [],
   "source": [
    "from sklearn.feature_selection import RFE"
   ]
  },
  {
   "cell_type": "code",
   "execution_count": 365,
   "metadata": {},
   "outputs": [],
   "source": [
    "lr = LogisticRegression(solver = \"lbfgs\",penalty=\"none\")"
   ]
  },
  {
   "cell_type": "code",
   "execution_count": 366,
   "metadata": {},
   "outputs": [],
   "source": [
    "selector = RFE(lr, step=1)"
   ]
  },
  {
   "cell_type": "code",
   "execution_count": 367,
   "metadata": {},
   "outputs": [
    {
     "name": "stderr",
     "output_type": "stream",
     "text": [
      "C:\\ProgramData\\Anaconda3\\lib\\site-packages\\sklearn\\linear_model\\logistic.py:947: ConvergenceWarning: lbfgs failed to converge. Increase the number of iterations.\n",
      "  \"of iterations.\", ConvergenceWarning)\n",
      "C:\\ProgramData\\Anaconda3\\lib\\site-packages\\sklearn\\linear_model\\logistic.py:947: ConvergenceWarning: lbfgs failed to converge. Increase the number of iterations.\n",
      "  \"of iterations.\", ConvergenceWarning)\n",
      "C:\\ProgramData\\Anaconda3\\lib\\site-packages\\sklearn\\linear_model\\logistic.py:947: ConvergenceWarning: lbfgs failed to converge. Increase the number of iterations.\n",
      "  \"of iterations.\", ConvergenceWarning)\n",
      "C:\\ProgramData\\Anaconda3\\lib\\site-packages\\sklearn\\linear_model\\logistic.py:947: ConvergenceWarning: lbfgs failed to converge. Increase the number of iterations.\n",
      "  \"of iterations.\", ConvergenceWarning)\n",
      "C:\\ProgramData\\Anaconda3\\lib\\site-packages\\sklearn\\linear_model\\logistic.py:947: ConvergenceWarning: lbfgs failed to converge. Increase the number of iterations.\n",
      "  \"of iterations.\", ConvergenceWarning)\n",
      "C:\\ProgramData\\Anaconda3\\lib\\site-packages\\sklearn\\linear_model\\logistic.py:947: ConvergenceWarning: lbfgs failed to converge. Increase the number of iterations.\n",
      "  \"of iterations.\", ConvergenceWarning)\n",
      "C:\\ProgramData\\Anaconda3\\lib\\site-packages\\sklearn\\linear_model\\logistic.py:947: ConvergenceWarning: lbfgs failed to converge. Increase the number of iterations.\n",
      "  \"of iterations.\", ConvergenceWarning)\n",
      "C:\\ProgramData\\Anaconda3\\lib\\site-packages\\sklearn\\linear_model\\logistic.py:947: ConvergenceWarning: lbfgs failed to converge. Increase the number of iterations.\n",
      "  \"of iterations.\", ConvergenceWarning)\n",
      "C:\\ProgramData\\Anaconda3\\lib\\site-packages\\sklearn\\linear_model\\logistic.py:947: ConvergenceWarning: lbfgs failed to converge. Increase the number of iterations.\n",
      "  \"of iterations.\", ConvergenceWarning)\n",
      "C:\\ProgramData\\Anaconda3\\lib\\site-packages\\sklearn\\linear_model\\logistic.py:947: ConvergenceWarning: lbfgs failed to converge. Increase the number of iterations.\n",
      "  \"of iterations.\", ConvergenceWarning)\n",
      "C:\\ProgramData\\Anaconda3\\lib\\site-packages\\sklearn\\linear_model\\logistic.py:947: ConvergenceWarning: lbfgs failed to converge. Increase the number of iterations.\n",
      "  \"of iterations.\", ConvergenceWarning)\n"
     ]
    },
    {
     "data": {
      "text/plain": [
       "RFE(estimator=LogisticRegression(C=1.0, class_weight=None, dual=False,\n",
       "                                 fit_intercept=True, intercept_scaling=1,\n",
       "                                 l1_ratio=None, max_iter=100,\n",
       "                                 multi_class='warn', n_jobs=None,\n",
       "                                 penalty='none', random_state=None,\n",
       "                                 solver='lbfgs', tol=0.0001, verbose=0,\n",
       "                                 warm_start=False),\n",
       "    n_features_to_select=None, step=1, verbose=0)"
      ]
     },
     "execution_count": 367,
     "metadata": {},
     "output_type": "execute_result"
    }
   ],
   "source": [
    "selector.fit(adult_df_new.loc[:, adult_df_new.columns != \"income_>50K\"], y)"
   ]
  },
  {
   "cell_type": "code",
   "execution_count": 368,
   "metadata": {},
   "outputs": [
    {
     "data": {
      "text/plain": [
       "array([13,  3, 12,  1,  1,  1,  1,  1,  4,  5,  1,  1,  1, 11,  1,  1,  1,\n",
       "        6, 10,  9,  7,  2,  1,  8])"
      ]
     },
     "execution_count": 368,
     "metadata": {},
     "output_type": "execute_result"
    }
   ],
   "source": [
    "selector.ranking_"
   ]
  },
  {
   "cell_type": "code",
   "execution_count": 370,
   "metadata": {},
   "outputs": [
    {
     "data": {
      "text/plain": [
       "Index(['age', 'education-num', 'hours-per-week', 'workingclass_Govt',\n",
       "       'workingclass_Private', 'workingclass_Self-emp',\n",
       "       'marital-status_Married', 'marital-status_Never-married',\n",
       "       'occupation_Adm-clerical', 'occupation_Craft-repair',\n",
       "       'occupation_Exec-managerial', 'occupation_Farming-fishing',\n",
       "       'occupation_Handlers-cleaners', 'occupation_Machine-op-inspct',\n",
       "       'occupation_Prof-specialty', 'occupation_Sales',\n",
       "       'occupation_Tech-support', 'occupation_Transport-moving',\n",
       "       'race_Asian-Pac-Islander', 'race_Black', 'race_White', 'sex_Male',\n",
       "       'native-country_Mexico', 'native-country_United-States', 'income_>50K'],\n",
       "      dtype='object')"
      ]
     },
     "execution_count": 370,
     "metadata": {},
     "output_type": "execute_result"
    }
   ],
   "source": [
    "adult_df_new.columns"
   ]
  },
  {
   "cell_type": "code",
   "execution_count": 369,
   "metadata": {},
   "outputs": [
    {
     "data": {
      "text/plain": [
       "array([False, False, False,  True,  True,  True,  True,  True, False,\n",
       "       False,  True,  True,  True, False,  True,  True,  True, False,\n",
       "       False, False, False, False,  True, False])"
      ]
     },
     "execution_count": 369,
     "metadata": {},
     "output_type": "execute_result"
    }
   ],
   "source": [
    "selector.support_"
   ]
  },
  {
   "cell_type": "code",
   "execution_count": 340,
   "metadata": {},
   "outputs": [
    {
     "data": {
      "text/plain": [
       "LogisticRegression(C=1.0, class_weight=None, dual=False, fit_intercept=True,\n",
       "                   intercept_scaling=1, l1_ratio=None, max_iter=1000,\n",
       "                   multi_class='warn', n_jobs=None, penalty='l2',\n",
       "                   random_state=None, solver='lbfgs', tol=0.0001, verbose=0,\n",
       "                   warm_start=False)"
      ]
     },
     "execution_count": 340,
     "metadata": {},
     "output_type": "execute_result"
    }
   ],
   "source": [
    "lr.fit(adult_df_new.loc[:, adult_df_new.columns != \"income_>50K\"], y)"
   ]
  },
  {
   "cell_type": "code",
   "execution_count": 341,
   "metadata": {},
   "outputs": [
    {
     "data": {
      "text/plain": [
       "array([[ 0.0296173 ,  0.2995378 ,  0.03106801,  0.63274401,  0.62172992,\n",
       "         0.42230818,  2.00455513, -0.47389341,  0.42032001,  0.35089306,\n",
       "         1.19279101, -0.77564684, -0.41824006,  0.04806496,  0.90199472,\n",
       "         0.6520003 ,  0.94159749,  0.18860875,  0.48096986,  0.44896236,\n",
       "         0.57910336,  0.32541331, -0.4335486 ,  0.23394616]])"
      ]
     },
     "execution_count": 341,
     "metadata": {},
     "output_type": "execute_result"
    }
   ],
   "source": [
    "lr.coef_"
   ]
  },
  {
   "cell_type": "markdown",
   "metadata": {},
   "source": [
    "## 1) Age"
   ]
  },
  {
   "cell_type": "code",
   "execution_count": 323,
   "metadata": {},
   "outputs": [
    {
     "name": "stdout",
     "output_type": "stream",
     "text": [
      "Optimization terminated successfully.    (Exit mode 0)\n",
      "            Current function value: 0.5323285305229516\n",
      "            Iterations: 13\n",
      "            Function evaluations: 17\n",
      "            Gradient evaluations: 13\n"
     ]
    }
   ],
   "source": [
    "var = \"age\"\n",
    "lr_model = sm.Logit(y,X.loc[:,[\"constant\", var]]).fit_regularized()"
   ]
  },
  {
   "cell_type": "code",
   "execution_count": 324,
   "metadata": {},
   "outputs": [],
   "source": [
    "coeff_size = abs(lr_model.params[1])\n",
    "odds_r = np.exp(lr_model.params[1])\n",
    "direction = \"positive\" if lr_model.params[1] > 0 else \"negative\"\n",
    "pval = lr_model.pvalues[1]"
   ]
  },
  {
   "cell_type": "code",
   "execution_count": 325,
   "metadata": {},
   "outputs": [],
   "source": [
    "summary = summary.append({\"variable\":var,\"coeff size\": coeff_size, \"odds-ratio\":odds_r, \"direction\":direction, \"pvalue\":'%.3f'%pval}, ignore_index = True)"
   ]
  },
  {
   "cell_type": "markdown",
   "metadata": {},
   "source": [
    "## 2) Education (num)"
   ]
  },
  {
   "cell_type": "code",
   "execution_count": 326,
   "metadata": {},
   "outputs": [
    {
     "name": "stdout",
     "output_type": "stream",
     "text": [
      "Optimization terminated successfully.    (Exit mode 0)\n",
      "            Current function value: 0.49912510525751813\n",
      "            Iterations: 15\n",
      "            Function evaluations: 17\n",
      "            Gradient evaluations: 15\n"
     ]
    }
   ],
   "source": [
    "var = \"education-num\"\n",
    "lr_model = sm.Logit(y,X.loc[:,[\"constant\", var]]).fit_regularized()"
   ]
  },
  {
   "cell_type": "code",
   "execution_count": 327,
   "metadata": {},
   "outputs": [],
   "source": [
    "coeff_size = abs(lr_model.params[1])\n",
    "odds_r = np.exp(lr_model.params[1])\n",
    "direction = \"positive\" if lr_model.params[1] > 0 else \"negative\"\n",
    "pval = lr_model.pvalues[1]"
   ]
  },
  {
   "cell_type": "code",
   "execution_count": 328,
   "metadata": {},
   "outputs": [],
   "source": [
    "summary = summary.append({\"variable\":var,\"coeff size\": coeff_size, \"odds-ratio\":odds_r, \"direction\":direction, \"pvalue\":'%.3f'%pval}, ignore_index = True)"
   ]
  },
  {
   "cell_type": "markdown",
   "metadata": {},
   "source": [
    "## 3) Hours-per-week"
   ]
  },
  {
   "cell_type": "code",
   "execution_count": 329,
   "metadata": {},
   "outputs": [
    {
     "name": "stdout",
     "output_type": "stream",
     "text": [
      "Optimization terminated successfully.    (Exit mode 0)\n",
      "            Current function value: 0.5343168715689085\n",
      "            Iterations: 14\n",
      "            Function evaluations: 18\n",
      "            Gradient evaluations: 14\n"
     ]
    }
   ],
   "source": [
    "var = \"hours-per-week\"\n",
    "lr_model = sm.Logit(y,X.loc[:,[\"constant\", var]]).fit_regularized()"
   ]
  },
  {
   "cell_type": "code",
   "execution_count": 330,
   "metadata": {},
   "outputs": [],
   "source": [
    "coeff_size = abs(lr_model.params[1])\n",
    "odds_r = np.exp(lr_model.params[1])\n",
    "direction = \"positive\" if lr_model.params[1] > 0 else \"negative\"\n",
    "pval = lr_model.pvalues[1]"
   ]
  },
  {
   "cell_type": "code",
   "execution_count": 331,
   "metadata": {},
   "outputs": [],
   "source": [
    "summary = summary.append({\"variable\":var,\"coeff size\": coeff_size, \"odds-ratio\":odds_r, \"direction\":direction, \"pvalue\":'%.3f'%pval}, ignore_index = True)"
   ]
  },
  {
   "cell_type": "markdown",
   "metadata": {},
   "source": [
    "## 4) Working-class"
   ]
  },
  {
   "cell_type": "code",
   "execution_count": 332,
   "metadata": {},
   "outputs": [
    {
     "name": "stdout",
     "output_type": "stream",
     "text": [
      "Optimization terminated successfully.    (Exit mode 0)\n",
      "            Current function value: 0.5538302267493812\n",
      "            Iterations: 58\n",
      "            Function evaluations: 59\n",
      "            Gradient evaluations: 58\n"
     ]
    }
   ],
   "source": [
    "var = ['workingclass_Govt', 'workingclass_Private', 'workingclass_Self-emp']\n",
    "lr_model = sm.Logit(y,X.loc[:,[\"constant\", var[0], var[1], var[2]]]).fit_regularized()"
   ]
  },
  {
   "cell_type": "code",
   "execution_count": 333,
   "metadata": {},
   "outputs": [],
   "source": [
    "coeff_size = abs(lr_model.params[1])\n",
    "odds_r = np.exp(lr_model.params[1])\n",
    "direction = \"positive\" if lr_model.params[1] > 0 else \"negative\"\n",
    "pval = lr_model.pvalues[1]\n",
    "coeff_size2 = abs(lr_model.params[2])\n",
    "odds_r2 = np.exp(lr_model.params[2])\n",
    "direction2 = \"positive\" if lr_model.params[2] > 0 else \"negative\"\n",
    "pval2 = lr_model.pvalues[2]\n",
    "coeff_size3 = abs(lr_model.params[3])\n",
    "odds_r3 = np.exp(lr_model.params[3])\n",
    "direction3 = \"positive\" if lr_model.params[3] > 0 else \"negative\"\n",
    "pval3 = lr_model.pvalues[3]"
   ]
  },
  {
   "cell_type": "code",
   "execution_count": 318,
   "metadata": {},
   "outputs": [],
   "source": [
    "summary = summary.append({\"variable\":var[,\"coeff size\": coeff_size, \"odds-ratio\":odds_r, \"direction\":direction, \"pvalue\":'%.3f'%pval}, ignore_index = True)\n",
    "summary = summary.append({\"variable\":var,\"coeff size\": coeff_size, \"odds-ratio\":odds_r, \"direction\":direction, \"pvalue\":'%.3f'%pval}, ignore_index = True)\n",
    "summary = summary.append({\"variable\":var,\"coeff size\": coeff_size, \"odds-ratio\":odds_r, \"direction\":direction, \"pvalue\":'%.3f'%pval}, ignore_index = True)"
   ]
  },
  {
   "cell_type": "code",
   "execution_count": 320,
   "metadata": {},
   "outputs": [
    {
     "data": {
      "text/html": [
       "<div>\n",
       "<style scoped>\n",
       "    .dataframe tbody tr th:only-of-type {\n",
       "        vertical-align: middle;\n",
       "    }\n",
       "\n",
       "    .dataframe tbody tr th {\n",
       "        vertical-align: top;\n",
       "    }\n",
       "\n",
       "    .dataframe thead th {\n",
       "        text-align: right;\n",
       "    }\n",
       "</style>\n",
       "<table border=\"1\" class=\"dataframe\">\n",
       "  <thead>\n",
       "    <tr style=\"text-align: right;\">\n",
       "      <th></th>\n",
       "      <th>variable</th>\n",
       "      <th>coeff size</th>\n",
       "      <th>odds-ratio</th>\n",
       "      <th>direction</th>\n",
       "      <th>pvalue</th>\n",
       "    </tr>\n",
       "  </thead>\n",
       "  <tbody>\n",
       "    <tr>\n",
       "      <td>0</td>\n",
       "      <td>age</td>\n",
       "      <td>0.042345</td>\n",
       "      <td>1.043254e+00</td>\n",
       "      <td>positive</td>\n",
       "      <td>0.000</td>\n",
       "    </tr>\n",
       "    <tr>\n",
       "      <td>1</td>\n",
       "      <td>education-num</td>\n",
       "      <td>0.362038</td>\n",
       "      <td>1.436253e+00</td>\n",
       "      <td>positive</td>\n",
       "      <td>0.000</td>\n",
       "    </tr>\n",
       "    <tr>\n",
       "      <td>2</td>\n",
       "      <td>hours-per-week</td>\n",
       "      <td>0.046926</td>\n",
       "      <td>1.048044e+00</td>\n",
       "      <td>positive</td>\n",
       "      <td>0.000</td>\n",
       "    </tr>\n",
       "    <tr>\n",
       "      <td>3</td>\n",
       "      <td>[workingclass_Govt, workingclass_Private, work...</td>\n",
       "      <td>14.611049</td>\n",
       "      <td>2.215633e+06</td>\n",
       "      <td>positive</td>\n",
       "      <td>0.980</td>\n",
       "    </tr>\n",
       "  </tbody>\n",
       "</table>\n",
       "</div>"
      ],
      "text/plain": [
       "                                            variable  coeff size  \\\n",
       "0                                                age    0.042345   \n",
       "1                                      education-num    0.362038   \n",
       "2                                     hours-per-week    0.046926   \n",
       "3  [workingclass_Govt, workingclass_Private, work...   14.611049   \n",
       "\n",
       "     odds-ratio direction pvalue  \n",
       "0  1.043254e+00  positive  0.000  \n",
       "1  1.436253e+00  positive  0.000  \n",
       "2  1.048044e+00  positive  0.000  \n",
       "3  2.215633e+06  positive  0.980  "
      ]
     },
     "execution_count": 320,
     "metadata": {},
     "output_type": "execute_result"
    }
   ],
   "source": [
    "summary"
   ]
  },
  {
   "cell_type": "markdown",
   "metadata": {},
   "source": [
    "## 1) Age"
   ]
  },
  {
   "cell_type": "code",
   "execution_count": 207,
   "metadata": {},
   "outputs": [
    {
     "name": "stdout",
     "output_type": "stream",
     "text": [
      "Optimization terminated successfully.\n",
      "         Current function value: 0.532329\n",
      "         Iterations 6\n"
     ]
    }
   ],
   "source": [
    "var = \"age\"\n",
    "lr_model = sm.Logit(y,X.loc[:,[\"constant\", var]]).fit()"
   ]
  },
  {
   "cell_type": "code",
   "execution_count": 210,
   "metadata": {},
   "outputs": [],
   "source": [
    "coeff_size = abs(lr_model.params[1])\n",
    "odds_r = np.exp(lr_model.params[1])\n",
    "direction = \"positive\" if lr_model.params[1] > 0 else \"negative\"\n",
    "pval = lr_model.pvalues[1]"
   ]
  },
  {
   "cell_type": "code",
   "execution_count": 211,
   "metadata": {},
   "outputs": [],
   "source": [
    "summary = summary.append({\"variable\":var,\"coeff size\": coeff_size, \"odds-ratio\":odds_r, \"direction\":direction, \"pvalue\":'%.3f'%pval}, ignore_index = True)"
   ]
  },
  {
   "cell_type": "markdown",
   "metadata": {},
   "source": [
    "## 1) Age"
   ]
  },
  {
   "cell_type": "code",
   "execution_count": 207,
   "metadata": {},
   "outputs": [
    {
     "name": "stdout",
     "output_type": "stream",
     "text": [
      "Optimization terminated successfully.\n",
      "         Current function value: 0.532329\n",
      "         Iterations 6\n"
     ]
    }
   ],
   "source": [
    "var = \"age\"\n",
    "lr_model = sm.Logit(y,X.loc[:,[\"constant\", var]]).fit()"
   ]
  },
  {
   "cell_type": "code",
   "execution_count": 210,
   "metadata": {},
   "outputs": [],
   "source": [
    "coeff_size = abs(lr_model.params[1])\n",
    "odds_r = np.exp(lr_model.params[1])\n",
    "direction = \"positive\" if lr_model.params[1] > 0 else \"negative\"\n",
    "pval = lr_model.pvalues[1]"
   ]
  },
  {
   "cell_type": "code",
   "execution_count": 211,
   "metadata": {},
   "outputs": [],
   "source": [
    "summary = summary.append({\"variable\":var,\"coeff size\": coeff_size, \"odds-ratio\":odds_r, \"direction\":direction, \"pvalue\":'%.3f'%pval}, ignore_index = True)"
   ]
  },
  {
   "cell_type": "markdown",
   "metadata": {},
   "source": [
    "## 1) Age"
   ]
  },
  {
   "cell_type": "code",
   "execution_count": 207,
   "metadata": {},
   "outputs": [
    {
     "name": "stdout",
     "output_type": "stream",
     "text": [
      "Optimization terminated successfully.\n",
      "         Current function value: 0.532329\n",
      "         Iterations 6\n"
     ]
    }
   ],
   "source": [
    "var = \"age\"\n",
    "lr_model = sm.Logit(y,X.loc[:,[\"constant\", var]]).fit()"
   ]
  },
  {
   "cell_type": "code",
   "execution_count": 210,
   "metadata": {},
   "outputs": [],
   "source": [
    "coeff_size = abs(lr_model.params[1])\n",
    "odds_r = np.exp(lr_model.params[1])\n",
    "direction = \"positive\" if lr_model.params[1] > 0 else \"negative\"\n",
    "pval = lr_model.pvalues[1]"
   ]
  },
  {
   "cell_type": "code",
   "execution_count": 211,
   "metadata": {},
   "outputs": [],
   "source": [
    "summary = summary.append({\"variable\":var,\"coeff size\": coeff_size, \"odds-ratio\":odds_r, \"direction\":direction, \"pvalue\":'%.3f'%pval}, ignore_index = True)"
   ]
  },
  {
   "cell_type": "markdown",
   "metadata": {},
   "source": [
    "## 1) Age"
   ]
  },
  {
   "cell_type": "code",
   "execution_count": 207,
   "metadata": {},
   "outputs": [
    {
     "name": "stdout",
     "output_type": "stream",
     "text": [
      "Optimization terminated successfully.\n",
      "         Current function value: 0.532329\n",
      "         Iterations 6\n"
     ]
    }
   ],
   "source": [
    "var = \"age\"\n",
    "lr_model = sm.Logit(y,X.loc[:,[\"constant\", var]]).fit()"
   ]
  },
  {
   "cell_type": "code",
   "execution_count": 210,
   "metadata": {},
   "outputs": [],
   "source": [
    "coeff_size = abs(lr_model.params[1])\n",
    "odds_r = np.exp(lr_model.params[1])\n",
    "direction = \"positive\" if lr_model.params[1] > 0 else \"negative\"\n",
    "pval = lr_model.pvalues[1]"
   ]
  },
  {
   "cell_type": "code",
   "execution_count": 211,
   "metadata": {},
   "outputs": [],
   "source": [
    "summary = summary.append({\"variable\":var,\"coeff size\": coeff_size, \"odds-ratio\":odds_r, \"direction\":direction, \"pvalue\":'%.3f'%pval}, ignore_index = True)"
   ]
  },
  {
   "cell_type": "code",
   "execution_count": null,
   "metadata": {},
   "outputs": [],
   "source": []
  },
  {
   "cell_type": "code",
   "execution_count": null,
   "metadata": {},
   "outputs": [],
   "source": []
  },
  {
   "cell_type": "code",
   "execution_count": 13,
   "metadata": {
    "ExecuteTime": {
     "end_time": "2020-03-03T12:45:38.013123Z",
     "start_time": "2020-03-03T12:45:37.794244Z"
    }
   },
   "outputs": [
    {
     "data": {
      "text/plain": [
       "<matplotlib.axes._subplots.AxesSubplot at 0x2830a040dc8>"
      ]
     },
     "execution_count": 13,
     "metadata": {},
     "output_type": "execute_result"
    },
    {
     "data": {
      "image/png": "[encoded data removed]",
      "text/plain": [
       "<Figure size 576x360 with 1 Axes>"
      ]
     },
     "metadata": {
      "needs_background": "light"
     },
     "output_type": "display_data"
    }
   ],
   "source": [
    "#Checking value wise counts of education-num\n",
    "plt.figure(figsize = (8,5))\n",
    "sns.countplot(adult_df[\"education-num\"], hue = adult_df[\"income\"])"
   ]
  },
  {
   "cell_type": "markdown",
   "metadata": {},
   "source": [
    "As expected education-num only has integer values with spikes at 9,10 and 13 years of education <br>\n",
    "Proportion of >50K income increases as compared to income <=50K as we more from left to right suggesting more the education in years more chances of earning > =50K <BR>\n"
   ]
  },
  {
   "cell_type": "code",
   "execution_count": null,
   "metadata": {},
   "outputs": [],
   "source": []
  },
  {
   "cell_type": "code",
   "execution_count": 139,
   "metadata": {},
   "outputs": [],
   "source": [
    "lr = LogisticRegression(C = 0.001 , solver = \"lbfgs\")"
   ]
  },
  {
   "cell_type": "code",
   "execution_count": 140,
   "metadata": {
    "scrolled": true
   },
   "outputs": [
    {
     "data": {
      "text/plain": [
       "LogisticRegression(C=0.001, class_weight=None, dual=False, fit_intercept=True,\n",
       "                   intercept_scaling=1, l1_ratio=None, max_iter=100,\n",
       "                   multi_class='warn', n_jobs=None, penalty='l2',\n",
       "                   random_state=None, solver='lbfgs', tol=0.0001, verbose=0,\n",
       "                   warm_start=False)"
      ]
     },
     "execution_count": 140,
     "metadata": {},
     "output_type": "execute_result"
    }
   ],
   "source": [
    "lr.fit(X.loc[:,[\"constant\",\"age\"]], y)"
   ]
  },
  {
   "cell_type": "code",
   "execution_count": 141,
   "metadata": {},
   "outputs": [
    {
     "data": {
      "text/plain": [
       "array([[-6.81637504e-07,  4.22987357e-02]])"
      ]
     },
     "execution_count": 141,
     "metadata": {},
     "output_type": "execute_result"
    }
   ],
   "source": [
    "lr.coef_"
   ]
  },
  {
   "cell_type": "code",
   "execution_count": null,
   "metadata": {},
   "outputs": [],
   "source": []
  },
  {
   "cell_type": "code",
   "execution_count": 21,
   "metadata": {
    "ExecuteTime": {
     "end_time": "2020-03-03T12:47:13.058324Z",
     "start_time": "2020-03-03T12:47:12.899988Z"
    }
   },
   "outputs": [
    {
     "data": {
      "text/plain": [
       "<matplotlib.legend.Legend at 0x2830a663e08>"
      ]
     },
     "execution_count": 21,
     "metadata": {},
     "output_type": "execute_result"
    },
    {
     "data": {
      "image/png": "[encoded data removed]",
      "text/plain": [
       "<Figure size 576x432 with 1 Axes>"
      ]
     },
     "metadata": {
      "needs_background": "light"
     },
     "output_type": "display_data"
    }
   ],
   "source": [
    "#Check distributions of categorical data \n",
    "plt.figure(figsize = (8,6))\n",
    "s0 = sns.countplot(y= adult_df[\"workingclass\"], order = adult_df[\"workingclass\"].value_counts().index, hue = adult_df[\"income\"])\n",
    "s0.set_ylabel(None)\n",
    "s0.set_title(\"Working class category counts\",fontsize=15)\n",
    "plt.legend(loc='lower right')"
   ]
  },
  {
   "cell_type": "code",
   "execution_count": null,
   "metadata": {},
   "outputs": [],
   "source": []
  },
  {
   "cell_type": "code",
   "execution_count": 23,
   "metadata": {
    "ExecuteTime": {
     "end_time": "2020-03-03T12:54:02.305291Z",
     "start_time": "2020-03-03T12:54:02.166084Z"
    }
   },
   "outputs": [
    {
     "data": {
      "text/plain": [
       "<matplotlib.legend.Legend at 0x28309c74108>"
      ]
     },
     "execution_count": 23,
     "metadata": {},
     "output_type": "execute_result"
    },
    {
     "data": {
      "image/png": "[encoded data removed]",
      "text/plain": [
       "<Figure size 576x432 with 1 Axes>"
      ]
     },
     "metadata": {
      "needs_background": "light"
     },
     "output_type": "display_data"
    }
   ],
   "source": [
    "plt.figure(figsize = (8,6))\n",
    "s1 = sns.countplot(y= adult_df[\"race\"], order = adult_df[\"race\"].value_counts().index, hue = adult_df[\"income\"])\n",
    "s1.set_ylabel(None)\n",
    "s1.set_title(\"Race counts\",fontsize=20)\n",
    "plt.legend(loc='lower right')"
   ]
  },
  {
   "cell_type": "code",
   "execution_count": null,
   "metadata": {},
   "outputs": [],
   "source": []
  },
  {
   "cell_type": "code",
   "execution_count": 25,
   "metadata": {
    "ExecuteTime": {
     "end_time": "2020-03-03T12:54:51.820838Z",
     "start_time": "2020-03-03T12:54:51.671433Z"
    }
   },
   "outputs": [
    {
     "data": {
      "text/plain": [
       "<matplotlib.legend.Legend at 0x2830a5d7248>"
      ]
     },
     "execution_count": 25,
     "metadata": {},
     "output_type": "execute_result"
    },
    {
     "data": {
      "image/png": "[encoded data removed]",
      "text/plain": [
       "<Figure size 576x432 with 1 Axes>"
      ]
     },
     "metadata": {
      "needs_background": "light"
     },
     "output_type": "display_data"
    }
   ],
   "source": [
    "plt.figure(figsize = (8,6))\n",
    "s2 = sns.countplot(y= adult_df[\"marital-status\"], order = adult_df[\"marital-status\"].value_counts().index, hue = adult_df[\"income\"])\n",
    "s2.set_ylabel(None)\n",
    "s2.set_title(\"Marital-status counts\",fontsize=15)\n",
    "plt.legend(loc='lower right')"
   ]
  },
  {
   "cell_type": "code",
   "execution_count": null,
   "metadata": {},
   "outputs": [],
   "source": []
  },
  {
   "cell_type": "code",
   "execution_count": 27,
   "metadata": {
    "ExecuteTime": {
     "end_time": "2020-03-03T12:55:35.789561Z",
     "start_time": "2020-03-03T12:55:35.580125Z"
    },
    "scrolled": true
   },
   "outputs": [
    {
     "data": {
      "text/plain": [
       "<matplotlib.legend.Legend at 0x2830a609808>"
      ]
     },
     "execution_count": 27,
     "metadata": {},
     "output_type": "execute_result"
    },
    {
     "data": {
      "image/png": "[encoded data removed]",
      "text/plain": [
       "<Figure size 720x432 with 1 Axes>"
      ]
     },
     "metadata": {
      "needs_background": "light"
     },
     "output_type": "display_data"
    }
   ],
   "source": [
    "plt.figure(figsize = (10,6))\n",
    "s3 = sns.countplot(y= adult_df[\"occupation\"], order = adult_df[\"occupation\"].value_counts().index, hue = adult_df[\"income\"])\n",
    "s3.set_ylabel(None)\n",
    "s3.set_title(\"Occupation counts\",fontsize=15)\n",
    "plt.legend(loc='lower right')"
   ]
  },
  {
   "cell_type": "code",
   "execution_count": null,
   "metadata": {},
   "outputs": [],
   "source": []
  },
  {
   "cell_type": "markdown",
   "metadata": {},
   "source": [
    "**Exec-managerial** and **prof-speciality** have a higher proportion of >50K population as compated to other categories <br>  \n",
    "Each occupation is unique and has a different distribution of class income. **Therefore, we do not group these occupation** "
   ]
  }
 ],
 "metadata": {
  "kernelspec": {
   "display_name": "Python 3",
   "language": "python",
   "name": "python3"
  },
  "language_info": {
   "codemirror_mode": {
    "name": "ipython",
    "version": 3
   },
   "file_extension": ".py",
   "mimetype": "text/x-python",
   "name": "python",
   "nbconvert_exporter": "python",
   "pygments_lexer": "ipython3",
   "version": "3.7.4"
  }
 },
 "nbformat": 4,
 "nbformat_minor": 2
}
