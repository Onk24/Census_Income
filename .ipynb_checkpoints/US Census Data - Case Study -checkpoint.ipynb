{
 "cells": [
  {
   "cell_type": "code",
   "execution_count": 1,
   "metadata": {
    "ExecuteTime": {
     "end_time": "2020-03-09T17:21:35.617424Z",
     "start_time": "2020-03-09T17:21:35.593557Z"
    },
    "scrolled": true
   },
   "outputs": [
    {
     "data": {
      "text/html": [
       "<script>\n",
       "code_show=true; \n",
       "function code_toggle() {\n",
       " if (code_show){\n",
       " $('div.input').hide();\n",
       " } else {\n",
       " $('div.input').show();\n",
       " }\n",
       " code_show = !code_show\n",
       "} \n",
       "$( document ).ready(code_toggle);\n",
       "</script>\n",
       "<form action=\"javascript:code_toggle()\"><input type=\"submit\" value=\"Click here to toggle on/off the raw code.\"></form>"
      ],
      "text/plain": [
       "<IPython.core.display.HTML object>"
      ]
     },
     "execution_count": 1,
     "metadata": {},
     "output_type": "execute_result"
    }
   ],
   "source": [
    "from IPython.display import HTML\n",
    "\n",
    "HTML('''<script>\n",
    "code_show=true; \n",
    "function code_toggle() {\n",
    " if (code_show){\n",
    " $('div.input').hide();\n",
    " } else {\n",
    " $('div.input').show();\n",
    " }\n",
    " code_show = !code_show\n",
    "} \n",
    "$( document ).ready(code_toggle);\n",
    "</script>\n",
    "<form action=\"javascript:code_toggle()\"><input type=\"submit\" value=\"Click here to toggle on/off the raw code.\"></form>''')"
   ]
  },
  {
   "cell_type": "markdown",
   "metadata": {
    "slideshow": {
     "slide_type": "subslide"
    }
   },
   "source": [
    "# US Census Data - Case Study\n",
    "&emsp; by Onkar Suhas Samant"
   ]
  },
  {
   "cell_type": "markdown",
   "metadata": {
    "slideshow": {
     "slide_type": "subslide"
    }
   },
   "source": [
    "# Executive Summary\n",
    "US is one of the most diverse nations on this planet. In this work we try to analyze their population census data. The data is extracted from 1994 Census database by UCI and is publicly available. We try tackling the following questions which might be of interest for corporations or population study:\n",
    "- What are the key factors contributing to the high or low income class? <br> \n",
    "- How can we find the people who would be successful investors? \n",
    "- What is the impact of each factor on the high/low income class? \n",
    "- Can we predict if a person had high/low income based on his / her attributes? <br>\n",
    "\n",
    "The first 3 questions are answered in the **Inferential Analysis** section while the last question is answered in the **Predictive Modeling** section. \n",
    "\n",
    "\n",
    "<br>\n",
    "    \n",
    "**Key takeaways:** <br>\n",
    "- It's concerning that sex and race are found out to be important factors for high/low income class. <br> Following table summarizes the impotant factors determining high/low income class:\n",
    "\n",
    "| Factors | Importance|\n",
    "| :-: | :-: |\n",
    "| Age | Very imp. |\n",
    "| Education (years) | Very imp. |\n",
    "| Work hour per week | Very imp. |\n",
    "| Marital-status | Very imp. |\n",
    "| Net-capital gain | Important |\n",
    "| Sex | Important |\n",
    "| Working-class | Important |\n",
    "| Occupation | Important |\n",
    "| Race | Important |\n",
    "| Native-country | Important |\n",
    "\n",
    "\n",
    "\n",
    "- People belonging to high-income class, are married and are working as executive managers or in specialty profession are estimated to be the successful investors <Br> \n",
    "\n",
    "\n",
    "- We measure impact of each factor in terms of odds ratio i.e. **(Probability of high income class / Probability of low income class)**. <br>  Impact of some variables can be summarized in the following table:\n",
    "\n",
    "| Change in factors | Impact on odds-ratio|\n",
    "| :-: | :-: |\n",
    "| Marital-status = married | 7.5 times |\n",
    "| Net capital > 0 | 4.9 times |\n",
    "| Education by 1 year | 1.36 times |\n",
    "| Sex | 1.36 times |\n",
    "| Age by 10 years | 1.3 times |\n",
    "| Race = white | 1.18 times |\n",
    "\n",
    "\n",
    "    \n",
    "- We can predict if a person belongs to high/low income class based on his/her attributes. The results are excellent on the test data with most classifiers achieving at least 83% accuracy. We summarize our findings in the following table: \n",
    "\n",
    "| Model | Accuracy | Training time(s)|\n",
    "| :-: | :-: | :-: |\n",
    "| Decision-Tree | 0.83 | 0.05 |\n",
    "| Random Forest | 0.84 | 1.03 |\n",
    "| AdaBoost | 0.83 | 0.63 |\n",
    "| XGBoost | 0.84 | 2.66 |\n",
    "| Logistic Regression | 0.83 | 0.07 |\n",
    "| SVM | 0.83 | 13.77 |\n"
   ]
  },
  {
   "cell_type": "markdown",
   "metadata": {},
   "source": [
    "# Approach"
   ]
  },
  {
   "cell_type": "markdown",
   "metadata": {},
   "source": [
    "We summarize the approach for each question as follows:\n",
    "- Feature selection using a random forest classifier to select only relevant features for our analysis. It's important to look at all the features holistically as features are dependent on each other. Through feature selection we find out what are the important features. Charts also explain the same at an individual feature level - **Check** [Factors impacting the high/low income class](#Factors-impacting-the-high/low-income-class)\n",
    "\n",
    "\n",
    "- We assume people who have a net capital gain would be good investors. We analyze how this group of people is different from rest of the population. Few features stand-out distinctly and we make note of those. Statistical tests would prove the same but can give more reliability. Our analysis is based on the central measure (mean / mode), variance and plots. **Check** [Finding out the potential investors](#Finding-out-the-potential-investors)\n",
    "\n",
    "\n",
    "- The impact of each feature is measured using Logistic Regression. We use the selected features from the first question's results for building the logistic regression model. As Logistic regression gives very good accuracy comparable to the best accuracy we use it for measuring the impact of each feature. The coefficients are interpreted in terms of odd-ratio of high-income class w.r.t. low-income class. **Check** [Impact of each feature on high/low income class](#Impact-of-each-feature-on-high/low-income-class)\n",
    "\n",
    "\n",
    "- We try out different supervised learning algorithms. The model is trained on the selected features. Furthermore, we tune the model the give a good cross-validation accuracy. This model is tested on the test data and the results tabulated. \n",
    "**Check** [Predictive Modeling](#Predictive-Modeling) <br>\n",
    "\n"
   ]
  },
  {
   "cell_type": "markdown",
   "metadata": {},
   "source": [
    "# Importing libraries and data "
   ]
  },
  {
   "cell_type": "code",
   "execution_count": 2,
   "metadata": {
    "ExecuteTime": {
     "end_time": "2020-03-09T17:21:45.600205Z",
     "start_time": "2020-03-09T17:21:35.621822Z"
    }
   },
   "outputs": [],
   "source": [
    "#Importing libraries\n",
    "import pandas as pd\n",
    "import io\n",
    "import requests\n",
    "import numpy as np\n",
    "from matplotlib import pyplot as plt\n",
    "import seaborn as sns\n",
    "from scipy.stats import chi2_contingency\n",
    "from scipy.stats import chi2\n",
    "from sklearn.feature_selection import RFECV\n",
    "from sklearn.linear_model import LogisticRegression\n",
    "from sklearn.preprocessing import MinMaxScaler\n",
    "from sklearn.model_selection import cross_val_score\n",
    "from sklearn.inspection import permutation_importance\n",
    "from sklearn.ensemble import AdaBoostClassifier\n",
    "from xgboost.sklearn import XGBClassifier\n",
    "from sklearn.model_selection import StratifiedKFold\n",
    "from sklearn.svm import SVC\n",
    "from sklearn.ensemble import RandomForestClassifier\n",
    "from sklearn.tree import DecisionTreeClassifier\n",
    "from sklearn.model_selection import GridSearchCV\n",
    "import time\n",
    "from IPython.display import HTML, display\n",
    "from IPython.display import HTML, display\n",
    "import tabulate"
   ]
  },
  {
   "cell_type": "code",
   "execution_count": 3,
   "metadata": {
    "ExecuteTime": {
     "end_time": "2020-03-09T17:21:47.534314Z",
     "start_time": "2020-03-09T17:21:45.602199Z"
    }
   },
   "outputs": [],
   "source": [
    "url=\"https://archive.ics.uci.edu/ml/machine-learning-databases/adult/adult.data\"\n",
    "content =requests.get(url).content\n",
    "columns = [\"age\", \"workingclass\", \"fnlwgt\", \"education\", \"education-num\", \"marital-status\", \"occupation\" , \"relationship\", \"race\", \"sex\", \"capital-gain\", \"capital-loss\", \"hours-per-week\", \"native-country\", \"income\"] \n",
    "adult_df=pd.read_csv(io.StringIO(content.decode('utf-8')), header = None)\n",
    "adult_df.columns = columns"
   ]
  },
  {
   "cell_type": "markdown",
   "metadata": {},
   "source": [
    "# Exploratory data analysis & Feature engineering"
   ]
  },
  {
   "cell_type": "markdown",
   "metadata": {},
   "source": [
    "## Dataset information from UCI"
   ]
  },
  {
   "cell_type": "markdown",
   "metadata": {},
   "source": [
    "UCI has given information about the data and features. We need to understand it thoroughly before we do any analysis."
   ]
  },
  {
   "cell_type": "markdown",
   "metadata": {},
   "source": [
    "The data is extracted from the 1994 Census database and is publicly available : [US Census data]\n",
    "\n",
    "\n",
    "[US Census data]: https://archive.ics.uci.edu/ml/machine-learning-databases/adult \"US Census Data\"\n",
    "\n",
    "\n",
    "\n",
    "Following are the attributes and their types: <br>\n",
    "- **age:** continuous <br>\n",
    "- **workclass:** categorical  <br>\n",
    "- **fnlwgt:** continuous, represents the number of units the record represents in the population. <br>\n",
    "- **education:** categorical <br>\n",
    "- **education-num:** continuous<br>\n",
    "- **marital-status:** categorical <br>\n",
    "- **occupation:** categorical <br>\n",
    "- **relationship:** categorical. Values - Wife, Own-child, Husband, Not-in-family, Other-relative, Unmarried.  <br>\n",
    "- **race:** categorical<br>\n",
    "- **sex:** categorical<br>\n",
    "- **capital-gain:** continuous <br>\n",
    "- **capital-loss:** continuous <br>\n",
    "- **hours-per-week:** continuous, number of work the person has worked for in a week<br>\n",
    "- **native-country:** categorical <br>\n",
    "- **income:** categorical, class (not attribute) <=50K and >50K"
   ]
  },
  {
   "cell_type": "markdown",
   "metadata": {},
   "source": [
    "##  High-level overview"
   ]
  },
  {
   "cell_type": "code",
   "execution_count": 4,
   "metadata": {
    "ExecuteTime": {
     "end_time": "2020-03-09T17:21:47.546192Z",
     "start_time": "2020-03-09T17:21:47.537166Z"
    }
   },
   "outputs": [],
   "source": [
    "#Attribute statistics \n",
    "adult_df_shape = adult_df.shape"
   ]
  },
  {
   "cell_type": "markdown",
   "metadata": {},
   "source": [
    "We have 32,561 records and 14 attributes. <br>\n",
    "The last attribute is income class <=50K and >50K"
   ]
  },
  {
   "cell_type": "markdown",
   "metadata": {},
   "source": [
    "### Handling Null / Missing Values"
   ]
  },
  {
   "cell_type": "code",
   "execution_count": 5,
   "metadata": {
    "ExecuteTime": {
     "end_time": "2020-03-09T17:21:47.777015Z",
     "start_time": "2020-03-09T17:21:47.548757Z"
    }
   },
   "outputs": [],
   "source": [
    "#removing end blank spaces\n",
    "df_obj = adult_df.select_dtypes(['object'])\n",
    "adult_df[df_obj.columns] = df_obj.apply(lambda x: x.str.strip())"
   ]
  },
  {
   "cell_type": "markdown",
   "metadata": {},
   "source": [
    "There are no null values. We check for missing values in each of the variable"
   ]
  },
  {
   "cell_type": "code",
   "execution_count": 6,
   "metadata": {
    "ExecuteTime": {
     "end_time": "2020-03-09T17:21:47.848904Z",
     "start_time": "2020-03-09T17:21:47.779402Z"
    }
   },
   "outputs": [
    {
     "data": {
      "text/plain": [
       "age                  0\n",
       "workingclass      1836\n",
       "fnlwgt               0\n",
       "education            0\n",
       "education-num        0\n",
       "marital-status       0\n",
       "occupation        1843\n",
       "relationship         0\n",
       "race                 0\n",
       "sex                  0\n",
       "capital-gain         0\n",
       "capital-loss         0\n",
       "hours-per-week       0\n",
       "native-country     583\n",
       "income               0\n",
       "dtype: int64"
      ]
     },
     "execution_count": 6,
     "metadata": {},
     "output_type": "execute_result"
    }
   ],
   "source": [
    "#Check for missing values in all the columns\n",
    "adult_df.isin([\"?\"]).sum()"
   ]
  },
  {
   "cell_type": "markdown",
   "metadata": {},
   "source": [
    "Since missing values are not many we can drop those rows which have missing values"
   ]
  },
  {
   "cell_type": "code",
   "execution_count": 7,
   "metadata": {
    "ExecuteTime": {
     "end_time": "2020-03-09T17:21:47.890660Z",
     "start_time": "2020-03-09T17:21:47.852113Z"
    }
   },
   "outputs": [],
   "source": [
    "#Dropping missing values\n",
    "adult_df = adult_df.loc[adult_df[\"workingclass\"] !=\"?\"]\n",
    "adult_df = adult_df.loc[adult_df[\"occupation\"] !=\"?\"]\n",
    "adult_df = adult_df.loc[adult_df[\"native-country\"] !=\"?\"]"
   ]
  },
  {
   "cell_type": "markdown",
   "metadata": {},
   "source": [
    "We lose out on some data when we delete missing values we can check how much are we missing "
   ]
  },
  {
   "cell_type": "code",
   "execution_count": 8,
   "metadata": {
    "ExecuteTime": {
     "end_time": "2020-03-09T17:21:47.903486Z",
     "start_time": "2020-03-09T17:21:47.893595Z"
    }
   },
   "outputs": [
    {
     "name": "stdout",
     "output_type": "stream",
     "text": [
      "Lost rows = 7.37%\n"
     ]
    }
   ],
   "source": [
    "print(\"Lost rows = \"+str(round(1 - (adult_df.shape[0]/32561),4)*100)+\"%\")"
   ]
  },
  {
   "cell_type": "markdown",
   "metadata": {},
   "source": [
    "Now we have 30,162 rows"
   ]
  },
  {
   "cell_type": "markdown",
   "metadata": {},
   "source": [
    "### Describe variables "
   ]
  },
  {
   "cell_type": "markdown",
   "metadata": {},
   "source": [
    "#### Continuous / Integer  variables"
   ]
  },
  {
   "cell_type": "code",
   "execution_count": 9,
   "metadata": {
    "ExecuteTime": {
     "end_time": "2020-03-09T17:21:47.943871Z",
     "start_time": "2020-03-09T17:21:47.906704Z"
    }
   },
   "outputs": [
    {
     "data": {
      "text/html": [
       "<div>\n",
       "<style scoped>\n",
       "    .dataframe tbody tr th:only-of-type {\n",
       "        vertical-align: middle;\n",
       "    }\n",
       "\n",
       "    .dataframe tbody tr th {\n",
       "        vertical-align: top;\n",
       "    }\n",
       "\n",
       "    .dataframe thead th {\n",
       "        text-align: right;\n",
       "    }\n",
       "</style>\n",
       "<table border=\"1\" class=\"dataframe\">\n",
       "  <thead>\n",
       "    <tr style=\"text-align: right;\">\n",
       "      <th></th>\n",
       "      <th>age</th>\n",
       "      <th>fnlwgt</th>\n",
       "      <th>education-num</th>\n",
       "      <th>capital-gain</th>\n",
       "      <th>capital-loss</th>\n",
       "      <th>hours-per-week</th>\n",
       "    </tr>\n",
       "  </thead>\n",
       "  <tbody>\n",
       "    <tr>\n",
       "      <th>count</th>\n",
       "      <td>30162.000000</td>\n",
       "      <td>3.016200e+04</td>\n",
       "      <td>30162.000000</td>\n",
       "      <td>30162.000000</td>\n",
       "      <td>30162.000000</td>\n",
       "      <td>30162.000000</td>\n",
       "    </tr>\n",
       "    <tr>\n",
       "      <th>mean</th>\n",
       "      <td>38.437902</td>\n",
       "      <td>1.897938e+05</td>\n",
       "      <td>10.121312</td>\n",
       "      <td>1092.007858</td>\n",
       "      <td>88.372489</td>\n",
       "      <td>40.931238</td>\n",
       "    </tr>\n",
       "    <tr>\n",
       "      <th>std</th>\n",
       "      <td>13.134665</td>\n",
       "      <td>1.056530e+05</td>\n",
       "      <td>2.549995</td>\n",
       "      <td>7406.346497</td>\n",
       "      <td>404.298370</td>\n",
       "      <td>11.979984</td>\n",
       "    </tr>\n",
       "    <tr>\n",
       "      <th>min</th>\n",
       "      <td>17.000000</td>\n",
       "      <td>1.376900e+04</td>\n",
       "      <td>1.000000</td>\n",
       "      <td>0.000000</td>\n",
       "      <td>0.000000</td>\n",
       "      <td>1.000000</td>\n",
       "    </tr>\n",
       "    <tr>\n",
       "      <th>25%</th>\n",
       "      <td>28.000000</td>\n",
       "      <td>1.176272e+05</td>\n",
       "      <td>9.000000</td>\n",
       "      <td>0.000000</td>\n",
       "      <td>0.000000</td>\n",
       "      <td>40.000000</td>\n",
       "    </tr>\n",
       "    <tr>\n",
       "      <th>50%</th>\n",
       "      <td>37.000000</td>\n",
       "      <td>1.784250e+05</td>\n",
       "      <td>10.000000</td>\n",
       "      <td>0.000000</td>\n",
       "      <td>0.000000</td>\n",
       "      <td>40.000000</td>\n",
       "    </tr>\n",
       "    <tr>\n",
       "      <th>75%</th>\n",
       "      <td>47.000000</td>\n",
       "      <td>2.376285e+05</td>\n",
       "      <td>13.000000</td>\n",
       "      <td>0.000000</td>\n",
       "      <td>0.000000</td>\n",
       "      <td>45.000000</td>\n",
       "    </tr>\n",
       "    <tr>\n",
       "      <th>max</th>\n",
       "      <td>90.000000</td>\n",
       "      <td>1.484705e+06</td>\n",
       "      <td>16.000000</td>\n",
       "      <td>99999.000000</td>\n",
       "      <td>4356.000000</td>\n",
       "      <td>99.000000</td>\n",
       "    </tr>\n",
       "  </tbody>\n",
       "</table>\n",
       "</div>"
      ],
      "text/plain": [
       "                age        fnlwgt  education-num  capital-gain  capital-loss  \\\n",
       "count  30162.000000  3.016200e+04   30162.000000  30162.000000  30162.000000   \n",
       "mean      38.437902  1.897938e+05      10.121312   1092.007858     88.372489   \n",
       "std       13.134665  1.056530e+05       2.549995   7406.346497    404.298370   \n",
       "min       17.000000  1.376900e+04       1.000000      0.000000      0.000000   \n",
       "25%       28.000000  1.176272e+05       9.000000      0.000000      0.000000   \n",
       "50%       37.000000  1.784250e+05      10.000000      0.000000      0.000000   \n",
       "75%       47.000000  2.376285e+05      13.000000      0.000000      0.000000   \n",
       "max       90.000000  1.484705e+06      16.000000  99999.000000   4356.000000   \n",
       "\n",
       "       hours-per-week  \n",
       "count    30162.000000  \n",
       "mean        40.931238  \n",
       "std         11.979984  \n",
       "min          1.000000  \n",
       "25%         40.000000  \n",
       "50%         40.000000  \n",
       "75%         45.000000  \n",
       "max         99.000000  "
      ]
     },
     "execution_count": 9,
     "metadata": {},
     "output_type": "execute_result"
    }
   ],
   "source": [
    "#Describe each continuous variable\n",
    "adult_df.describe()"
   ]
  },
  {
   "cell_type": "markdown",
   "metadata": {},
   "source": [
    "We check for total sum of \"fnlwgt\" to see if it makes sense"
   ]
  },
  {
   "cell_type": "code",
   "execution_count": 10,
   "metadata": {
    "ExecuteTime": {
     "end_time": "2020-03-09T17:21:47.952674Z",
     "start_time": "2020-03-09T17:21:47.944868Z"
    }
   },
   "outputs": [
    {
     "name": "stdout",
     "output_type": "stream",
     "text": [
      "Sum of fnlwgt = 5724561619\n"
     ]
    }
   ],
   "source": [
    "##Sum of fnlwgt\n",
    "print(\"Sum of fnlwgt = \"+str(np.sum(adult_df[\"fnlwgt\"])))"
   ]
  },
  {
   "cell_type": "markdown",
   "metadata": {},
   "source": [
    "**Observations:** <br>\n",
    "1) Age of all the individauls is **>17** <br>\n",
    "2) age, education-num and hours-per-week **seem approx. normal distributions**. We can further check the distributions to confirm <br>\n",
    "3) More than 75% of the data in capital-gain and capital-loss column is 0 as we see with **3rd Quartile (75%) = 0** <br>\n",
    "4) **fnlwgt can be dropped** as we're unclear of it's usage  - sum of fnlwgt is greater than total US population"
   ]
  },
  {
   "cell_type": "markdown",
   "metadata": {},
   "source": [
    "#### Categorical variables"
   ]
  },
  {
   "cell_type": "code",
   "execution_count": 11,
   "metadata": {
    "ExecuteTime": {
     "end_time": "2020-03-09T17:21:48.054205Z",
     "start_time": "2020-03-09T17:21:47.953672Z"
    },
    "scrolled": true
   },
   "outputs": [
    {
     "data": {
      "text/html": [
       "<div>\n",
       "<style scoped>\n",
       "    .dataframe tbody tr th:only-of-type {\n",
       "        vertical-align: middle;\n",
       "    }\n",
       "\n",
       "    .dataframe tbody tr th {\n",
       "        vertical-align: top;\n",
       "    }\n",
       "\n",
       "    .dataframe thead th {\n",
       "        text-align: right;\n",
       "    }\n",
       "</style>\n",
       "<table border=\"1\" class=\"dataframe\">\n",
       "  <thead>\n",
       "    <tr style=\"text-align: right;\">\n",
       "      <th></th>\n",
       "      <th>workingclass</th>\n",
       "      <th>education</th>\n",
       "      <th>marital-status</th>\n",
       "      <th>occupation</th>\n",
       "      <th>relationship</th>\n",
       "      <th>race</th>\n",
       "      <th>sex</th>\n",
       "      <th>native-country</th>\n",
       "      <th>income</th>\n",
       "    </tr>\n",
       "  </thead>\n",
       "  <tbody>\n",
       "    <tr>\n",
       "      <th>count</th>\n",
       "      <td>30162</td>\n",
       "      <td>30162</td>\n",
       "      <td>30162</td>\n",
       "      <td>30162</td>\n",
       "      <td>30162</td>\n",
       "      <td>30162</td>\n",
       "      <td>30162</td>\n",
       "      <td>30162</td>\n",
       "      <td>30162</td>\n",
       "    </tr>\n",
       "    <tr>\n",
       "      <th>unique</th>\n",
       "      <td>7</td>\n",
       "      <td>16</td>\n",
       "      <td>7</td>\n",
       "      <td>14</td>\n",
       "      <td>6</td>\n",
       "      <td>5</td>\n",
       "      <td>2</td>\n",
       "      <td>41</td>\n",
       "      <td>2</td>\n",
       "    </tr>\n",
       "    <tr>\n",
       "      <th>top</th>\n",
       "      <td>Private</td>\n",
       "      <td>HS-grad</td>\n",
       "      <td>Married-civ-spouse</td>\n",
       "      <td>Prof-specialty</td>\n",
       "      <td>Husband</td>\n",
       "      <td>White</td>\n",
       "      <td>Male</td>\n",
       "      <td>United-States</td>\n",
       "      <td>&lt;=50K</td>\n",
       "    </tr>\n",
       "    <tr>\n",
       "      <th>freq</th>\n",
       "      <td>22286</td>\n",
       "      <td>9840</td>\n",
       "      <td>14065</td>\n",
       "      <td>4038</td>\n",
       "      <td>12463</td>\n",
       "      <td>25933</td>\n",
       "      <td>20380</td>\n",
       "      <td>27504</td>\n",
       "      <td>22654</td>\n",
       "    </tr>\n",
       "  </tbody>\n",
       "</table>\n",
       "</div>"
      ],
      "text/plain": [
       "       workingclass education      marital-status      occupation  \\\n",
       "count         30162     30162               30162           30162   \n",
       "unique            7        16                   7              14   \n",
       "top         Private   HS-grad  Married-civ-spouse  Prof-specialty   \n",
       "freq          22286      9840               14065            4038   \n",
       "\n",
       "       relationship   race    sex native-country income  \n",
       "count         30162  30162  30162          30162  30162  \n",
       "unique            6      5      2             41      2  \n",
       "top         Husband  White   Male  United-States  <=50K  \n",
       "freq          12463  25933  20380          27504  22654  "
      ]
     },
     "execution_count": 11,
     "metadata": {},
     "output_type": "execute_result"
    }
   ],
   "source": [
    "#Describe each categorical variable\n",
    "adult_df.describe(include = [\"O\"])"
   ]
  },
  {
   "cell_type": "markdown",
   "metadata": {},
   "source": [
    "**Observation:** <br> \n",
    "Most of the data consists of people of **workingclass = Private, Race = White, Native country = US, income <=50K**"
   ]
  },
  {
   "cell_type": "markdown",
   "metadata": {},
   "source": [
    "##  Analysing variables and encoding"
   ]
  },
  {
   "cell_type": "markdown",
   "metadata": {},
   "source": [
    "We try to check distributions of continuous variables and counts of categorical variables. Encoding and dropping of variables is done based on logical sense. However, we restrict this activity to be as minimal as possible in order to not lose out on information "
   ]
  },
  {
   "cell_type": "markdown",
   "metadata": {},
   "source": [
    "### Continuous variables"
   ]
  },
  {
   "cell_type": "markdown",
   "metadata": {},
   "source": [
    "#### Age, education-num and hours-per-week"
   ]
  },
  {
   "cell_type": "code",
   "execution_count": 12,
   "metadata": {
    "ExecuteTime": {
     "end_time": "2020-03-09T17:21:48.848825Z",
     "start_time": "2020-03-09T17:21:48.057135Z"
    }
   },
   "outputs": [
    {
     "data": {
      "image/png": "[encoded data removed]",
      "text/plain": [
       "<Figure size 1080x288 with 3 Axes>"
      ]
     },
     "metadata": {
      "needs_background": "light"
     },
     "output_type": "display_data"
    }
   ],
   "source": [
    "fig, ax = plt.subplots(1,3, figsize = (15,4));\n",
    "sns.distplot(adult_df[\"age\"], ax = ax[0]);\n",
    "sns.distplot(adult_df[\"education-num\"], ax = ax[1]);\n",
    "sns.distplot(adult_df[\"hours-per-week\"], ax = ax[2]);"
   ]
  },
  {
   "cell_type": "markdown",
   "metadata": {},
   "source": [
    "**Observations:** \n",
    "- **Age is right-skewed distribution** since we have the dataset of adults only\n",
    "-  **Education-num is not continuous** and has integer values only, we can further check this\n",
    "- Hours-per-week has a **huge spike at 40** which is normal working hours"
   ]
  },
  {
   "cell_type": "markdown",
   "metadata": {},
   "source": [
    "#### Capital-loss and capital-gain"
   ]
  },
  {
   "cell_type": "code",
   "execution_count": 13,
   "metadata": {
    "ExecuteTime": {
     "end_time": "2020-03-09T17:21:49.173016Z",
     "start_time": "2020-03-09T17:21:48.849802Z"
    }
   },
   "outputs": [
    {
     "data": {
      "image/png": "[encoded data removed]",
      "text/plain": [
       "<Figure size 720x288 with 2 Axes>"
      ]
     },
     "metadata": {
      "needs_background": "light"
     },
     "output_type": "display_data"
    }
   ],
   "source": [
    "fig, ax = plt.subplots(1,2, figsize = (10,4));\n",
    "sns.distplot(adult_df[\"capital-gain\"], ax = ax[0], kde = False);\n",
    "sns.distplot(adult_df[\"capital-loss\"], ax = ax[1], kde = False);"
   ]
  },
  {
   "cell_type": "markdown",
   "metadata": {},
   "source": [
    "Most values in capital-gain and capital-loss are 0"
   ]
  },
  {
   "cell_type": "code",
   "execution_count": 14,
   "metadata": {
    "ExecuteTime": {
     "end_time": "2020-03-09T17:21:49.180866Z",
     "start_time": "2020-03-09T17:21:49.174015Z"
    }
   },
   "outputs": [
    {
     "name": "stdout",
     "output_type": "stream",
     "text": [
      "Percentage of 0 values in capital-gain = 92.0%\n"
     ]
    }
   ],
   "source": [
    "print(\"Percentage of 0 values in capital-gain = \"+str(round(np.mean(adult_df[\"capital-gain\"]==0),2)*100)+\"%\")"
   ]
  },
  {
   "cell_type": "code",
   "execution_count": 15,
   "metadata": {
    "ExecuteTime": {
     "end_time": "2020-03-09T17:21:49.192776Z",
     "start_time": "2020-03-09T17:21:49.182054Z"
    }
   },
   "outputs": [
    {
     "name": "stdout",
     "output_type": "stream",
     "text": [
      "Percentage of 0 values in capital-gain = 95.0%\n"
     ]
    }
   ],
   "source": [
    "print(\"Percentage of 0 values in capital-gain = \"+str(round(np.mean(adult_df[\"capital-loss\"]==0),2)*100)+\"%\")"
   ]
  },
  {
   "cell_type": "markdown",
   "metadata": {},
   "source": [
    "As both the variables are related we **encode them as one - capital-net_>0** <br>\n",
    "- (capital-gain) - (capital-loss) > 0 then  1\n",
    "- (capital-gain) - (capital-loss) <=0 then  0"
   ]
  },
  {
   "cell_type": "code",
   "execution_count": 16,
   "metadata": {
    "ExecuteTime": {
     "end_time": "2020-03-09T17:21:49.306638Z",
     "start_time": "2020-03-09T17:21:49.193999Z"
    }
   },
   "outputs": [],
   "source": [
    "adult_df[\"capital-net_>0\"] = ((adult_df['capital-gain']- adult_df[\"capital-loss\"]) > 0)*1"
   ]
  },
  {
   "cell_type": "markdown",
   "metadata": {},
   "source": [
    "### Categorical variables"
   ]
  },
  {
   "cell_type": "markdown",
   "metadata": {},
   "source": [
    "#### Education"
   ]
  },
  {
   "cell_type": "markdown",
   "metadata": {},
   "source": [
    "Education-num and education are expected to be highly correlated. We check this using a contingency table. "
   ]
  },
  {
   "cell_type": "code",
   "execution_count": 17,
   "metadata": {
    "ExecuteTime": {
     "end_time": "2020-03-09T17:21:49.363702Z",
     "start_time": "2020-03-09T17:21:49.309672Z"
    }
   },
   "outputs": [
    {
     "data": {
      "text/html": [
       "<div>\n",
       "<style scoped>\n",
       "    .dataframe tbody tr th:only-of-type {\n",
       "        vertical-align: middle;\n",
       "    }\n",
       "\n",
       "    .dataframe tbody tr th {\n",
       "        vertical-align: top;\n",
       "    }\n",
       "\n",
       "    .dataframe thead th {\n",
       "        text-align: right;\n",
       "    }\n",
       "</style>\n",
       "<table border=\"1\" class=\"dataframe\">\n",
       "  <thead>\n",
       "    <tr style=\"text-align: right;\">\n",
       "      <th>education-num</th>\n",
       "      <th>1</th>\n",
       "      <th>2</th>\n",
       "      <th>3</th>\n",
       "      <th>4</th>\n",
       "      <th>5</th>\n",
       "      <th>6</th>\n",
       "      <th>7</th>\n",
       "      <th>8</th>\n",
       "      <th>9</th>\n",
       "      <th>10</th>\n",
       "      <th>11</th>\n",
       "      <th>12</th>\n",
       "      <th>13</th>\n",
       "      <th>14</th>\n",
       "      <th>15</th>\n",
       "      <th>16</th>\n",
       "    </tr>\n",
       "    <tr>\n",
       "      <th>education</th>\n",
       "      <th></th>\n",
       "      <th></th>\n",
       "      <th></th>\n",
       "      <th></th>\n",
       "      <th></th>\n",
       "      <th></th>\n",
       "      <th></th>\n",
       "      <th></th>\n",
       "      <th></th>\n",
       "      <th></th>\n",
       "      <th></th>\n",
       "      <th></th>\n",
       "      <th></th>\n",
       "      <th></th>\n",
       "      <th></th>\n",
       "      <th></th>\n",
       "    </tr>\n",
       "  </thead>\n",
       "  <tbody>\n",
       "    <tr>\n",
       "      <th>10th</th>\n",
       "      <td>0</td>\n",
       "      <td>0</td>\n",
       "      <td>0</td>\n",
       "      <td>0</td>\n",
       "      <td>0</td>\n",
       "      <td>820</td>\n",
       "      <td>0</td>\n",
       "      <td>0</td>\n",
       "      <td>0</td>\n",
       "      <td>0</td>\n",
       "      <td>0</td>\n",
       "      <td>0</td>\n",
       "      <td>0</td>\n",
       "      <td>0</td>\n",
       "      <td>0</td>\n",
       "      <td>0</td>\n",
       "    </tr>\n",
       "    <tr>\n",
       "      <th>11th</th>\n",
       "      <td>0</td>\n",
       "      <td>0</td>\n",
       "      <td>0</td>\n",
       "      <td>0</td>\n",
       "      <td>0</td>\n",
       "      <td>0</td>\n",
       "      <td>1048</td>\n",
       "      <td>0</td>\n",
       "      <td>0</td>\n",
       "      <td>0</td>\n",
       "      <td>0</td>\n",
       "      <td>0</td>\n",
       "      <td>0</td>\n",
       "      <td>0</td>\n",
       "      <td>0</td>\n",
       "      <td>0</td>\n",
       "    </tr>\n",
       "    <tr>\n",
       "      <th>12th</th>\n",
       "      <td>0</td>\n",
       "      <td>0</td>\n",
       "      <td>0</td>\n",
       "      <td>0</td>\n",
       "      <td>0</td>\n",
       "      <td>0</td>\n",
       "      <td>0</td>\n",
       "      <td>377</td>\n",
       "      <td>0</td>\n",
       "      <td>0</td>\n",
       "      <td>0</td>\n",
       "      <td>0</td>\n",
       "      <td>0</td>\n",
       "      <td>0</td>\n",
       "      <td>0</td>\n",
       "      <td>0</td>\n",
       "    </tr>\n",
       "    <tr>\n",
       "      <th>1st-4th</th>\n",
       "      <td>0</td>\n",
       "      <td>151</td>\n",
       "      <td>0</td>\n",
       "      <td>0</td>\n",
       "      <td>0</td>\n",
       "      <td>0</td>\n",
       "      <td>0</td>\n",
       "      <td>0</td>\n",
       "      <td>0</td>\n",
       "      <td>0</td>\n",
       "      <td>0</td>\n",
       "      <td>0</td>\n",
       "      <td>0</td>\n",
       "      <td>0</td>\n",
       "      <td>0</td>\n",
       "      <td>0</td>\n",
       "    </tr>\n",
       "    <tr>\n",
       "      <th>5th-6th</th>\n",
       "      <td>0</td>\n",
       "      <td>0</td>\n",
       "      <td>288</td>\n",
       "      <td>0</td>\n",
       "      <td>0</td>\n",
       "      <td>0</td>\n",
       "      <td>0</td>\n",
       "      <td>0</td>\n",
       "      <td>0</td>\n",
       "      <td>0</td>\n",
       "      <td>0</td>\n",
       "      <td>0</td>\n",
       "      <td>0</td>\n",
       "      <td>0</td>\n",
       "      <td>0</td>\n",
       "      <td>0</td>\n",
       "    </tr>\n",
       "    <tr>\n",
       "      <th>7th-8th</th>\n",
       "      <td>0</td>\n",
       "      <td>0</td>\n",
       "      <td>0</td>\n",
       "      <td>557</td>\n",
       "      <td>0</td>\n",
       "      <td>0</td>\n",
       "      <td>0</td>\n",
       "      <td>0</td>\n",
       "      <td>0</td>\n",
       "      <td>0</td>\n",
       "      <td>0</td>\n",
       "      <td>0</td>\n",
       "      <td>0</td>\n",
       "      <td>0</td>\n",
       "      <td>0</td>\n",
       "      <td>0</td>\n",
       "    </tr>\n",
       "    <tr>\n",
       "      <th>9th</th>\n",
       "      <td>0</td>\n",
       "      <td>0</td>\n",
       "      <td>0</td>\n",
       "      <td>0</td>\n",
       "      <td>455</td>\n",
       "      <td>0</td>\n",
       "      <td>0</td>\n",
       "      <td>0</td>\n",
       "      <td>0</td>\n",
       "      <td>0</td>\n",
       "      <td>0</td>\n",
       "      <td>0</td>\n",
       "      <td>0</td>\n",
       "      <td>0</td>\n",
       "      <td>0</td>\n",
       "      <td>0</td>\n",
       "    </tr>\n",
       "    <tr>\n",
       "      <th>Assoc-acdm</th>\n",
       "      <td>0</td>\n",
       "      <td>0</td>\n",
       "      <td>0</td>\n",
       "      <td>0</td>\n",
       "      <td>0</td>\n",
       "      <td>0</td>\n",
       "      <td>0</td>\n",
       "      <td>0</td>\n",
       "      <td>0</td>\n",
       "      <td>0</td>\n",
       "      <td>0</td>\n",
       "      <td>1008</td>\n",
       "      <td>0</td>\n",
       "      <td>0</td>\n",
       "      <td>0</td>\n",
       "      <td>0</td>\n",
       "    </tr>\n",
       "    <tr>\n",
       "      <th>Assoc-voc</th>\n",
       "      <td>0</td>\n",
       "      <td>0</td>\n",
       "      <td>0</td>\n",
       "      <td>0</td>\n",
       "      <td>0</td>\n",
       "      <td>0</td>\n",
       "      <td>0</td>\n",
       "      <td>0</td>\n",
       "      <td>0</td>\n",
       "      <td>0</td>\n",
       "      <td>1307</td>\n",
       "      <td>0</td>\n",
       "      <td>0</td>\n",
       "      <td>0</td>\n",
       "      <td>0</td>\n",
       "      <td>0</td>\n",
       "    </tr>\n",
       "    <tr>\n",
       "      <th>Bachelors</th>\n",
       "      <td>0</td>\n",
       "      <td>0</td>\n",
       "      <td>0</td>\n",
       "      <td>0</td>\n",
       "      <td>0</td>\n",
       "      <td>0</td>\n",
       "      <td>0</td>\n",
       "      <td>0</td>\n",
       "      <td>0</td>\n",
       "      <td>0</td>\n",
       "      <td>0</td>\n",
       "      <td>0</td>\n",
       "      <td>5044</td>\n",
       "      <td>0</td>\n",
       "      <td>0</td>\n",
       "      <td>0</td>\n",
       "    </tr>\n",
       "    <tr>\n",
       "      <th>Doctorate</th>\n",
       "      <td>0</td>\n",
       "      <td>0</td>\n",
       "      <td>0</td>\n",
       "      <td>0</td>\n",
       "      <td>0</td>\n",
       "      <td>0</td>\n",
       "      <td>0</td>\n",
       "      <td>0</td>\n",
       "      <td>0</td>\n",
       "      <td>0</td>\n",
       "      <td>0</td>\n",
       "      <td>0</td>\n",
       "      <td>0</td>\n",
       "      <td>0</td>\n",
       "      <td>0</td>\n",
       "      <td>375</td>\n",
       "    </tr>\n",
       "    <tr>\n",
       "      <th>HS-grad</th>\n",
       "      <td>0</td>\n",
       "      <td>0</td>\n",
       "      <td>0</td>\n",
       "      <td>0</td>\n",
       "      <td>0</td>\n",
       "      <td>0</td>\n",
       "      <td>0</td>\n",
       "      <td>0</td>\n",
       "      <td>9840</td>\n",
       "      <td>0</td>\n",
       "      <td>0</td>\n",
       "      <td>0</td>\n",
       "      <td>0</td>\n",
       "      <td>0</td>\n",
       "      <td>0</td>\n",
       "      <td>0</td>\n",
       "    </tr>\n",
       "    <tr>\n",
       "      <th>Masters</th>\n",
       "      <td>0</td>\n",
       "      <td>0</td>\n",
       "      <td>0</td>\n",
       "      <td>0</td>\n",
       "      <td>0</td>\n",
       "      <td>0</td>\n",
       "      <td>0</td>\n",
       "      <td>0</td>\n",
       "      <td>0</td>\n",
       "      <td>0</td>\n",
       "      <td>0</td>\n",
       "      <td>0</td>\n",
       "      <td>0</td>\n",
       "      <td>1627</td>\n",
       "      <td>0</td>\n",
       "      <td>0</td>\n",
       "    </tr>\n",
       "    <tr>\n",
       "      <th>Preschool</th>\n",
       "      <td>45</td>\n",
       "      <td>0</td>\n",
       "      <td>0</td>\n",
       "      <td>0</td>\n",
       "      <td>0</td>\n",
       "      <td>0</td>\n",
       "      <td>0</td>\n",
       "      <td>0</td>\n",
       "      <td>0</td>\n",
       "      <td>0</td>\n",
       "      <td>0</td>\n",
       "      <td>0</td>\n",
       "      <td>0</td>\n",
       "      <td>0</td>\n",
       "      <td>0</td>\n",
       "      <td>0</td>\n",
       "    </tr>\n",
       "    <tr>\n",
       "      <th>Prof-school</th>\n",
       "      <td>0</td>\n",
       "      <td>0</td>\n",
       "      <td>0</td>\n",
       "      <td>0</td>\n",
       "      <td>0</td>\n",
       "      <td>0</td>\n",
       "      <td>0</td>\n",
       "      <td>0</td>\n",
       "      <td>0</td>\n",
       "      <td>0</td>\n",
       "      <td>0</td>\n",
       "      <td>0</td>\n",
       "      <td>0</td>\n",
       "      <td>0</td>\n",
       "      <td>542</td>\n",
       "      <td>0</td>\n",
       "    </tr>\n",
       "    <tr>\n",
       "      <th>Some-college</th>\n",
       "      <td>0</td>\n",
       "      <td>0</td>\n",
       "      <td>0</td>\n",
       "      <td>0</td>\n",
       "      <td>0</td>\n",
       "      <td>0</td>\n",
       "      <td>0</td>\n",
       "      <td>0</td>\n",
       "      <td>0</td>\n",
       "      <td>6678</td>\n",
       "      <td>0</td>\n",
       "      <td>0</td>\n",
       "      <td>0</td>\n",
       "      <td>0</td>\n",
       "      <td>0</td>\n",
       "      <td>0</td>\n",
       "    </tr>\n",
       "  </tbody>\n",
       "</table>\n",
       "</div>"
      ],
      "text/plain": [
       "education-num  1    2    3    4    5    6     7    8     9     10    11    12  \\\n",
       "education                                                                       \n",
       "10th            0    0    0    0    0  820     0    0     0     0     0     0   \n",
       "11th            0    0    0    0    0    0  1048    0     0     0     0     0   \n",
       "12th            0    0    0    0    0    0     0  377     0     0     0     0   \n",
       "1st-4th         0  151    0    0    0    0     0    0     0     0     0     0   \n",
       "5th-6th         0    0  288    0    0    0     0    0     0     0     0     0   \n",
       "7th-8th         0    0    0  557    0    0     0    0     0     0     0     0   \n",
       "9th             0    0    0    0  455    0     0    0     0     0     0     0   \n",
       "Assoc-acdm      0    0    0    0    0    0     0    0     0     0     0  1008   \n",
       "Assoc-voc       0    0    0    0    0    0     0    0     0     0  1307     0   \n",
       "Bachelors       0    0    0    0    0    0     0    0     0     0     0     0   \n",
       "Doctorate       0    0    0    0    0    0     0    0     0     0     0     0   \n",
       "HS-grad         0    0    0    0    0    0     0    0  9840     0     0     0   \n",
       "Masters         0    0    0    0    0    0     0    0     0     0     0     0   \n",
       "Preschool      45    0    0    0    0    0     0    0     0     0     0     0   \n",
       "Prof-school     0    0    0    0    0    0     0    0     0     0     0     0   \n",
       "Some-college    0    0    0    0    0    0     0    0     0  6678     0     0   \n",
       "\n",
       "education-num    13    14   15   16  \n",
       "education                            \n",
       "10th              0     0    0    0  \n",
       "11th              0     0    0    0  \n",
       "12th              0     0    0    0  \n",
       "1st-4th           0     0    0    0  \n",
       "5th-6th           0     0    0    0  \n",
       "7th-8th           0     0    0    0  \n",
       "9th               0     0    0    0  \n",
       "Assoc-acdm        0     0    0    0  \n",
       "Assoc-voc         0     0    0    0  \n",
       "Bachelors      5044     0    0    0  \n",
       "Doctorate         0     0    0  375  \n",
       "HS-grad           0     0    0    0  \n",
       "Masters           0  1627    0    0  \n",
       "Preschool         0     0    0    0  \n",
       "Prof-school       0     0  542    0  \n",
       "Some-college      0     0    0    0  "
      ]
     },
     "execution_count": 17,
     "metadata": {},
     "output_type": "execute_result"
    }
   ],
   "source": [
    "cont_table = pd.crosstab(adult_df[\"education\"],adult_df[\"education-num\"], margins = False)\n",
    "cont_table"
   ]
  },
  {
   "cell_type": "markdown",
   "metadata": {},
   "source": [
    "Since both are related therefore, we can therefore **drop education and use only enducation-num** in our analysis"
   ]
  },
  {
   "cell_type": "markdown",
   "metadata": {},
   "source": [
    "#### Workingclass"
   ]
  },
  {
   "cell_type": "markdown",
   "metadata": {},
   "source": [
    "Check for % values of each category "
   ]
  },
  {
   "cell_type": "code",
   "execution_count": 18,
   "metadata": {
    "ExecuteTime": {
     "end_time": "2020-03-09T17:21:49.399007Z",
     "start_time": "2020-03-09T17:21:49.365344Z"
    }
   },
   "outputs": [
    {
     "data": {
      "text/plain": [
       "Private             73.89\n",
       "Self-emp-not-inc     8.29\n",
       "Local-gov            6.85\n",
       "State-gov            4.24\n",
       "Self-emp-inc         3.56\n",
       "Federal-gov          3.13\n",
       "Without-pay          0.05\n",
       "Name: workingclass, dtype: float64"
      ]
     },
     "execution_count": 18,
     "metadata": {},
     "output_type": "execute_result"
    }
   ],
   "source": [
    "round(adult_df[\"workingclass\"].value_counts(normalize = True)*100,2)"
   ]
  },
  {
   "cell_type": "markdown",
   "metadata": {},
   "source": [
    "We can group workingclass types into fewer categories are meaningful categories \n",
    "- Govt = Federal-gov, Local-gov and State-gov\n",
    "- Self-emp = Self-emp-inc, Self-emp-not-inc\n",
    "- No-work-inc = Without pay, Never worked"
   ]
  },
  {
   "cell_type": "code",
   "execution_count": 19,
   "metadata": {
    "ExecuteTime": {
     "end_time": "2020-03-09T17:21:49.471614Z",
     "start_time": "2020-03-09T17:21:49.412066Z"
    }
   },
   "outputs": [],
   "source": [
    "##Encoding different types of govt jobs to a single value\n",
    "adult_df.loc[((adult_df[\"workingclass\"] == \"Federal-gov\")| (adult_df[\"workingclass\"] == \"Local-gov\")  |(adult_df[\"workingclass\"] == \"State-gov\")), \"workingclass\"] = \"Govt\"\n",
    "adult_df.loc[((adult_df[\"workingclass\"] == \"Self-emp-inc\")| (adult_df[\"workingclass\"] == \"Self-emp-not-inc\")), \"workingclass\"] = \"Self-emp\"\n",
    "adult_df.loc[((adult_df[\"workingclass\"] == \"Without-pay\")| (adult_df[\"workingclass\"] == \"Never-worked\")), \"workingclass\"]  = \"No-work-inc\""
   ]
  },
  {
   "cell_type": "markdown",
   "metadata": {},
   "source": [
    "#### Race"
   ]
  },
  {
   "cell_type": "markdown",
   "metadata": {},
   "source": [
    "Check for % values of each category "
   ]
  },
  {
   "cell_type": "code",
   "execution_count": 20,
   "metadata": {
    "ExecuteTime": {
     "end_time": "2020-03-09T17:21:49.487878Z",
     "start_time": "2020-03-09T17:21:49.475530Z"
    }
   },
   "outputs": [
    {
     "data": {
      "text/plain": [
       "White                 85.98\n",
       "Black                  9.34\n",
       "Asian-Pac-Islander     2.97\n",
       "Amer-Indian-Eskimo     0.95\n",
       "Other                  0.77\n",
       "Name: race, dtype: float64"
      ]
     },
     "execution_count": 20,
     "metadata": {},
     "output_type": "execute_result"
    }
   ],
   "source": [
    "round(adult_df[\"race\"].value_counts(normalize = True)*100,2)"
   ]
  },
  {
   "cell_type": "markdown",
   "metadata": {},
   "source": [
    "We hardly have any data for the last three categories, we can encode them into \"Other\" category"
   ]
  },
  {
   "cell_type": "code",
   "execution_count": 21,
   "metadata": {
    "ExecuteTime": {
     "end_time": "2020-03-09T17:21:49.504254Z",
     "start_time": "2020-03-09T17:21:49.489872Z"
    }
   },
   "outputs": [],
   "source": [
    "adult_df.loc[((adult_df[\"race\"] == \"Amer-Indian-Eskimo\") | (adult_df[\"race\"] == \"Asian-Pac-Islander\")),  \"race\"] = \"Other\""
   ]
  },
  {
   "cell_type": "markdown",
   "metadata": {},
   "source": [
    "#### Marital-status"
   ]
  },
  {
   "cell_type": "markdown",
   "metadata": {},
   "source": [
    "Check for % values of each category "
   ]
  },
  {
   "cell_type": "code",
   "execution_count": 22,
   "metadata": {
    "ExecuteTime": {
     "end_time": "2020-03-09T17:21:49.516472Z",
     "start_time": "2020-03-09T17:21:49.504254Z"
    }
   },
   "outputs": [
    {
     "data": {
      "text/plain": [
       "Married-civ-spouse       46.63\n",
       "Never-married            32.25\n",
       "Divorced                 13.97\n",
       "Separated                 3.11\n",
       "Widowed                   2.74\n",
       "Married-spouse-absent     1.23\n",
       "Married-AF-spouse         0.07\n",
       "Name: marital-status, dtype: float64"
      ]
     },
     "execution_count": 22,
     "metadata": {},
     "output_type": "execute_result"
    }
   ],
   "source": [
    "round(adult_df[\"marital-status\"].value_counts(normalize = True)*100,2)"
   ]
  },
  {
   "cell_type": "markdown",
   "metadata": {},
   "source": [
    "We can encode these into 3 categories \n",
    "- Married = Married-civ-spouse, Married-spouse-absent, Married-AF-spouse\n",
    "- Not-married (Separated, Divorced and Widowed)\n",
    "- Never-Married"
   ]
  },
  {
   "cell_type": "code",
   "execution_count": 23,
   "metadata": {
    "ExecuteTime": {
     "end_time": "2020-03-09T17:21:49.548384Z",
     "start_time": "2020-03-09T17:21:49.518467Z"
    }
   },
   "outputs": [],
   "source": [
    "adult_df.loc[((adult_df[\"marital-status\"] == \"Married-civ-spouse\") | (adult_df[\"marital-status\"] == \"Married-spouse-absent\") | (adult_df[\"marital-status\"] == \"Married-AF-spouse\")) , \"marital-status\"] = \"Married\"\n",
    "adult_df.loc[((adult_df[\"marital-status\"] == \"Widowed\") | (adult_df[\"marital-status\"] == \"Divorced\") | (adult_df[\"marital-status\"] == \"Separated\")) , \"marital-status\"] = \"Not-Married\""
   ]
  },
  {
   "cell_type": "markdown",
   "metadata": {},
   "source": [
    "#### Occupation"
   ]
  },
  {
   "cell_type": "markdown",
   "metadata": {},
   "source": [
    "Check for % values of each category "
   ]
  },
  {
   "cell_type": "code",
   "execution_count": 24,
   "metadata": {
    "ExecuteTime": {
     "end_time": "2020-03-09T17:21:49.574272Z",
     "start_time": "2020-03-09T17:21:49.551378Z"
    }
   },
   "outputs": [
    {
     "data": {
      "text/plain": [
       "Prof-specialty       13.39\n",
       "Craft-repair         13.36\n",
       "Exec-managerial      13.24\n",
       "Adm-clerical         12.34\n",
       "Sales                11.88\n",
       "Other-service        10.65\n",
       "Machine-op-inspct     6.52\n",
       "Transport-moving      5.21\n",
       "Handlers-cleaners     4.48\n",
       "Farming-fishing       3.28\n",
       "Tech-support          3.02\n",
       "Protective-serv       2.14\n",
       "Priv-house-serv       0.47\n",
       "Armed-Forces          0.03\n",
       "Name: occupation, dtype: float64"
      ]
     },
     "execution_count": 24,
     "metadata": {},
     "output_type": "execute_result"
    }
   ],
   "source": [
    "round(adult_df[\"occupation\"].value_counts(normalize = True)*100,2)"
   ]
  },
  {
   "cell_type": "markdown",
   "metadata": {},
   "source": [
    " Each occupation is unique. Some occupations have very low counts (last 3) and do not add much value to the data. We encode them by creating \"Other\" category "
   ]
  },
  {
   "cell_type": "code",
   "execution_count": 25,
   "metadata": {
    "ExecuteTime": {
     "end_time": "2020-03-09T17:21:49.605268Z",
     "start_time": "2020-03-09T17:21:49.578520Z"
    }
   },
   "outputs": [],
   "source": [
    "adult_df.loc[((adult_df[\"occupation\"] == \"Other-service\") | (adult_df[\"occupation\"] == \"Armed-Forces\") | (adult_df[\"occupation\"] == \"Priv-house-serv\") | (adult_df[\"occupation\"] == \"Protective-serv\")),\"occupation\"] = \"Other\""
   ]
  },
  {
   "cell_type": "markdown",
   "metadata": {},
   "source": [
    "#### Relationship"
   ]
  },
  {
   "cell_type": "markdown",
   "metadata": {},
   "source": [
    "Check for % values of each category "
   ]
  },
  {
   "cell_type": "code",
   "execution_count": 26,
   "metadata": {
    "ExecuteTime": {
     "end_time": "2020-03-09T17:21:49.620776Z",
     "start_time": "2020-03-09T17:21:49.607263Z"
    }
   },
   "outputs": [
    {
     "data": {
      "text/plain": [
       "Husband           41.32\n",
       "Not-in-family     25.62\n",
       "Own-child         14.81\n",
       "Unmarried         10.65\n",
       "Wife               4.66\n",
       "Other-relative     2.95\n",
       "Name: relationship, dtype: float64"
      ]
     },
     "execution_count": 26,
     "metadata": {},
     "output_type": "execute_result"
    }
   ],
   "source": [
    "round(adult_df[\"relationship\"].value_counts(normalize = True)*100,2)"
   ]
  },
  {
   "cell_type": "markdown",
   "metadata": {},
   "source": [
    "Since we already have marital-status, **relationship variable is redundant** as husband, wife values will always be married. Therefore, we can drop it"
   ]
  },
  {
   "cell_type": "markdown",
   "metadata": {},
   "source": [
    "#### Native-country"
   ]
  },
  {
   "cell_type": "markdown",
   "metadata": {},
   "source": [
    "Check for % values of US and Mexico"
   ]
  },
  {
   "cell_type": "code",
   "execution_count": 27,
   "metadata": {
    "ExecuteTime": {
     "end_time": "2020-03-09T17:21:49.636729Z",
     "start_time": "2020-03-09T17:21:49.621772Z"
    }
   },
   "outputs": [
    {
     "name": "stdout",
     "output_type": "stream",
     "text": [
      "Total number of countries = 41\n",
      "United-States    91.0\n",
      "Mexico            2.0\n",
      "Name: native-country, dtype: float64\n"
     ]
    }
   ],
   "source": [
    "cntry_counts = adult_df[\"native-country\"].value_counts()\n",
    "print(\"Total number of countries = \"+ str(len(cntry_counts)))\n",
    "print(round(cntry_counts[0:2]/np.sum(cntry_counts),2)*100)"
   ]
  },
  {
   "cell_type": "markdown",
   "metadata": {},
   "source": [
    "US and Mexico make up 93% of the total native-countries while other countries 39 countries have very fewer counts. We group them into \"Other\" category "
   ]
  },
  {
   "cell_type": "code",
   "execution_count": 28,
   "metadata": {
    "ExecuteTime": {
     "end_time": "2020-03-09T17:21:49.656130Z",
     "start_time": "2020-03-09T17:21:49.637668Z"
    }
   },
   "outputs": [],
   "source": [
    "adult_df.loc[((adult_df[\"native-country\"] != \"United-States\") & (adult_df[\"native-country\"] != \"Mexico\")),\"native-country\"] = \"Other\""
   ]
  },
  {
   "cell_type": "markdown",
   "metadata": {},
   "source": [
    "### Class - Distribution"
   ]
  },
  {
   "cell_type": "code",
   "execution_count": 29,
   "metadata": {
    "ExecuteTime": {
     "end_time": "2020-03-09T17:21:49.749507Z",
     "start_time": "2020-03-09T17:21:49.658166Z"
    }
   },
   "outputs": [
    {
     "data": {
      "image/png": "[encoded data removed]",
      "text/plain": [
       "<Figure size 432x288 with 1 Axes>"
      ]
     },
     "metadata": {
      "needs_background": "light"
     },
     "output_type": "display_data"
    }
   ],
   "source": [
    "sns.countplot(adult_df[\"income\"]);"
   ]
  },
  {
   "cell_type": "markdown",
   "metadata": {},
   "source": [
    "We have 75% of the population below 50K income and 25% above 50K"
   ]
  },
  {
   "cell_type": "markdown",
   "metadata": {},
   "source": [
    "## Dropping variables"
   ]
  },
  {
   "cell_type": "markdown",
   "metadata": {},
   "source": [
    "In this section, we drop variables which have been identified as irrelevant or redundant due because of other variables "
   ]
  },
  {
   "cell_type": "markdown",
   "metadata": {},
   "source": [
    "### capital-gain and capital-loss -  as we have capital-net_>0"
   ]
  },
  {
   "cell_type": "code",
   "execution_count": 30,
   "metadata": {
    "ExecuteTime": {
     "end_time": "2020-03-09T17:21:49.764774Z",
     "start_time": "2020-03-09T17:21:49.751202Z"
    }
   },
   "outputs": [],
   "source": [
    "adult_df.drop([\"capital-gain\", \"capital-loss\"], axis = 1, inplace =True)"
   ]
  },
  {
   "cell_type": "markdown",
   "metadata": {},
   "source": [
    "### education - as we have education-num"
   ]
  },
  {
   "cell_type": "code",
   "execution_count": 31,
   "metadata": {
    "ExecuteTime": {
     "end_time": "2020-03-09T17:21:49.779895Z",
     "start_time": "2020-03-09T17:21:49.766092Z"
    }
   },
   "outputs": [],
   "source": [
    "adult_df.drop(\"education\", axis = 1, inplace = True)"
   ]
  },
  {
   "cell_type": "markdown",
   "metadata": {},
   "source": [
    "### fnlwgt - unsure about its interpretation "
   ]
  },
  {
   "cell_type": "code",
   "execution_count": 32,
   "metadata": {
    "ExecuteTime": {
     "end_time": "2020-03-09T17:21:49.793090Z",
     "start_time": "2020-03-09T17:21:49.780961Z"
    }
   },
   "outputs": [],
   "source": [
    "adult_df.drop(\"fnlwgt\", axis = 1, inplace = True)"
   ]
  },
  {
   "cell_type": "markdown",
   "metadata": {},
   "source": [
    "### relationship - as this information is already conveyed by marital status"
   ]
  },
  {
   "cell_type": "code",
   "execution_count": 33,
   "metadata": {
    "ExecuteTime": {
     "end_time": "2020-03-09T17:21:49.809009Z",
     "start_time": "2020-03-09T17:21:49.794088Z"
    }
   },
   "outputs": [],
   "source": [
    "adult_df.drop(\"relationship\", axis = 1, inplace = True)"
   ]
  },
  {
   "cell_type": "markdown",
   "metadata": {},
   "source": [
    "## Dummy encoding of categorical features"
   ]
  },
  {
   "cell_type": "markdown",
   "metadata": {},
   "source": [
    "We encode categorical variables using one-hot encoding so make the data usable for a classifier"
   ]
  },
  {
   "cell_type": "code",
   "execution_count": 34,
   "metadata": {
    "ExecuteTime": {
     "end_time": "2020-03-09T17:21:49.841118Z",
     "start_time": "2020-03-09T17:21:49.810464Z"
    }
   },
   "outputs": [],
   "source": [
    "adult_df_new = pd.get_dummies(adult_df)"
   ]
  },
  {
   "cell_type": "code",
   "execution_count": 35,
   "metadata": {
    "ExecuteTime": {
     "end_time": "2020-03-09T17:21:49.861550Z",
     "start_time": "2020-03-09T17:21:49.842923Z"
    }
   },
   "outputs": [],
   "source": [
    "#One-hot encoding, we drop one variable which is redundant to avoid issues of multicollinearity \n",
    "adult_df_new.drop(\"workingclass_No-work-inc\", axis = 1, inplace = True)\n",
    "adult_df_new.drop(\"marital-status_Not-Married\", axis = 1, inplace = True)\n",
    "adult_df_new.drop(\"occupation_Other\", axis = 1, inplace = True)\n",
    "adult_df_new.drop(\"race_Other\", axis = 1, inplace = True)\n",
    "adult_df_new.drop(\"sex_Female\", axis = 1, inplace = True)\n",
    "adult_df_new.drop(\"native-country_Other\", axis = 1, inplace = True)\n",
    "adult_df_new.drop(\"income_<=50K\", axis = 1, inplace = True)"
   ]
  },
  {
   "cell_type": "markdown",
   "metadata": {},
   "source": [
    "## Correlation"
   ]
  },
  {
   "cell_type": "markdown",
   "metadata": {},
   "source": [
    "In this section, we check for correlation between the features "
   ]
  },
  {
   "cell_type": "code",
   "execution_count": 36,
   "metadata": {
    "ExecuteTime": {
     "end_time": "2020-03-09T17:21:50.587838Z",
     "start_time": "2020-03-09T17:21:49.862512Z"
    }
   },
   "outputs": [
    {
     "data": {
      "image/png": "[encoded data removed]",
      "text/plain": [
       "<Figure size 720x720 with 2 Axes>"
      ]
     },
     "metadata": {
      "needs_background": "light"
     },
     "output_type": "display_data"
    }
   ],
   "source": [
    "plt.figure(figsize = (10,10));\n",
    "sns.heatmap(adult_df_new.corr());"
   ]
  },
  {
   "cell_type": "markdown",
   "metadata": {},
   "source": [
    "**Observations:** <Br>\n",
    "- Age has a strong negative correlation with marital-status\n",
    "- Native-country and race have a high correlation for specific values\n",
    "- Surprisingly native-country also has a correlation with education-num\n",
    "-  Many of the features have good correlation with the class income > 50k\n",
    "    \n",
    "   \n",
    "\n"
   ]
  },
  {
   "cell_type": "markdown",
   "metadata": {},
   "source": [
    "Therefore, we need to select features so as to not overestimate or underestimate a feature's importance "
   ]
  },
  {
   "cell_type": "markdown",
   "metadata": {},
   "source": [
    "## Feature Selection"
   ]
  },
  {
   "cell_type": "markdown",
   "metadata": {},
   "source": [
    "In this section, we try to find out important features for model building. This will be used for all the analysis "
   ]
  },
  {
   "cell_type": "markdown",
   "metadata": {},
   "source": [
    "### Implementation of random forest classifier and check feature importance <br>\n",
    "We compare the performance of the classifier using the feature and comparing it with its randomly permuted copies"
   ]
  },
  {
   "cell_type": "code",
   "execution_count": 37,
   "metadata": {
    "ExecuteTime": {
     "end_time": "2020-03-09T17:24:26.349789Z",
     "start_time": "2020-03-09T17:21:50.591798Z"
    }
   },
   "outputs": [],
   "source": [
    "rf = RandomForestClassifier()\n",
    "rf.fit(adult_df_new.loc[:, adult_df_new.columns != \"income_>50K\"], adult_df_new[\"income_>50K\"]);\n",
    "result = permutation_importance(rf, adult_df_new.loc[:, adult_df_new.columns != \"income_>50K\"], adult_df_new[\"income_>50K\"], n_repeats=5)\n",
    "sorted_idx = result.importances_mean.argsort()"
   ]
  },
  {
   "cell_type": "code",
   "execution_count": 38,
   "metadata": {
    "ExecuteTime": {
     "end_time": "2020-03-09T17:24:27.336495Z",
     "start_time": "2020-03-09T17:24:26.349789Z"
    }
   },
   "outputs": [
    {
     "data": {
      "image/png": "[encoded data removed]",
      "text/plain": [
       "<Figure size 720x432 with 1 Axes>"
      ]
     },
     "metadata": {
      "needs_background": "light"
     },
     "output_type": "display_data"
    }
   ],
   "source": [
    "fig, ax = plt.subplots(figsize = (10,6))\n",
    "ax.boxplot(result.importances[sorted_idx].T,\n",
    "           vert=False, labels=adult_df_new.loc[:, adult_df_new.columns != \"income_>50K\"].columns[sorted_idx])\n",
    "ax.set_title(\"Permutation Importance of features\")\n",
    "fig.tight_layout()\n",
    "plt.show()"
   ]
  },
  {
   "cell_type": "markdown",
   "metadata": {},
   "source": [
    "**Observation:** <br>\n",
    "\n",
    "We categorize the features based on importance for simplicity:\n",
    "- **Very important features:** age, education_num, marital_status, hours_per_week \n",
    "- **Other important features:** sex, capital_net>0, Occupation (top ones) , working-class, race <br>\n",
    "We drop the not so important features, if it's a categorical feature then it is automatically encoded in \"Other\" category"
   ]
  },
  {
   "cell_type": "code",
   "execution_count": 39,
   "metadata": {
    "ExecuteTime": {
     "end_time": "2020-03-09T17:24:27.347716Z",
     "start_time": "2020-03-09T17:24:27.336495Z"
    }
   },
   "outputs": [],
   "source": [
    "features = adult_df_new.loc[:, adult_df_new.columns != \"income_>50K\"].columns"
   ]
  },
  {
   "cell_type": "code",
   "execution_count": 40,
   "metadata": {
    "ExecuteTime": {
     "end_time": "2020-03-09T17:24:27.364716Z",
     "start_time": "2020-03-09T17:24:27.348758Z"
    }
   },
   "outputs": [],
   "source": [
    "features_selected = list(features[result.importances_mean > 0.01])\n",
    "features_vimp = list(features[result.importances_mean > 0.05])\n",
    "features_imp = list(features[(result.importances_mean <= 0.05) & (result.importances_mean > 0.01)])"
   ]
  },
  {
   "cell_type": "code",
   "execution_count": 41,
   "metadata": {
    "ExecuteTime": {
     "end_time": "2020-03-09T17:24:27.375271Z",
     "start_time": "2020-03-09T17:24:27.365714Z"
    }
   },
   "outputs": [],
   "source": [
    "#We select only the important features\n",
    "adult_df_new = adult_df_new.loc[:,features_selected+[\"income_>50K\"]]"
   ]
  },
  {
   "cell_type": "markdown",
   "metadata": {},
   "source": [
    "# Inferential Analysis"
   ]
  },
  {
   "cell_type": "markdown",
   "metadata": {},
   "source": [
    "## Factors impacting the high/low income class"
   ]
  },
  {
   "cell_type": "markdown",
   "metadata": {},
   "source": [
    "In this section, we check for factors affecting the high/low income class in terms of the features we have selected"
   ]
  },
  {
   "cell_type": "markdown",
   "metadata": {},
   "source": [
    "### Very important features"
   ]
  },
  {
   "cell_type": "code",
   "execution_count": 42,
   "metadata": {
    "ExecuteTime": {
     "end_time": "2020-03-09T17:24:28.264498Z",
     "start_time": "2020-03-09T17:24:27.377226Z"
    }
   },
   "outputs": [
    {
     "data": {
      "image/png": "[encoded data removed]",
      "text/plain": [
       "<Figure size 1296x720 with 4 Axes>"
      ]
     },
     "metadata": {
      "needs_background": "light"
     },
     "output_type": "display_data"
    }
   ],
   "source": [
    "fig, ax = plt.subplots(2,2, figsize=(18,10))\n",
    "quantiles = pd.qcut(adult_df_new['age'], q=4, precision = 0)\n",
    "s0 = sns.countplot(quantiles, hue = adult_df_new[\"income_>50K\"], ax = ax[0][0])\n",
    "s0.set_xlabel(None)\n",
    "s0.set_title(\"Age quantiles by income class\",fontsize=15)\n",
    "\n",
    "\n",
    "quantiles = pd.qcut(adult_df_new['education-num'], q=4, precision = 0)\n",
    "s1 = sns.countplot(quantiles, hue = adult_df_new[\"income_>50K\"], ax = ax[0][1])\n",
    "s1.set_xlabel(None)\n",
    "s1.set_title(\"Education-num quantiles by income class\",fontsize=15)\n",
    "\n",
    "\n",
    "quantiles = pd.qcut(adult_df_new['hours-per-week'], q= 2, precision = 0)\n",
    "s2 = sns.countplot(quantiles, hue = adult_df_new[\"income_>50K\"], ax = ax[1][0])\n",
    "s2.set_xlabel(None)\n",
    "s2.set_title(\"Hours-per-week quantiles by income class\",fontsize=15)\n",
    "\n",
    "\n",
    "s3 = sns.countplot(adult_df_new['marital-status_Married'], hue = adult_df_new[\"income_>50K\"], ax = ax[1][1])\n",
    "s3.set_xlabel(None)\n",
    "s3.set_xticklabels([\"Never / Not Married\", \"Married\"])\n",
    "s3.set_title(\"Marital-status by income class\",fontsize=15);"
   ]
  },
  {
   "cell_type": "markdown",
   "metadata": {},
   "source": [
    "**Inference:** <Br>\n",
    "- Lower ages have a low proportion of high income class, the **proportion of high income increases with age** and decreases a bit later\n",
    "- The proportion of high-income class **increases with education number**\n",
    "- Proportion is high income is **higher for people who work more hours** \n",
    "- **Married people have a higher proportion** of high-income class "
   ]
  },
  {
   "cell_type": "markdown",
   "metadata": {},
   "source": [
    "### Other important features "
   ]
  },
  {
   "cell_type": "code",
   "execution_count": 45,
   "metadata": {
    "ExecuteTime": {
     "end_time": "2020-03-09T17:24:28.307124Z",
     "start_time": "2020-03-09T17:24:28.292091Z"
    }
   },
   "outputs": [],
   "source": [
    "# Removing irrelevant features amongst occupation\n",
    "adult_df.loc[~((adult_df[\"occupation\"] == \"Adm-clerical\") | (adult_df[\"occupation\"] == \"Craft-repair\") | \n",
    "                      (adult_df[\"occupation\"] == \"Exec-managerial\") | (adult_df[\"occupation\"] == \"Prof-specialty\")|\n",
    "                      (adult_df[\"occupation\"] == \"Sales\")),\"occupation\"] = \"Other\""
   ]
  },
  {
   "cell_type": "code",
   "execution_count": 46,
   "metadata": {
    "ExecuteTime": {
     "end_time": "2020-03-09T17:24:29.331053Z",
     "start_time": "2020-03-09T17:24:28.308122Z"
    },
    "scrolled": false
   },
   "outputs": [
    {
     "data": {
      "image/png": "[encoded data removed]",
      "text/plain": [
       "<Figure size 1440x864 with 4 Axes>"
      ]
     },
     "metadata": {
      "needs_background": "light"
     },
     "output_type": "display_data"
    }
   ],
   "source": [
    "fig, ax = plt.subplots(2,2, figsize=(20,12))\n",
    "s0 = sns.countplot(adult_df_new[\"sex_Male\"], hue = adult_df_new[\"income_>50K\"], ax = ax[0][0])\n",
    "s0.set_xlabel(None)\n",
    "s0.set_xticklabels([\"Female\", \"Male\"])\n",
    "s0.set_title(\"Sex by income class\",fontsize=15)\n",
    "\n",
    "\n",
    "s1 = sns.countplot(adult_df['workingclass'], hue = adult_df_new[\"income_>50K\"], ax = ax[0][1])\n",
    "s1.set_xlabel(None)\n",
    "s1.set_title(\"Workingclass by income class\",fontsize=15)\n",
    "\n",
    "\n",
    "s2 = sns.countplot(adult_df[\"occupation\"],  hue = adult_df_new[\"income_>50K\"], ax = ax[1][0])\n",
    "s2.set_xlabel(None)\n",
    "s2.set_title(\"Occupation by income class\",fontsize=15)\n",
    "\n",
    "\n",
    "s3 = sns.countplot(adult_df_new[\"race_White\"], hue = adult_df_new[\"income_>50K\"], ax = ax[1][1])\n",
    "s3.set_xlabel(None)\n",
    "s3.set_xticklabels([\"Not White\", \"White\"])\n",
    "s3.set_title(\"Race by income class\",fontsize=15);"
   ]
  },
  {
   "cell_type": "code",
   "execution_count": 47,
   "metadata": {
    "ExecuteTime": {
     "end_time": "2020-03-09T17:24:29.764445Z",
     "start_time": "2020-03-09T17:24:29.333266Z"
    },
    "scrolled": true
   },
   "outputs": [
    {
     "data": {
      "image/png": "[encoded data removed]",
      "text/plain": [
       "<Figure size 864x288 with 2 Axes>"
      ]
     },
     "metadata": {
      "needs_background": "light"
     },
     "output_type": "display_data"
    }
   ],
   "source": [
    "fig, ax = plt.subplots(1,2, figsize = (12,4));\n",
    "\n",
    "s0 = sns.countplot(adult_df_new[\"capital-net_>0\"], hue = adult_df_new[\"income_>50K\"], ax = ax[0])\n",
    "s0.set_xlabel(None)\n",
    "s0.set_xticklabels([\"Net capital <= 0\", \"Net capital gain\"])\n",
    "s0.set_title(\"Net capital by income class\",fontsize=15)\n",
    "\n",
    "s1 = sns.countplot(adult_df_new[\"native-country_United-States\"], hue = adult_df_new[\"income_>50K\"], ax = ax[1])\n",
    "s1.set_xlabel(None)\n",
    "s1.set_xticklabels([\"Other\", \"US\"])\n",
    "s1.set_title(\"Native-country by income class\",fontsize=15);"
   ]
  },
  {
   "cell_type": "markdown",
   "metadata": {},
   "source": [
    "**Inference:** \n",
    "- **Males have a higher proportion** of the high-income class\n",
    "- **Self-emp people have a very high proportion** of high-income class while Govt and Private have high proportions while **other sections have low proportions of high-income class**\n",
    "- **Prof-speciality, exec-managerial have a higher proportion** of the high-income class\n",
    "- **Whites have a bit higher proportion** of the high-income class\n",
    "- **Net capital gain has a higher proportion** of high-income class people\n",
    "- **Native country US have a bit higher proportion** of the high-income class"
   ]
  },
  {
   "cell_type": "markdown",
   "metadata": {},
   "source": [
    "## Finding out the potential investors"
   ]
  },
  {
   "cell_type": "markdown",
   "metadata": {},
   "source": [
    "We try to find out the profiles of potential investors who have had a positive capital-gain <br>\n",
    "\n",
    "Steps: \n",
    "- Divide the population into 2 groups: positive net-capital and others \n",
    "- Compare the features of both the groups to see which features are distinctively different"
   ]
  },
  {
   "cell_type": "code",
   "execution_count": 48,
   "metadata": {
    "ExecuteTime": {
     "end_time": "2020-03-09T17:24:29.779494Z",
     "start_time": "2020-03-09T17:24:29.766661Z"
    }
   },
   "outputs": [],
   "source": [
    "#We divide the population into 2, capital_gp = population with net-capital gain and capita_op = other population\n",
    "capital_gp = adult_df_new.loc[adult_df_new[\"capital-net_>0\"] > 0,]\n",
    "capital_op = adult_df_new.loc[adult_df_new[\"capital-net_>0\"] == 0,]"
   ]
  },
  {
   "cell_type": "markdown",
   "metadata": {},
   "source": [
    "People with postive net-capital "
   ]
  },
  {
   "cell_type": "code",
   "execution_count": 49,
   "metadata": {
    "ExecuteTime": {
     "end_time": "2020-03-09T17:24:29.890489Z",
     "start_time": "2020-03-09T17:24:29.780896Z"
    },
    "scrolled": true
   },
   "outputs": [
    {
     "data": {
      "text/html": [
       "<div>\n",
       "<style scoped>\n",
       "    .dataframe tbody tr th:only-of-type {\n",
       "        vertical-align: middle;\n",
       "    }\n",
       "\n",
       "    .dataframe tbody tr th {\n",
       "        vertical-align: top;\n",
       "    }\n",
       "\n",
       "    .dataframe thead th {\n",
       "        text-align: right;\n",
       "    }\n",
       "</style>\n",
       "<table border=\"1\" class=\"dataframe\">\n",
       "  <thead>\n",
       "    <tr style=\"text-align: right;\">\n",
       "      <th></th>\n",
       "      <th>age</th>\n",
       "      <th>education-num</th>\n",
       "      <th>hours-per-week</th>\n",
       "      <th>capital-net_&gt;0</th>\n",
       "      <th>workingclass_Govt</th>\n",
       "      <th>workingclass_Private</th>\n",
       "      <th>workingclass_Self-emp</th>\n",
       "      <th>marital-status_Married</th>\n",
       "      <th>marital-status_Never-married</th>\n",
       "      <th>occupation_Adm-clerical</th>\n",
       "      <th>occupation_Craft-repair</th>\n",
       "      <th>occupation_Exec-managerial</th>\n",
       "      <th>occupation_Prof-specialty</th>\n",
       "      <th>occupation_Sales</th>\n",
       "      <th>race_White</th>\n",
       "      <th>sex_Male</th>\n",
       "      <th>native-country_United-States</th>\n",
       "      <th>income_&gt;50K</th>\n",
       "    </tr>\n",
       "  </thead>\n",
       "  <tbody>\n",
       "    <tr>\n",
       "      <th>count</th>\n",
       "      <td>2538.000000</td>\n",
       "      <td>2538.000000</td>\n",
       "      <td>2538.000000</td>\n",
       "      <td>2538.0</td>\n",
       "      <td>2538.000000</td>\n",
       "      <td>2538.000000</td>\n",
       "      <td>2538.000000</td>\n",
       "      <td>2538.000000</td>\n",
       "      <td>2538.000000</td>\n",
       "      <td>2538.000000</td>\n",
       "      <td>2538.000000</td>\n",
       "      <td>2538.000000</td>\n",
       "      <td>2538.00000</td>\n",
       "      <td>2538.000000</td>\n",
       "      <td>2538.000000</td>\n",
       "      <td>2538.000000</td>\n",
       "      <td>2538.000000</td>\n",
       "      <td>2538.000000</td>\n",
       "    </tr>\n",
       "    <tr>\n",
       "      <th>mean</th>\n",
       "      <td>43.506698</td>\n",
       "      <td>11.105595</td>\n",
       "      <td>44.009062</td>\n",
       "      <td>1.0</td>\n",
       "      <td>0.151300</td>\n",
       "      <td>0.671001</td>\n",
       "      <td>0.176911</td>\n",
       "      <td>0.681245</td>\n",
       "      <td>0.167849</td>\n",
       "      <td>0.092199</td>\n",
       "      <td>0.120567</td>\n",
       "      <td>0.212372</td>\n",
       "      <td>0.21316</td>\n",
       "      <td>0.124507</td>\n",
       "      <td>0.892435</td>\n",
       "      <td>0.778960</td>\n",
       "      <td>0.929472</td>\n",
       "      <td>0.628448</td>\n",
       "    </tr>\n",
       "    <tr>\n",
       "      <th>std</th>\n",
       "      <td>12.715070</td>\n",
       "      <td>2.624413</td>\n",
       "      <td>11.672086</td>\n",
       "      <td>0.0</td>\n",
       "      <td>0.358412</td>\n",
       "      <td>0.469942</td>\n",
       "      <td>0.381669</td>\n",
       "      <td>0.466086</td>\n",
       "      <td>0.373806</td>\n",
       "      <td>0.289363</td>\n",
       "      <td>0.325688</td>\n",
       "      <td>0.409067</td>\n",
       "      <td>0.40962</td>\n",
       "      <td>0.330225</td>\n",
       "      <td>0.309891</td>\n",
       "      <td>0.415029</td>\n",
       "      <td>0.256085</td>\n",
       "      <td>0.483315</td>\n",
       "    </tr>\n",
       "    <tr>\n",
       "      <th>min</th>\n",
       "      <td>17.000000</td>\n",
       "      <td>1.000000</td>\n",
       "      <td>2.000000</td>\n",
       "      <td>1.0</td>\n",
       "      <td>0.000000</td>\n",
       "      <td>0.000000</td>\n",
       "      <td>0.000000</td>\n",
       "      <td>0.000000</td>\n",
       "      <td>0.000000</td>\n",
       "      <td>0.000000</td>\n",
       "      <td>0.000000</td>\n",
       "      <td>0.000000</td>\n",
       "      <td>0.00000</td>\n",
       "      <td>0.000000</td>\n",
       "      <td>0.000000</td>\n",
       "      <td>0.000000</td>\n",
       "      <td>0.000000</td>\n",
       "      <td>0.000000</td>\n",
       "    </tr>\n",
       "    <tr>\n",
       "      <th>25%</th>\n",
       "      <td>35.000000</td>\n",
       "      <td>9.000000</td>\n",
       "      <td>40.000000</td>\n",
       "      <td>1.0</td>\n",
       "      <td>0.000000</td>\n",
       "      <td>0.000000</td>\n",
       "      <td>0.000000</td>\n",
       "      <td>0.000000</td>\n",
       "      <td>0.000000</td>\n",
       "      <td>0.000000</td>\n",
       "      <td>0.000000</td>\n",
       "      <td>0.000000</td>\n",
       "      <td>0.00000</td>\n",
       "      <td>0.000000</td>\n",
       "      <td>1.000000</td>\n",
       "      <td>1.000000</td>\n",
       "      <td>1.000000</td>\n",
       "      <td>0.000000</td>\n",
       "    </tr>\n",
       "    <tr>\n",
       "      <th>50%</th>\n",
       "      <td>42.000000</td>\n",
       "      <td>11.000000</td>\n",
       "      <td>40.000000</td>\n",
       "      <td>1.0</td>\n",
       "      <td>0.000000</td>\n",
       "      <td>1.000000</td>\n",
       "      <td>0.000000</td>\n",
       "      <td>1.000000</td>\n",
       "      <td>0.000000</td>\n",
       "      <td>0.000000</td>\n",
       "      <td>0.000000</td>\n",
       "      <td>0.000000</td>\n",
       "      <td>0.00000</td>\n",
       "      <td>0.000000</td>\n",
       "      <td>1.000000</td>\n",
       "      <td>1.000000</td>\n",
       "      <td>1.000000</td>\n",
       "      <td>1.000000</td>\n",
       "    </tr>\n",
       "    <tr>\n",
       "      <th>75%</th>\n",
       "      <td>51.000000</td>\n",
       "      <td>13.000000</td>\n",
       "      <td>50.000000</td>\n",
       "      <td>1.0</td>\n",
       "      <td>0.000000</td>\n",
       "      <td>1.000000</td>\n",
       "      <td>0.000000</td>\n",
       "      <td>1.000000</td>\n",
       "      <td>0.000000</td>\n",
       "      <td>0.000000</td>\n",
       "      <td>0.000000</td>\n",
       "      <td>0.000000</td>\n",
       "      <td>0.00000</td>\n",
       "      <td>0.000000</td>\n",
       "      <td>1.000000</td>\n",
       "      <td>1.000000</td>\n",
       "      <td>1.000000</td>\n",
       "      <td>1.000000</td>\n",
       "    </tr>\n",
       "    <tr>\n",
       "      <th>max</th>\n",
       "      <td>90.000000</td>\n",
       "      <td>16.000000</td>\n",
       "      <td>99.000000</td>\n",
       "      <td>1.0</td>\n",
       "      <td>1.000000</td>\n",
       "      <td>1.000000</td>\n",
       "      <td>1.000000</td>\n",
       "      <td>1.000000</td>\n",
       "      <td>1.000000</td>\n",
       "      <td>1.000000</td>\n",
       "      <td>1.000000</td>\n",
       "      <td>1.000000</td>\n",
       "      <td>1.00000</td>\n",
       "      <td>1.000000</td>\n",
       "      <td>1.000000</td>\n",
       "      <td>1.000000</td>\n",
       "      <td>1.000000</td>\n",
       "      <td>1.000000</td>\n",
       "    </tr>\n",
       "  </tbody>\n",
       "</table>\n",
       "</div>"
      ],
      "text/plain": [
       "               age  education-num  hours-per-week  capital-net_>0  \\\n",
       "count  2538.000000    2538.000000     2538.000000          2538.0   \n",
       "mean     43.506698      11.105595       44.009062             1.0   \n",
       "std      12.715070       2.624413       11.672086             0.0   \n",
       "min      17.000000       1.000000        2.000000             1.0   \n",
       "25%      35.000000       9.000000       40.000000             1.0   \n",
       "50%      42.000000      11.000000       40.000000             1.0   \n",
       "75%      51.000000      13.000000       50.000000             1.0   \n",
       "max      90.000000      16.000000       99.000000             1.0   \n",
       "\n",
       "       workingclass_Govt  workingclass_Private  workingclass_Self-emp  \\\n",
       "count        2538.000000           2538.000000            2538.000000   \n",
       "mean            0.151300              0.671001               0.176911   \n",
       "std             0.358412              0.469942               0.381669   \n",
       "min             0.000000              0.000000               0.000000   \n",
       "25%             0.000000              0.000000               0.000000   \n",
       "50%             0.000000              1.000000               0.000000   \n",
       "75%             0.000000              1.000000               0.000000   \n",
       "max             1.000000              1.000000               1.000000   \n",
       "\n",
       "       marital-status_Married  marital-status_Never-married  \\\n",
       "count             2538.000000                   2538.000000   \n",
       "mean                 0.681245                      0.167849   \n",
       "std                  0.466086                      0.373806   \n",
       "min                  0.000000                      0.000000   \n",
       "25%                  0.000000                      0.000000   \n",
       "50%                  1.000000                      0.000000   \n",
       "75%                  1.000000                      0.000000   \n",
       "max                  1.000000                      1.000000   \n",
       "\n",
       "       occupation_Adm-clerical  occupation_Craft-repair  \\\n",
       "count              2538.000000              2538.000000   \n",
       "mean                  0.092199                 0.120567   \n",
       "std                   0.289363                 0.325688   \n",
       "min                   0.000000                 0.000000   \n",
       "25%                   0.000000                 0.000000   \n",
       "50%                   0.000000                 0.000000   \n",
       "75%                   0.000000                 0.000000   \n",
       "max                   1.000000                 1.000000   \n",
       "\n",
       "       occupation_Exec-managerial  occupation_Prof-specialty  \\\n",
       "count                 2538.000000                 2538.00000   \n",
       "mean                     0.212372                    0.21316   \n",
       "std                      0.409067                    0.40962   \n",
       "min                      0.000000                    0.00000   \n",
       "25%                      0.000000                    0.00000   \n",
       "50%                      0.000000                    0.00000   \n",
       "75%                      0.000000                    0.00000   \n",
       "max                      1.000000                    1.00000   \n",
       "\n",
       "       occupation_Sales   race_White     sex_Male  \\\n",
       "count       2538.000000  2538.000000  2538.000000   \n",
       "mean           0.124507     0.892435     0.778960   \n",
       "std            0.330225     0.309891     0.415029   \n",
       "min            0.000000     0.000000     0.000000   \n",
       "25%            0.000000     1.000000     1.000000   \n",
       "50%            0.000000     1.000000     1.000000   \n",
       "75%            0.000000     1.000000     1.000000   \n",
       "max            1.000000     1.000000     1.000000   \n",
       "\n",
       "       native-country_United-States  income_>50K  \n",
       "count                   2538.000000  2538.000000  \n",
       "mean                       0.929472     0.628448  \n",
       "std                        0.256085     0.483315  \n",
       "min                        0.000000     0.000000  \n",
       "25%                        1.000000     0.000000  \n",
       "50%                        1.000000     1.000000  \n",
       "75%                        1.000000     1.000000  \n",
       "max                        1.000000     1.000000  "
      ]
     },
     "execution_count": 49,
     "metadata": {},
     "output_type": "execute_result"
    }
   ],
   "source": [
    "capital_gp.describe()"
   ]
  },
  {
   "cell_type": "markdown",
   "metadata": {},
   "source": [
    "Other population "
   ]
  },
  {
   "cell_type": "code",
   "execution_count": 50,
   "metadata": {
    "ExecuteTime": {
     "end_time": "2020-03-09T17:24:29.995867Z",
     "start_time": "2020-03-09T17:24:29.892543Z"
    },
    "scrolled": true
   },
   "outputs": [
    {
     "data": {
      "text/html": [
       "<div>\n",
       "<style scoped>\n",
       "    .dataframe tbody tr th:only-of-type {\n",
       "        vertical-align: middle;\n",
       "    }\n",
       "\n",
       "    .dataframe tbody tr th {\n",
       "        vertical-align: top;\n",
       "    }\n",
       "\n",
       "    .dataframe thead th {\n",
       "        text-align: right;\n",
       "    }\n",
       "</style>\n",
       "<table border=\"1\" class=\"dataframe\">\n",
       "  <thead>\n",
       "    <tr style=\"text-align: right;\">\n",
       "      <th></th>\n",
       "      <th>age</th>\n",
       "      <th>education-num</th>\n",
       "      <th>hours-per-week</th>\n",
       "      <th>capital-net_&gt;0</th>\n",
       "      <th>workingclass_Govt</th>\n",
       "      <th>workingclass_Private</th>\n",
       "      <th>workingclass_Self-emp</th>\n",
       "      <th>marital-status_Married</th>\n",
       "      <th>marital-status_Never-married</th>\n",
       "      <th>occupation_Adm-clerical</th>\n",
       "      <th>occupation_Craft-repair</th>\n",
       "      <th>occupation_Exec-managerial</th>\n",
       "      <th>occupation_Prof-specialty</th>\n",
       "      <th>occupation_Sales</th>\n",
       "      <th>race_White</th>\n",
       "      <th>sex_Male</th>\n",
       "      <th>native-country_United-States</th>\n",
       "      <th>income_&gt;50K</th>\n",
       "    </tr>\n",
       "  </thead>\n",
       "  <tbody>\n",
       "    <tr>\n",
       "      <th>count</th>\n",
       "      <td>27624.000000</td>\n",
       "      <td>27624.000000</td>\n",
       "      <td>27624.000000</td>\n",
       "      <td>27624.0</td>\n",
       "      <td>27624.000000</td>\n",
       "      <td>27624.000000</td>\n",
       "      <td>27624.000000</td>\n",
       "      <td>27624.000000</td>\n",
       "      <td>27624.000000</td>\n",
       "      <td>27624.000000</td>\n",
       "      <td>27624.000000</td>\n",
       "      <td>27624.000000</td>\n",
       "      <td>27624.000000</td>\n",
       "      <td>27624.000000</td>\n",
       "      <td>27624.000000</td>\n",
       "      <td>27624.000000</td>\n",
       "      <td>27624.000000</td>\n",
       "      <td>27624.000000</td>\n",
       "    </tr>\n",
       "    <tr>\n",
       "      <th>mean</th>\n",
       "      <td>37.972198</td>\n",
       "      <td>10.030879</td>\n",
       "      <td>40.648458</td>\n",
       "      <td>0.0</td>\n",
       "      <td>0.141363</td>\n",
       "      <td>0.745113</td>\n",
       "      <td>0.113090</td>\n",
       "      <td>0.460723</td>\n",
       "      <td>0.336664</td>\n",
       "      <td>0.126231</td>\n",
       "      <td>0.134810</td>\n",
       "      <td>0.125000</td>\n",
       "      <td>0.126593</td>\n",
       "      <td>0.118303</td>\n",
       "      <td>0.856791</td>\n",
       "      <td>0.666196</td>\n",
       "      <td>0.910259</td>\n",
       "      <td>0.214053</td>\n",
       "    </tr>\n",
       "    <tr>\n",
       "      <th>std</th>\n",
       "      <td>13.074567</td>\n",
       "      <td>2.523916</td>\n",
       "      <td>11.968447</td>\n",
       "      <td>0.0</td>\n",
       "      <td>0.348401</td>\n",
       "      <td>0.435806</td>\n",
       "      <td>0.316709</td>\n",
       "      <td>0.498464</td>\n",
       "      <td>0.472577</td>\n",
       "      <td>0.332115</td>\n",
       "      <td>0.341527</td>\n",
       "      <td>0.330725</td>\n",
       "      <td>0.332522</td>\n",
       "      <td>0.322972</td>\n",
       "      <td>0.350292</td>\n",
       "      <td>0.471579</td>\n",
       "      <td>0.285815</td>\n",
       "      <td>0.410171</td>\n",
       "    </tr>\n",
       "    <tr>\n",
       "      <th>min</th>\n",
       "      <td>17.000000</td>\n",
       "      <td>1.000000</td>\n",
       "      <td>1.000000</td>\n",
       "      <td>0.0</td>\n",
       "      <td>0.000000</td>\n",
       "      <td>0.000000</td>\n",
       "      <td>0.000000</td>\n",
       "      <td>0.000000</td>\n",
       "      <td>0.000000</td>\n",
       "      <td>0.000000</td>\n",
       "      <td>0.000000</td>\n",
       "      <td>0.000000</td>\n",
       "      <td>0.000000</td>\n",
       "      <td>0.000000</td>\n",
       "      <td>0.000000</td>\n",
       "      <td>0.000000</td>\n",
       "      <td>0.000000</td>\n",
       "      <td>0.000000</td>\n",
       "    </tr>\n",
       "    <tr>\n",
       "      <th>25%</th>\n",
       "      <td>27.000000</td>\n",
       "      <td>9.000000</td>\n",
       "      <td>40.000000</td>\n",
       "      <td>0.0</td>\n",
       "      <td>0.000000</td>\n",
       "      <td>0.000000</td>\n",
       "      <td>0.000000</td>\n",
       "      <td>0.000000</td>\n",
       "      <td>0.000000</td>\n",
       "      <td>0.000000</td>\n",
       "      <td>0.000000</td>\n",
       "      <td>0.000000</td>\n",
       "      <td>0.000000</td>\n",
       "      <td>0.000000</td>\n",
       "      <td>1.000000</td>\n",
       "      <td>0.000000</td>\n",
       "      <td>1.000000</td>\n",
       "      <td>0.000000</td>\n",
       "    </tr>\n",
       "    <tr>\n",
       "      <th>50%</th>\n",
       "      <td>37.000000</td>\n",
       "      <td>10.000000</td>\n",
       "      <td>40.000000</td>\n",
       "      <td>0.0</td>\n",
       "      <td>0.000000</td>\n",
       "      <td>1.000000</td>\n",
       "      <td>0.000000</td>\n",
       "      <td>0.000000</td>\n",
       "      <td>0.000000</td>\n",
       "      <td>0.000000</td>\n",
       "      <td>0.000000</td>\n",
       "      <td>0.000000</td>\n",
       "      <td>0.000000</td>\n",
       "      <td>0.000000</td>\n",
       "      <td>1.000000</td>\n",
       "      <td>1.000000</td>\n",
       "      <td>1.000000</td>\n",
       "      <td>0.000000</td>\n",
       "    </tr>\n",
       "    <tr>\n",
       "      <th>75%</th>\n",
       "      <td>47.000000</td>\n",
       "      <td>12.000000</td>\n",
       "      <td>45.000000</td>\n",
       "      <td>0.0</td>\n",
       "      <td>0.000000</td>\n",
       "      <td>1.000000</td>\n",
       "      <td>0.000000</td>\n",
       "      <td>1.000000</td>\n",
       "      <td>1.000000</td>\n",
       "      <td>0.000000</td>\n",
       "      <td>0.000000</td>\n",
       "      <td>0.000000</td>\n",
       "      <td>0.000000</td>\n",
       "      <td>0.000000</td>\n",
       "      <td>1.000000</td>\n",
       "      <td>1.000000</td>\n",
       "      <td>1.000000</td>\n",
       "      <td>0.000000</td>\n",
       "    </tr>\n",
       "    <tr>\n",
       "      <th>max</th>\n",
       "      <td>90.000000</td>\n",
       "      <td>16.000000</td>\n",
       "      <td>99.000000</td>\n",
       "      <td>0.0</td>\n",
       "      <td>1.000000</td>\n",
       "      <td>1.000000</td>\n",
       "      <td>1.000000</td>\n",
       "      <td>1.000000</td>\n",
       "      <td>1.000000</td>\n",
       "      <td>1.000000</td>\n",
       "      <td>1.000000</td>\n",
       "      <td>1.000000</td>\n",
       "      <td>1.000000</td>\n",
       "      <td>1.000000</td>\n",
       "      <td>1.000000</td>\n",
       "      <td>1.000000</td>\n",
       "      <td>1.000000</td>\n",
       "      <td>1.000000</td>\n",
       "    </tr>\n",
       "  </tbody>\n",
       "</table>\n",
       "</div>"
      ],
      "text/plain": [
       "                age  education-num  hours-per-week  capital-net_>0  \\\n",
       "count  27624.000000   27624.000000    27624.000000         27624.0   \n",
       "mean      37.972198      10.030879       40.648458             0.0   \n",
       "std       13.074567       2.523916       11.968447             0.0   \n",
       "min       17.000000       1.000000        1.000000             0.0   \n",
       "25%       27.000000       9.000000       40.000000             0.0   \n",
       "50%       37.000000      10.000000       40.000000             0.0   \n",
       "75%       47.000000      12.000000       45.000000             0.0   \n",
       "max       90.000000      16.000000       99.000000             0.0   \n",
       "\n",
       "       workingclass_Govt  workingclass_Private  workingclass_Self-emp  \\\n",
       "count       27624.000000          27624.000000           27624.000000   \n",
       "mean            0.141363              0.745113               0.113090   \n",
       "std             0.348401              0.435806               0.316709   \n",
       "min             0.000000              0.000000               0.000000   \n",
       "25%             0.000000              0.000000               0.000000   \n",
       "50%             0.000000              1.000000               0.000000   \n",
       "75%             0.000000              1.000000               0.000000   \n",
       "max             1.000000              1.000000               1.000000   \n",
       "\n",
       "       marital-status_Married  marital-status_Never-married  \\\n",
       "count            27624.000000                  27624.000000   \n",
       "mean                 0.460723                      0.336664   \n",
       "std                  0.498464                      0.472577   \n",
       "min                  0.000000                      0.000000   \n",
       "25%                  0.000000                      0.000000   \n",
       "50%                  0.000000                      0.000000   \n",
       "75%                  1.000000                      1.000000   \n",
       "max                  1.000000                      1.000000   \n",
       "\n",
       "       occupation_Adm-clerical  occupation_Craft-repair  \\\n",
       "count             27624.000000             27624.000000   \n",
       "mean                  0.126231                 0.134810   \n",
       "std                   0.332115                 0.341527   \n",
       "min                   0.000000                 0.000000   \n",
       "25%                   0.000000                 0.000000   \n",
       "50%                   0.000000                 0.000000   \n",
       "75%                   0.000000                 0.000000   \n",
       "max                   1.000000                 1.000000   \n",
       "\n",
       "       occupation_Exec-managerial  occupation_Prof-specialty  \\\n",
       "count                27624.000000               27624.000000   \n",
       "mean                     0.125000                   0.126593   \n",
       "std                      0.330725                   0.332522   \n",
       "min                      0.000000                   0.000000   \n",
       "25%                      0.000000                   0.000000   \n",
       "50%                      0.000000                   0.000000   \n",
       "75%                      0.000000                   0.000000   \n",
       "max                      1.000000                   1.000000   \n",
       "\n",
       "       occupation_Sales    race_White      sex_Male  \\\n",
       "count      27624.000000  27624.000000  27624.000000   \n",
       "mean           0.118303      0.856791      0.666196   \n",
       "std            0.322972      0.350292      0.471579   \n",
       "min            0.000000      0.000000      0.000000   \n",
       "25%            0.000000      1.000000      0.000000   \n",
       "50%            0.000000      1.000000      1.000000   \n",
       "75%            0.000000      1.000000      1.000000   \n",
       "max            1.000000      1.000000      1.000000   \n",
       "\n",
       "       native-country_United-States   income_>50K  \n",
       "count                  27624.000000  27624.000000  \n",
       "mean                       0.910259      0.214053  \n",
       "std                        0.285815      0.410171  \n",
       "min                        0.000000      0.000000  \n",
       "25%                        1.000000      0.000000  \n",
       "50%                        1.000000      0.000000  \n",
       "75%                        1.000000      0.000000  \n",
       "max                        1.000000      1.000000  "
      ]
     },
     "execution_count": 50,
     "metadata": {},
     "output_type": "execute_result"
    }
   ],
   "source": [
    "capital_op.describe()"
   ]
  },
  {
   "cell_type": "markdown",
   "metadata": {},
   "source": [
    "**Observation:** <br>\n",
    "We observe there is a lot of variation between the two groups based on the following columns:\n",
    "- Marital status Married\n",
    "- Occupation - Exec managerial\n",
    "- Occupation - Prof speciality\n",
    "- Income > 50k "
   ]
  },
  {
   "cell_type": "code",
   "execution_count": 51,
   "metadata": {
    "ExecuteTime": {
     "end_time": "2020-03-09T17:24:32.256566Z",
     "start_time": "2020-03-09T17:24:29.997410Z"
    }
   },
   "outputs": [
    {
     "data": {
      "image/png": "[encoded data removed]",
      "text/plain": [
       "<Figure size 1080x720 with 4 Axes>"
      ]
     },
     "metadata": {
      "needs_background": "light"
     },
     "output_type": "display_data"
    }
   ],
   "source": [
    "fig, ax = plt.subplots(2,2, figsize=(15,10))\n",
    "s0 = sns.pointplot(x = \"capital-net_>0\", y = \"income_>50K\",  data = adult_df_new, ax = ax[0][0])\n",
    "s0.set_xticklabels([\"net-capital <=0\", \"net-capital >0\"])\n",
    "s0.set_xlabel(None)\n",
    "s0.set_ylabel(None)\n",
    "s0.set_title(\"Proportion of income class by 2 categories\",fontsize=12)\n",
    "\n",
    "s1 = sns.pointplot(x = \"capital-net_>0\", y = \"marital-status_Married\",  data = adult_df_new, ax = ax[0][1])\n",
    "s1.set_xticklabels([\"net-capital <=0\", \"net-capital >0\"])\n",
    "s1.set_xlabel(None)\n",
    "s1.set_ylabel(None)\n",
    "s1.set_title(\"Proportion of Married people by 2 categories\",fontsize=12);\n",
    "\n",
    "\n",
    "s2 = sns.pointplot(x = \"capital-net_>0\", y = \"occupation_Exec-managerial\",  data = adult_df_new, ax = ax[1][0])\n",
    "s2.set_xticklabels([\"net-capital <=0\", \"net-capital >0\"])\n",
    "s2.set_xlabel(None)\n",
    "s2.set_ylabel(None)\n",
    "s2.set_title(\"Proportion of executive managerial people by 2 categories\",fontsize=12)\n",
    "\n",
    "\n",
    "s3 = sns.pointplot(x = \"capital-net_>0\", y = \"occupation_Prof-specialty\",  data = adult_df_new, ax = ax[1][1])\n",
    "s3.set_xticklabels([\"net-capital <=0\", \"net-capital >0\"])\n",
    "s3.set_xlabel(None)\n",
    "s3.set_ylabel(None)\n",
    "s3.set_title(\"Proportion of prof speciality people by 2 categories\",fontsize=12);"
   ]
  },
  {
   "cell_type": "markdown",
   "metadata": {},
   "source": [
    "**Inference:**  <br>\n",
    "\n",
    "We summarise the findings w.r.t. estimated successful investors group (i.e. people with postive net-capital)\n",
    "- **63% this group belongs to high income-class** compared to only 21% of the other population\n",
    "- **68% of the group is married**, compared to 45% of the other population \n",
    "- **43% of the group work as executive managers or in specialty professions** compared to 25% of the other population"
   ]
  },
  {
   "cell_type": "markdown",
   "metadata": {},
   "source": [
    "## Impact of each feature on high/low income class"
   ]
  },
  {
   "cell_type": "markdown",
   "metadata": {},
   "source": [
    "In this section we try to quantify the impact of each feature in determining high/low income class. \n",
    "Steps <br> \n",
    "- Fit a **logistic regression model** w.r.t. high income class \n",
    "- Interpret coefficients of logistic regression in terms of odds-ratio of high income class w.r.t. low income class"
   ]
  },
  {
   "cell_type": "code",
   "execution_count": 52,
   "metadata": {
    "ExecuteTime": {
     "end_time": "2020-03-09T17:24:32.267813Z",
     "start_time": "2020-03-09T17:24:32.257903Z"
    }
   },
   "outputs": [],
   "source": [
    "X = adult_df_new.loc[:, features_selected] \n",
    "y = adult_df_new[\"income_>50K\" ]"
   ]
  },
  {
   "cell_type": "code",
   "execution_count": 53,
   "metadata": {
    "ExecuteTime": {
     "end_time": "2020-03-09T17:24:36.858167Z",
     "start_time": "2020-03-09T17:24:32.269809Z"
    }
   },
   "outputs": [],
   "source": [
    "lr = LogisticRegression(penalty = \"l2\", C=1, max_iter = 1000)\n",
    "lr.fit(X, y);"
   ]
  },
  {
   "cell_type": "code",
   "execution_count": 54,
   "metadata": {
    "ExecuteTime": {
     "end_time": "2020-03-09T17:24:36.870033Z",
     "start_time": "2020-03-09T17:24:36.862303Z"
    }
   },
   "outputs": [],
   "source": [
    "coeffs = lr.coef_"
   ]
  },
  {
   "cell_type": "code",
   "execution_count": 55,
   "metadata": {
    "ExecuteTime": {
     "end_time": "2020-03-09T17:24:36.890153Z",
     "start_time": "2020-03-09T17:24:36.882314Z"
    }
   },
   "outputs": [],
   "source": [
    "impact_features = pd.Series(index = list(X.columns),data = coeffs[0])"
   ]
  },
  {
   "cell_type": "code",
   "execution_count": 56,
   "metadata": {
    "ExecuteTime": {
     "end_time": "2020-03-09T17:24:36.906811Z",
     "start_time": "2020-03-09T17:24:36.895229Z"
    }
   },
   "outputs": [],
   "source": [
    "age_impact_10 = np.exp(impact_features[\"age\"]*10)\n",
    "edu_impact = np.exp(impact_features[\"education-num\"])\n",
    "hours_impact = np.exp(impact_features[\"hours-per-week\"]*5)\n",
    "ms_impact = np.exp(impact_features[\"marital-status_Married\"])\n",
    "net_capital_impact = np.exp(impact_features[\"capital-net_>0\"])\n",
    "sex_impact = np.exp(impact_features[\"sex_Male\"])\n",
    "race_impact = np.exp(impact_features[\"race_White\"])"
   ]
  },
  {
   "cell_type": "markdown",
   "metadata": {},
   "source": [
    "**Inference:**\n",
    "- Age – Increase in age by 10 years increases the odds of high-income-class by **1.3 times** \n",
    "- Education – Unit increase in education years increases the odds of the high-income class by **1.36 times**\n",
    "- Hours per week –Increase in work hours per week by 5 years increases the odds of high income-class by **1.15 times** \n",
    "- Marital status – Married people have **7.5 times** odds of high-income class \n",
    "- Net capital – If net-capital is more than 0 it increases odds of the high-income class by **4.9 times**\n",
    "- Sex – Men make odds of high-income class increase by **1.36 times** as compared to women \n",
    "- Race – Whites increase the odds of high-income class increase by **1.17 times** as compared to other races\n"
   ]
  },
  {
   "cell_type": "markdown",
   "metadata": {},
   "source": [
    "# Predictive Modeling"
   ]
  },
  {
   "cell_type": "markdown",
   "metadata": {},
   "source": [
    "In this section, we build models so as to predict whether a person belongs to high/low income class based on his/her attributes.\n",
    "<br>\n",
    "\n",
    "Steps: \n",
    "\n",
    "- Fit training data\n",
    "- Tune hyperparameters to get a good cross-validation accuracy \n",
    "- Compare different models in terms of accuracy and run-time \n",
    "- Test the best models on the test set "
   ]
  },
  {
   "cell_type": "markdown",
   "metadata": {},
   "source": [
    "## Building the model "
   ]
  },
  {
   "cell_type": "markdown",
   "metadata": {},
   "source": [
    "### Null model\n",
    "Baseline model: This serves as a comparison for other models. We predict the larger class every time"
   ]
  },
  {
   "cell_type": "code",
   "execution_count": 57,
   "metadata": {
    "ExecuteTime": {
     "end_time": "2020-03-09T17:24:36.923054Z",
     "start_time": "2020-03-09T17:24:36.910642Z"
    }
   },
   "outputs": [],
   "source": [
    "summary = pd.DataFrame(columns = [\"model\", \"accuracy\", \"time(s)\"])"
   ]
  },
  {
   "cell_type": "code",
   "execution_count": 58,
   "metadata": {
    "ExecuteTime": {
     "end_time": "2020-03-09T17:24:36.934524Z",
     "start_time": "2020-03-09T17:24:36.926241Z"
    }
   },
   "outputs": [],
   "source": [
    "score_0 = round(np.mean(y==0),2)"
   ]
  },
  {
   "cell_type": "code",
   "execution_count": 59,
   "metadata": {
    "ExecuteTime": {
     "end_time": "2020-03-09T17:24:36.952487Z",
     "start_time": "2020-03-09T17:24:36.938157Z"
    }
   },
   "outputs": [],
   "source": [
    "summary = summary.append({\"model\":\"Null\", \"accuracy\": score_0, \"time(s)\":0}, ignore_index=  True)"
   ]
  },
  {
   "cell_type": "markdown",
   "metadata": {},
   "source": [
    "### Decision Tree \n",
    "- maximum depth = 10 \n",
    "- split criterion = gini coefficient\n",
    "- complexity parameter = 0"
   ]
  },
  {
   "cell_type": "code",
   "execution_count": 60,
   "metadata": {
    "ExecuteTime": {
     "end_time": "2020-03-09T17:24:36.964785Z",
     "start_time": "2020-03-09T17:24:36.955887Z"
    }
   },
   "outputs": [],
   "source": [
    "kfoldCV = StratifiedKFold(n_splits=5, shuffle = True, random_state=0)"
   ]
  },
  {
   "cell_type": "code",
   "execution_count": 61,
   "metadata": {
    "ExecuteTime": {
     "end_time": "2020-03-09T17:24:37.499158Z",
     "start_time": "2020-03-09T17:24:36.968591Z"
    }
   },
   "outputs": [],
   "source": [
    "tick = time.time()\n",
    "dt = DecisionTreeClassifier(max_depth = 10, random_state = 24)\n",
    "dt_scores = cross_val_score(dt, X, y, cv = kfoldCV)\n",
    "tock = time.time()"
   ]
  },
  {
   "cell_type": "code",
   "execution_count": 62,
   "metadata": {
    "ExecuteTime": {
     "end_time": "2020-03-09T17:24:37.513138Z",
     "start_time": "2020-03-09T17:24:37.500186Z"
    }
   },
   "outputs": [],
   "source": [
    "summary = summary.append({\"model\":\"Decison Tree\", \"accuracy\": np.round(np.mean(dt_scores),2), \"time(s)\":round((tock - tick),2)}, ignore_index=  True)"
   ]
  },
  {
   "cell_type": "markdown",
   "metadata": {},
   "source": [
    "### Random Forest \n",
    "- maximum depth = 10\n",
    "- total estimators = 100 \n",
    "- split criterion = gini coefficient\n",
    "- maximum features (in each tree) = sqrt(number of features)"
   ]
  },
  {
   "cell_type": "code",
   "execution_count": 63,
   "metadata": {
    "ExecuteTime": {
     "end_time": "2020-03-09T17:24:48.455570Z",
     "start_time": "2020-03-09T17:24:37.514109Z"
    }
   },
   "outputs": [],
   "source": [
    "tick = time.time()\n",
    "rf = RandomForestClassifier(n_estimators = 100, max_depth = 10, random_state = 24)\n",
    "rf_scores = cross_val_score(rf, X, y, cv = kfoldCV)\n",
    "tock = time.time()"
   ]
  },
  {
   "cell_type": "code",
   "execution_count": 64,
   "metadata": {
    "ExecuteTime": {
     "end_time": "2020-03-09T17:24:48.471959Z",
     "start_time": "2020-03-09T17:24:48.455570Z"
    }
   },
   "outputs": [],
   "source": [
    "summary = summary.append({\"model\":\"Random Forest\", \"accuracy\": np.round(np.mean(rf_scores),2), \"time(s)\":round((tock - tick),2)}, ignore_index=  True)"
   ]
  },
  {
   "cell_type": "markdown",
   "metadata": {},
   "source": [
    "### AdaBoost\n",
    "- base estimator = decision stump (decision tree max depth = 1)\n",
    "- estimators = 50\n",
    "- learning rate = 0.1"
   ]
  },
  {
   "cell_type": "code",
   "execution_count": 65,
   "metadata": {
    "ExecuteTime": {
     "end_time": "2020-03-09T17:24:55.054883Z",
     "start_time": "2020-03-09T17:24:48.473014Z"
    }
   },
   "outputs": [],
   "source": [
    "tick = time.time()\n",
    "ada = AdaBoostClassifier(learning_rate = 0.1, random_state = 24)\n",
    "ada_scores = cross_val_score(ada, X, y, cv = kfoldCV)\n",
    "tock = time.time()"
   ]
  },
  {
   "cell_type": "code",
   "execution_count": 66,
   "metadata": {
    "ExecuteTime": {
     "end_time": "2020-03-09T17:24:55.072119Z",
     "start_time": "2020-03-09T17:24:55.054883Z"
    }
   },
   "outputs": [],
   "source": [
    "summary = summary.append({\"model\":\"AdaBoost\", \"accuracy\": np.round(np.mean(ada_scores),2), \"time(s)\": round((tock - tick),2)}, ignore_index=  True)"
   ]
  },
  {
   "cell_type": "markdown",
   "metadata": {},
   "source": [
    "### XGBoost\n",
    "- booster = gradient boosted tree \n",
    "- learning rate = 0.1\n",
    "- maximum depth = 5\n",
    "- regularization = lambda (l2), weight = 1 "
   ]
  },
  {
   "cell_type": "code",
   "execution_count": 67,
   "metadata": {
    "ExecuteTime": {
     "end_time": "2020-03-09T17:25:15.250822Z",
     "start_time": "2020-03-09T17:24:55.074738Z"
    }
   },
   "outputs": [],
   "source": [
    "tick = time.time()\n",
    "xgb = XGBClassifier(max_depth = 5, learning_rate=0.1)\n",
    "xgb_scores = cross_val_score(xgb, X, y, cv = 5)\n",
    "tock = time.time()"
   ]
  },
  {
   "cell_type": "code",
   "execution_count": 68,
   "metadata": {
    "ExecuteTime": {
     "end_time": "2020-03-09T17:25:15.262854Z",
     "start_time": "2020-03-09T17:25:15.252801Z"
    }
   },
   "outputs": [],
   "source": [
    "summary = summary.append({\"model\":\"XGBoost\", \"accuracy\": np.round(np.mean(xgb_scores),2), \"time(s)\": round((tock - tick),2)}, ignore_index=  True)"
   ]
  },
  {
   "cell_type": "markdown",
   "metadata": {},
   "source": [
    "**Classifiers which require feature scaling**"
   ]
  },
  {
   "cell_type": "code",
   "execution_count": 69,
   "metadata": {
    "ExecuteTime": {
     "end_time": "2020-03-09T17:25:15.293994Z",
     "start_time": "2020-03-09T17:25:15.265043Z"
    }
   },
   "outputs": [],
   "source": [
    "scaler = MinMaxScaler()\n",
    "scaler.fit(X)\n",
    "X_scaled = scaler.transform(X)"
   ]
  },
  {
   "cell_type": "markdown",
   "metadata": {},
   "source": [
    "### Logistic Regression\n",
    "- regularization = l2\n",
    "- regularization weight (C)  = 1"
   ]
  },
  {
   "cell_type": "code",
   "execution_count": 70,
   "metadata": {
    "ExecuteTime": {
     "end_time": "2020-03-09T17:25:15.766548Z",
     "start_time": "2020-03-09T17:25:15.297186Z"
    }
   },
   "outputs": [],
   "source": [
    "tick = time.time()\n",
    "lr = LogisticRegression(penalty = \"l2\", max_iter=1000, solver = \"liblinear\")\n",
    "lr_scores = cross_val_score(lr, X_scaled, y, cv = 5)\n",
    "tock = time.time()"
   ]
  },
  {
   "cell_type": "code",
   "execution_count": 71,
   "metadata": {
    "ExecuteTime": {
     "end_time": "2020-03-09T17:25:15.778799Z",
     "start_time": "2020-03-09T17:25:15.767546Z"
    }
   },
   "outputs": [],
   "source": [
    "summary = summary.append({\"model\":\"Logistic Regression\", \"accuracy\": np.round(np.mean(lr_scores),2), \"time(s)\": round((tock - tick),2)}, ignore_index=  True)"
   ]
  },
  {
   "cell_type": "markdown",
   "metadata": {},
   "source": [
    "### SVM \n",
    "- kernel = rbf\n",
    "- C = 1\n",
    "- gamma = 1/(number of features)"
   ]
  },
  {
   "cell_type": "code",
   "execution_count": 72,
   "metadata": {
    "ExecuteTime": {
     "end_time": "2020-03-09T17:27:13.515835Z",
     "start_time": "2020-03-09T17:25:15.778799Z"
    }
   },
   "outputs": [],
   "source": [
    "tick = time.time()\n",
    "svm = SVC(kernel = \"rbf\", C = 1, gamma = \"auto\")\n",
    "svm_scores = cross_val_score(svm, X_scaled, y, cv = 5)\n",
    "tock = time.time()"
   ]
  },
  {
   "cell_type": "code",
   "execution_count": 73,
   "metadata": {
    "ExecuteTime": {
     "end_time": "2020-03-09T17:27:13.532407Z",
     "start_time": "2020-03-09T17:27:13.517831Z"
    }
   },
   "outputs": [],
   "source": [
    "summary = summary.append({\"model\":\"SVM\", \"accuracy\": np.round(np.mean(lr_scores),2), \"time(s)\": round((tock - tick),2)}, ignore_index=  True)"
   ]
  },
  {
   "cell_type": "markdown",
   "metadata": {},
   "source": [
    "**Cross-validation Results:** "
   ]
  },
  {
   "cell_type": "code",
   "execution_count": 74,
   "metadata": {
    "ExecuteTime": {
     "end_time": "2020-03-09T17:27:13.558490Z",
     "start_time": "2020-03-09T17:27:13.533380Z"
    },
    "scrolled": true
   },
   "outputs": [
    {
     "data": {
      "text/html": [
       "<div>\n",
       "<style scoped>\n",
       "    .dataframe tbody tr th:only-of-type {\n",
       "        vertical-align: middle;\n",
       "    }\n",
       "\n",
       "    .dataframe tbody tr th {\n",
       "        vertical-align: top;\n",
       "    }\n",
       "\n",
       "    .dataframe thead th {\n",
       "        text-align: right;\n",
       "    }\n",
       "</style>\n",
       "<table border=\"1\" class=\"dataframe\">\n",
       "  <thead>\n",
       "    <tr style=\"text-align: right;\">\n",
       "      <th></th>\n",
       "      <th>model</th>\n",
       "      <th>accuracy</th>\n",
       "      <th>time(s)</th>\n",
       "    </tr>\n",
       "  </thead>\n",
       "  <tbody>\n",
       "    <tr>\n",
       "      <th>0</th>\n",
       "      <td>Null</td>\n",
       "      <td>0.75</td>\n",
       "      <td>0</td>\n",
       "    </tr>\n",
       "    <tr>\n",
       "      <th>1</th>\n",
       "      <td>Decison Tree</td>\n",
       "      <td>0.82</td>\n",
       "      <td>0.52</td>\n",
       "    </tr>\n",
       "    <tr>\n",
       "      <th>2</th>\n",
       "      <td>Random Forest</td>\n",
       "      <td>0.84</td>\n",
       "      <td>10.93</td>\n",
       "    </tr>\n",
       "    <tr>\n",
       "      <th>3</th>\n",
       "      <td>AdaBoost</td>\n",
       "      <td>0.83</td>\n",
       "      <td>6.57</td>\n",
       "    </tr>\n",
       "    <tr>\n",
       "      <th>4</th>\n",
       "      <td>XGBoost</td>\n",
       "      <td>0.84</td>\n",
       "      <td>20.17</td>\n",
       "    </tr>\n",
       "    <tr>\n",
       "      <th>5</th>\n",
       "      <td>Logistic Regression</td>\n",
       "      <td>0.83</td>\n",
       "      <td>0.46</td>\n",
       "    </tr>\n",
       "    <tr>\n",
       "      <th>6</th>\n",
       "      <td>SVM</td>\n",
       "      <td>0.83</td>\n",
       "      <td>117.73</td>\n",
       "    </tr>\n",
       "  </tbody>\n",
       "</table>\n",
       "</div>"
      ],
      "text/plain": [
       "                 model  accuracy time(s)\n",
       "0                 Null      0.75       0\n",
       "1         Decison Tree      0.82    0.52\n",
       "2        Random Forest      0.84   10.93\n",
       "3             AdaBoost      0.83    6.57\n",
       "4              XGBoost      0.84   20.17\n",
       "5  Logistic Regression      0.83    0.46\n",
       "6                  SVM      0.83  117.73"
      ]
     },
     "execution_count": 74,
     "metadata": {},
     "output_type": "execute_result"
    }
   ],
   "source": [
    "summary"
   ]
  },
  {
   "cell_type": "markdown",
   "metadata": {},
   "source": [
    "**Observation:** <Br>\n",
    "- **XGBoost** gives the best accuracy and which can be improved further with more hyperparameter tuning\n",
    "- There is not much difference between different classifiers, hence we can try all on the test data\n",
    "- **Logistic Regression** would be the classifier if the interpretation is important. A decision tree can also be used for the same purpose\n",
    "- SVM works the slowest while other classifiers are pretty fast"
   ]
  },
  {
   "cell_type": "markdown",
   "metadata": {},
   "source": [
    "## Testing on new data"
   ]
  },
  {
   "cell_type": "markdown",
   "metadata": {},
   "source": [
    "### Importing the test data"
   ]
  },
  {
   "cell_type": "code",
   "execution_count": 75,
   "metadata": {
    "ExecuteTime": {
     "end_time": "2020-03-09T17:27:14.860335Z",
     "start_time": "2020-03-09T17:27:13.563181Z"
    }
   },
   "outputs": [],
   "source": [
    "url=\"https://archive.ics.uci.edu/ml/machine-learning-databases/adult/adult.test\"\n",
    "content =requests.get(url).content\n",
    "columns = [\"age\", \"workingclass\", \"fnlwgt\", \"education\", \"education-num\", \"marital-status\", \"occupation\" , \"relationship\", \"race\", \"sex\", \"capital-gain\", \"capital-loss\", \"hours-per-week\", \"native-country\", \"income\"] \n",
    "adult_test=pd.read_csv(io.StringIO(content.decode('utf-8')), skiprows=1, header = None)"
   ]
  },
  {
   "cell_type": "code",
   "execution_count": 100,
   "metadata": {
    "ExecuteTime": {
     "end_time": "2020-03-09T17:46:28.193701Z",
     "start_time": "2020-03-09T17:46:28.189497Z"
    }
   },
   "outputs": [],
   "source": [
    "test_data_shape = adult_test.shape"
   ]
  },
  {
   "cell_type": "markdown",
   "metadata": {},
   "source": [
    "There are 16,281 records and 15 columns "
   ]
  },
  {
   "cell_type": "code",
   "execution_count": 77,
   "metadata": {
    "ExecuteTime": {
     "end_time": "2020-03-09T17:27:14.877637Z",
     "start_time": "2020-03-09T17:27:14.872468Z"
    }
   },
   "outputs": [],
   "source": [
    "adult_test.columns = columns"
   ]
  },
  {
   "cell_type": "code",
   "execution_count": 78,
   "metadata": {
    "ExecuteTime": {
     "end_time": "2020-03-09T17:27:15.048113Z",
     "start_time": "2020-03-09T17:27:14.879650Z"
    }
   },
   "outputs": [],
   "source": [
    "#removing end blank spaces\n",
    "df_obj = adult_test.select_dtypes(['object'])\n",
    "adult_test[df_obj.columns] = df_obj.apply(lambda x: x.str.strip())\n",
    "adult_test.loc[adult_test[\"income\"] == \">50K.\", \"income\"] = \">50K\"\n",
    "adult_test.loc[adult_test[\"income\"] == \"<=50K.\", \"income\"] = \"<=50K\""
   ]
  },
  {
   "cell_type": "markdown",
   "metadata": {},
   "source": [
    "### Handling null / missing values"
   ]
  },
  {
   "cell_type": "code",
   "execution_count": 79,
   "metadata": {
    "ExecuteTime": {
     "end_time": "2020-03-09T17:27:15.117004Z",
     "start_time": "2020-03-09T17:27:15.050004Z"
    }
   },
   "outputs": [],
   "source": [
    "adult_test.dropna(inplace = True)\n",
    "adult_test = adult_test.loc[adult_test[\"workingclass\"] !=\"?\"]\n",
    "adult_test = adult_test.loc[adult_test[\"occupation\"] !=\"?\"]\n",
    "adult_test = adult_test.loc[adult_test[\"native-country\"] !=\"?\"]"
   ]
  },
  {
   "cell_type": "markdown",
   "metadata": {},
   "source": [
    "### Encoding features like the training data"
   ]
  },
  {
   "cell_type": "code",
   "execution_count": 80,
   "metadata": {
    "ExecuteTime": {
     "end_time": "2020-03-09T17:27:15.300438Z",
     "start_time": "2020-03-09T17:27:15.122250Z"
    }
   },
   "outputs": [],
   "source": [
    "adult_test[\"capital-net_>0\"] = ((adult_test['capital-gain']- adult_test[\"capital-loss\"]) > 0)*1\n",
    "\n",
    "adult_test.loc[((adult_test[\"workingclass\"] == \"Federal-gov\")| (adult_test[\"workingclass\"] == \"Local-gov\")  |(adult_test[\"workingclass\"] == \"State-gov\")), \"workingclass\"] = \"Govt\"\n",
    "adult_test.loc[((adult_test[\"workingclass\"] == \"Self-emp-inc\")| (adult_test[\"workingclass\"] == \"Self-emp-not-inc\")), \"workingclass\"] = \"Self-emp\"\n",
    "adult_test.loc[((adult_test[\"workingclass\"] == \"Without-pay\")| (adult_test[\"workingclass\"] == \"Never-worked\")), \"workingclass\"]  = \"No-work-inc\"\n",
    "\n",
    "\n",
    "\n",
    "adult_test.loc[((adult_test[\"race\"] == \"Amer-Indian-Eskimo\") | (adult_test[\"race\"] == \"Asian-Pac-Islander\")),  \"race\"] = \"Other\"\n",
    "\n",
    "\n",
    "adult_test.loc[((adult_test[\"marital-status\"] == \"Married-civ-spouse\") | (adult_test[\"marital-status\"] == \"Married-spouse-absent\") | (adult_test[\"marital-status\"] == \"Married-AF-spouse\")) , \"marital-status\"] = \"Married\"\n",
    "adult_test.loc[((adult_test[\"marital-status\"] == \"Widowed\") | (adult_test[\"marital-status\"] == \"Divorced\") | (adult_test[\"marital-status\"] == \"Separated\")) , \"marital-status\"] = \"Not-Married\"\n",
    "\n",
    "\n",
    "adult_test.loc[((adult_test[\"occupation\"] == \"Other-service\") | (adult_test[\"occupation\"] == \"Armed-Forces\") | (adult_test[\"occupation\"] == \"Priv-house-serv\") | (adult_test[\"occupation\"] == \"Protective-serv\")),\"occupation\"] = \"Other\"\n",
    "\n",
    "\n",
    "adult_test.loc[((adult_test[\"native-country\"] != \"United-States\") & (adult_test[\"native-country\"] != \"Mexico\")),\"native-country\"] = \"Other\"\n",
    "\n",
    "adult_test.drop([\"capital-gain\", \"capital-loss\"], axis = 1, inplace =True)\n",
    "\n",
    "adult_test.drop(\"education\", axis = 1, inplace = True)\n",
    "\n",
    "\n",
    "adult_test.drop(\"fnlwgt\", axis = 1, inplace = True)\n",
    "\n",
    "adult_test.drop(\"relationship\", axis = 1, inplace = True)"
   ]
  },
  {
   "cell_type": "code",
   "execution_count": 81,
   "metadata": {
    "ExecuteTime": {
     "end_time": "2020-03-09T17:27:15.338578Z",
     "start_time": "2020-03-09T17:27:15.300438Z"
    }
   },
   "outputs": [],
   "source": [
    "adult_test_new = pd.get_dummies(adult_test)"
   ]
  },
  {
   "cell_type": "code",
   "execution_count": 82,
   "metadata": {
    "ExecuteTime": {
     "end_time": "2020-03-09T17:27:15.392346Z",
     "start_time": "2020-03-09T17:27:15.341670Z"
    }
   },
   "outputs": [],
   "source": [
    "adult_test_new.drop(\"workingclass_No-work-inc\", axis = 1, inplace = True)\n",
    "adult_test_new.drop(\"marital-status_Not-Married\", axis = 1, inplace = True)\n",
    "adult_test_new.drop(\"occupation_Other\", axis = 1, inplace = True)\n",
    "adult_test_new.drop(\"race_Other\", axis = 1, inplace = True)\n",
    "adult_test_new.drop(\"sex_Female\", axis = 1, inplace = True)\n",
    "adult_test_new.drop(\"native-country_Other\", axis = 1, inplace = True)\n",
    "adult_test_new.drop(\"income_<=50K\", axis = 1, inplace = True)"
   ]
  },
  {
   "cell_type": "code",
   "execution_count": 83,
   "metadata": {
    "ExecuteTime": {
     "end_time": "2020-03-09T17:27:15.413671Z",
     "start_time": "2020-03-09T17:27:15.398534Z"
    }
   },
   "outputs": [],
   "source": [
    "X_test = adult_test_new.loc[:, features_selected]\n",
    "y_test = adult_test_new.loc[:, \"income_>50K\"]"
   ]
  },
  {
   "cell_type": "markdown",
   "metadata": {},
   "source": [
    "### Testing the models"
   ]
  },
  {
   "cell_type": "code",
   "execution_count": 84,
   "metadata": {
    "ExecuteTime": {
     "end_time": "2020-03-09T17:27:15.444933Z",
     "start_time": "2020-03-09T17:27:15.421399Z"
    }
   },
   "outputs": [],
   "source": [
    "summary_test = pd.DataFrame(columns = [\"model\", \"accuracy\", \"training time(s)\"], index = None)"
   ]
  },
  {
   "cell_type": "markdown",
   "metadata": {},
   "source": [
    "#### Decision tree"
   ]
  },
  {
   "cell_type": "code",
   "execution_count": 85,
   "metadata": {
    "ExecuteTime": {
     "end_time": "2020-03-09T17:27:15.610298Z",
     "start_time": "2020-03-09T17:27:15.454729Z"
    }
   },
   "outputs": [],
   "source": [
    "tick = time.time()\n",
    "dt.fit(X, y)\n",
    "tock = time.time()\n",
    "dt_score = dt.score(X_test,y_test)"
   ]
  },
  {
   "cell_type": "code",
   "execution_count": 86,
   "metadata": {
    "ExecuteTime": {
     "end_time": "2020-03-09T17:27:15.623493Z",
     "start_time": "2020-03-09T17:27:15.611971Z"
    }
   },
   "outputs": [],
   "source": [
    "summary_test = summary_test.append({\"model\":\"Decision Tree\", \"accuracy\": round(dt_score,2), \"training time(s)\": round((tock - tick),2)}, ignore_index=  True)"
   ]
  },
  {
   "cell_type": "markdown",
   "metadata": {},
   "source": [
    "#### Random Forest"
   ]
  },
  {
   "cell_type": "code",
   "execution_count": 87,
   "metadata": {
    "ExecuteTime": {
     "end_time": "2020-03-09T17:27:18.412043Z",
     "start_time": "2020-03-09T17:27:15.626664Z"
    }
   },
   "outputs": [],
   "source": [
    "tick = time.time()\n",
    "rf.fit(X, y)\n",
    "tock = time.time()\n",
    "rf_score = rf.score(X_test,y_test)"
   ]
  },
  {
   "cell_type": "code",
   "execution_count": 88,
   "metadata": {
    "ExecuteTime": {
     "end_time": "2020-03-09T17:27:18.425530Z",
     "start_time": "2020-03-09T17:27:18.412043Z"
    }
   },
   "outputs": [],
   "source": [
    "summary_test = summary_test.append({\"model\":\"Random Forest\", \"accuracy\": round(rf_score,2), \"training time(s)\": round((tock - tick),2)}, ignore_index=  True)"
   ]
  },
  {
   "cell_type": "markdown",
   "metadata": {},
   "source": [
    "#### AdaBoost Classifier"
   ]
  },
  {
   "cell_type": "code",
   "execution_count": 89,
   "metadata": {
    "ExecuteTime": {
     "end_time": "2020-03-09T17:27:20.162805Z",
     "start_time": "2020-03-09T17:27:18.426997Z"
    }
   },
   "outputs": [],
   "source": [
    "tick = time.time()\n",
    "ada.fit(X,y)\n",
    "tock = time.time()\n",
    "ada_score = ada.score(X_test, y_test)"
   ]
  },
  {
   "cell_type": "code",
   "execution_count": 90,
   "metadata": {
    "ExecuteTime": {
     "end_time": "2020-03-09T17:27:20.177828Z",
     "start_time": "2020-03-09T17:27:20.162805Z"
    }
   },
   "outputs": [],
   "source": [
    "summary_test = summary_test.append({\"model\":\"AdaBoost\", \"accuracy\": round(ada_score,2), \"training time(s)\": round((tock - tick),2)}, ignore_index=  True)"
   ]
  },
  {
   "cell_type": "markdown",
   "metadata": {},
   "source": [
    "#### XGBoost "
   ]
  },
  {
   "cell_type": "code",
   "execution_count": 91,
   "metadata": {
    "ExecuteTime": {
     "end_time": "2020-03-09T17:27:26.900359Z",
     "start_time": "2020-03-09T17:27:20.179636Z"
    }
   },
   "outputs": [],
   "source": [
    "#Training on the training data\n",
    "tick = time.time()\n",
    "xgb.fit(X, y)\n",
    "tock = time.time()\n",
    "xgb_score = xgb.score(X_test, y_test)"
   ]
  },
  {
   "cell_type": "code",
   "execution_count": 92,
   "metadata": {
    "ExecuteTime": {
     "end_time": "2020-03-09T17:27:26.914413Z",
     "start_time": "2020-03-09T17:27:26.903350Z"
    }
   },
   "outputs": [],
   "source": [
    "summary_test = summary_test.append({\"model\":\"XGBoost\", \"accuracy\": round(xgb_score,2), \"training time(s)\": round((tock - tick),2)}, ignore_index=  True)"
   ]
  },
  {
   "cell_type": "markdown",
   "metadata": {},
   "source": [
    "Classifiers which require feature scaling"
   ]
  },
  {
   "cell_type": "code",
   "execution_count": 93,
   "metadata": {
    "ExecuteTime": {
     "end_time": "2020-03-09T17:27:26.934324Z",
     "start_time": "2020-03-09T17:27:26.917188Z"
    }
   },
   "outputs": [],
   "source": [
    "X_test_scaled = scaler.transform(X_test)"
   ]
  },
  {
   "cell_type": "markdown",
   "metadata": {},
   "source": [
    "#### Logistic Regression"
   ]
  },
  {
   "cell_type": "code",
   "execution_count": 94,
   "metadata": {
    "ExecuteTime": {
     "end_time": "2020-03-09T17:27:27.115403Z",
     "start_time": "2020-03-09T17:27:26.936223Z"
    }
   },
   "outputs": [],
   "source": [
    "tick = time.time()\n",
    "lr.fit(X_scaled,y)\n",
    "tock = time.time()\n",
    "lr_score = lr.score(X_test_scaled, y_test)"
   ]
  },
  {
   "cell_type": "code",
   "execution_count": 95,
   "metadata": {
    "ExecuteTime": {
     "end_time": "2020-03-09T17:27:27.129600Z",
     "start_time": "2020-03-09T17:27:27.117724Z"
    }
   },
   "outputs": [],
   "source": [
    "summary_test = summary_test.append({\"model\":\"Logistic Regression\", \"accuracy\": round(lr_score,2), \"training time(s)\": round((tock - tick),2)}, ignore_index=  True)"
   ]
  },
  {
   "cell_type": "markdown",
   "metadata": {},
   "source": [
    "#### SVM"
   ]
  },
  {
   "cell_type": "code",
   "execution_count": 96,
   "metadata": {
    "ExecuteTime": {
     "end_time": "2020-03-09T17:28:11.076397Z",
     "start_time": "2020-03-09T17:27:27.131577Z"
    }
   },
   "outputs": [],
   "source": [
    "tick = time.time()\n",
    "svm.fit(X_scaled, y)\n",
    "tock = time.time()\n",
    "svm_score = svm.score(X_test_scaled, y_test)"
   ]
  },
  {
   "cell_type": "code",
   "execution_count": 97,
   "metadata": {
    "ExecuteTime": {
     "end_time": "2020-03-09T17:28:11.090596Z",
     "start_time": "2020-03-09T17:28:11.077396Z"
    }
   },
   "outputs": [],
   "source": [
    "summary_test = summary_test.append({\"model\":\"SVM\", \"accuracy\": round(svm_score,2), \"training time(s)\": round((tock - tick),2)}, ignore_index=  True)"
   ]
  },
  {
   "cell_type": "markdown",
   "metadata": {},
   "source": [
    "**Test Results** <br>"
   ]
  },
  {
   "cell_type": "code",
   "execution_count": 98,
   "metadata": {
    "ExecuteTime": {
     "end_time": "2020-03-09T17:28:11.107634Z",
     "start_time": "2020-03-09T17:28:11.092587Z"
    }
   },
   "outputs": [
    {
     "data": {
      "text/html": [
       "<div>\n",
       "<style scoped>\n",
       "    .dataframe tbody tr th:only-of-type {\n",
       "        vertical-align: middle;\n",
       "    }\n",
       "\n",
       "    .dataframe tbody tr th {\n",
       "        vertical-align: top;\n",
       "    }\n",
       "\n",
       "    .dataframe thead th {\n",
       "        text-align: right;\n",
       "    }\n",
       "</style>\n",
       "<table border=\"1\" class=\"dataframe\">\n",
       "  <thead>\n",
       "    <tr style=\"text-align: right;\">\n",
       "      <th></th>\n",
       "      <th>model</th>\n",
       "      <th>accuracy</th>\n",
       "      <th>training time(s)</th>\n",
       "    </tr>\n",
       "  </thead>\n",
       "  <tbody>\n",
       "    <tr>\n",
       "      <th>0</th>\n",
       "      <td>Decision Tree</td>\n",
       "      <td>0.83</td>\n",
       "      <td>0.13</td>\n",
       "    </tr>\n",
       "    <tr>\n",
       "      <th>1</th>\n",
       "      <td>Random Forest</td>\n",
       "      <td>0.84</td>\n",
       "      <td>2.40</td>\n",
       "    </tr>\n",
       "    <tr>\n",
       "      <th>2</th>\n",
       "      <td>AdaBoost</td>\n",
       "      <td>0.83</td>\n",
       "      <td>1.50</td>\n",
       "    </tr>\n",
       "    <tr>\n",
       "      <th>3</th>\n",
       "      <td>XGBoost</td>\n",
       "      <td>0.84</td>\n",
       "      <td>6.57</td>\n",
       "    </tr>\n",
       "    <tr>\n",
       "      <th>4</th>\n",
       "      <td>Logistic Regression</td>\n",
       "      <td>0.83</td>\n",
       "      <td>0.17</td>\n",
       "    </tr>\n",
       "    <tr>\n",
       "      <th>5</th>\n",
       "      <td>SVM</td>\n",
       "      <td>0.83</td>\n",
       "      <td>34.04</td>\n",
       "    </tr>\n",
       "  </tbody>\n",
       "</table>\n",
       "</div>"
      ],
      "text/plain": [
       "                 model  accuracy  training time(s)\n",
       "0        Decision Tree      0.83              0.13\n",
       "1        Random Forest      0.84              2.40\n",
       "2             AdaBoost      0.83              1.50\n",
       "3              XGBoost      0.84              6.57\n",
       "4  Logistic Regression      0.83              0.17\n",
       "5                  SVM      0.83             34.04"
      ]
     },
     "execution_count": 98,
     "metadata": {},
     "output_type": "execute_result"
    }
   ],
   "source": [
    "summary_test"
   ]
  },
  {
   "cell_type": "markdown",
   "metadata": {},
   "source": [
    "**Observations:** <br>\n",
    "- We get excellent results from the test data set\n",
    "- XGBoost / Random Forest give the best accuracy \n",
    "- Logistic Regression / Decision Tree can be used for interpretation\n",
    "- Almost all the models run very fast and are scalable for larger datasets. SVM runs the slowest as compared to others"
   ]
  },
  {
   "cell_type": "markdown",
   "metadata": {},
   "source": [
    "# Future Scope"
   ]
  },
  {
   "cell_type": "markdown",
   "metadata": {},
   "source": [
    "- **More Questions:** Census data has a lot of scope to answer diverse questions based on different needs and purpose\n",
    "- **More Analysis:** More analysis can be done by occupations, marital status or working-class to understand the data more\n",
    "- **Better Feature Engineering:** Though a lot of work was done to engineer features, there lies a scope for betterment \n",
    "- **Improvements in the Predictive Models:** Algorithms tried are fine-tuned using a combination of parameters. However, further improvement can be done using parameter selection algorithms like GridSearchCV which can give the best parameters from a wider range \n",
    "- **Statistical tests** can be carried out for comparing factors affecting potential investors and other population \n",
    "- **Functional code:** All the code can be written in a functional form which we can parametrize for reusability "
   ]
  }
 ],
 "metadata": {
  "kernelspec": {
   "display_name": "Python 3",
   "language": "python",
   "name": "python3"
  },
  "language_info": {
   "codemirror_mode": {
    "name": "ipython",
    "version": 3
   },
   "file_extension": ".py",
   "mimetype": "text/x-python",
   "name": "python",
   "nbconvert_exporter": "python",
   "pygments_lexer": "ipython3",
   "version": "3.7.6"
  },
  "toc": {
   "base_numbering": 1,
   "nav_menu": {},
   "number_sections": true,
   "sideBar": true,
   "skip_h1_title": false,
   "title_cell": "Table of Contents",
   "title_sidebar": "Contents",
   "toc_cell": false,
   "toc_position": {
    "height": "calc(100% - 180px)",
    "left": "10px",
    "top": "150px",
    "width": "307.2px"
   },
   "toc_section_display": true,
   "toc_window_display": true
  }
 },
 "nbformat": 4,
 "nbformat_minor": 2
}
